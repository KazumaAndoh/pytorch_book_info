{
 "cells": [
  {
   "cell_type": "markdown",
   "metadata": {
    "id": "-sq7LWW1GyMr"
   },
   "source": [
    "# 9章　MNISTを使った数字認識"
   ]
  },
  {
   "cell_type": "code",
   "execution_count": 1,
   "metadata": {
    "colab": {
     "base_uri": "https://localhost:8080/"
    },
    "id": "m4NAwf20QRbN",
    "outputId": "e87bf4e7-e68c-4c6e-fbbf-532c8a77a9dd"
   },
   "outputs": [
    {
     "name": "stdout",
     "output_type": "stream",
     "text": [
      "Requirement already satisfied: setuptools in /opt/anaconda3/lib/python3.7/site-packages (from kiwisolver>=1.0.1->matplotlib->japanize_matplotlib) (46.0.0.post20200309)\n",
      "Requirement already satisfied: numpy in /opt/anaconda3/lib/python3.7/site-packages (from torch->torchviz) (1.18.1)\n"
     ]
    }
   ],
   "source": [
    "# 必要ライブラリの導入\n",
    "\n",
    "!pip install japanize_matplotlib | tail -n 1\n",
    "!pip install torchviz | tail -n 1"
   ]
  },
  {
   "cell_type": "code",
   "execution_count": 2,
   "metadata": {
    "id": "wIKc0rgJQRbQ"
   },
   "outputs": [],
   "source": [
    "# 必要ライブラリのインポート\n",
    "\n",
    "%matplotlib inline\n",
    "import numpy as np\n",
    "import matplotlib.pyplot as plt\n",
    "import japanize_matplotlib"
   ]
  },
  {
   "cell_type": "code",
   "execution_count": 3,
   "metadata": {
    "id": "R4AKptKEQRbQ"
   },
   "outputs": [],
   "source": [
    "# torch関連ライブラリのインポート\n",
    "\n",
    "import torch\n",
    "import torch.nn as nn\n",
    "import torch.optim as optim\n",
    "from torchsummary import summary\n",
    "from torchviz import make_dot"
   ]
  },
  {
   "cell_type": "code",
   "execution_count": 4,
   "metadata": {
    "id": "OaJvhUX1QRbR"
   },
   "outputs": [],
   "source": [
    "# warning表示off\n",
    "import warnings\n",
    "warnings.simplefilter('ignore')\n",
    "\n",
    "# デフォルトフォントサイズ変更\n",
    "plt.rcParams['font.size'] = 14\n",
    "\n",
    "# デフォルトグラフサイズ変更\n",
    "plt.rcParams['figure.figsize'] = (6,6)\n",
    "\n",
    "# デフォルトで方眼表示ON\n",
    "plt.rcParams['axes.grid'] = True\n",
    "\n",
    "# numpyの表示桁数設定\n",
    "np.set_printoptions(suppress=True, precision=5)"
   ]
  },
  {
   "cell_type": "markdown",
   "metadata": {
    "id": "-vlvZjd_y8fw"
   },
   "source": [
    "## 9.3 ReLU関数"
   ]
  },
  {
   "cell_type": "code",
   "execution_count": null,
   "metadata": {},
   "outputs": [],
   "source": [
    "# ReLU関数のグラフ\n",
    "\n",
    "relu = nn.ReLU()\n",
    "x_np = np.arange(-2, 2.1, 0.25)\n",
    "x = torch.tensor(x_np).float()\n",
    "y = relu(x)\n",
    "\n",
    "plt.plot(x.data, y.data)\n",
    "plt.title('ReLU関数')\n",
    "plt.show()"
   ]
  },
  {
   "cell_type": "markdown",
   "metadata": {
    "id": "JuXnWk6jtpfW"
   },
   "source": [
    "## 8.4 GPU利用"
   ]
  },
  {
   "cell_type": "markdown",
   "metadata": {
    "id": "G9dK3ibfzWDW"
   },
   "source": [
    "### GPUチェック"
   ]
  },
  {
   "cell_type": "code",
   "execution_count": 6,
   "metadata": {
    "colab": {
     "base_uri": "https://localhost:8080/"
    },
    "id": "-vMUHy9RGyNB",
    "outputId": "63134dc3-d48b-4075-ec6f-789ec6444d09"
   },
   "outputs": [
    {
     "name": "stdout",
     "output_type": "stream",
     "text": [
      "cpu\n"
     ]
    }
   ],
   "source": [
    "# デバイスの割り当て\n",
    "device = torch.device(\"cuda:0\" if torch.cuda.is_available() else \"cpu\")\n",
    "print(device)"
   ]
  },
  {
   "cell_type": "code",
   "execution_count": 7,
   "metadata": {
    "colab": {
     "base_uri": "https://localhost:8080/"
    },
    "id": "Z-koKiUTy8fx",
    "outputId": "6159cee8-f205-4884-dfce-2a5369582a49"
   },
   "outputs": [
    {
     "name": "stdout",
     "output_type": "stream",
     "text": [
      "tensor([ 2.0000,  1.3125,  0.7500,  0.3125, -0.0000, -0.1875, -0.2500, -0.1875,\n",
      "         0.0000,  0.3125,  0.7500,  1.3125,  2.0000,  2.8125,  3.7500,  4.8125,\n",
      "         6.0000])\n"
     ]
    }
   ],
   "source": [
    "# テスト用tensor変数x , y \n",
    "x_np = np.arange(-2.0, 2.1, 0.25)\n",
    "y_np = np.arange(-1.0, 3.1, 0.25)\n",
    "x = torch.tensor(x_np).float()\n",
    "y = torch.tensor(y_np).float()\n",
    "\n",
    "# xとyの間の演算\n",
    "z = x * y\n",
    "print(z)"
   ]
  },
  {
   "cell_type": "code",
   "execution_count": 8,
   "metadata": {
    "colab": {
     "base_uri": "https://localhost:8080/"
    },
    "id": "1-VBUQL135T3",
    "outputId": "124cd998-2cf1-4da4-9a3f-463cb760ea3b"
   },
   "outputs": [
    {
     "name": "stdout",
     "output_type": "stream",
     "text": [
      "x:  cpu\n",
      "y:  cpu\n"
     ]
    }
   ],
   "source": [
    "# 変数xをGPUに送る\n",
    "x = x.to(device)\n",
    "\n",
    "# 変数xとyの属性data, deviceの確認\n",
    "print('x: ', x.device)\n",
    "print('y: ', y.device)"
   ]
  },
  {
   "cell_type": "code",
   "execution_count": 9,
   "metadata": {
    "colab": {
     "base_uri": "https://localhost:8080/",
     "height": 205
    },
    "id": "ovOqHX2735yN",
    "outputId": "858f92d7-56ac-4089-d839-7363b945112d"
   },
   "outputs": [],
   "source": [
    "# この状態でxとyの演算をすると。。。\n",
    "\n",
    "z = x * y"
   ]
  },
  {
   "cell_type": "code",
   "execution_count": 10,
   "metadata": {
    "colab": {
     "base_uri": "https://localhost:8080/"
    },
    "id": "qavPREnP359u",
    "outputId": "3f68a06b-f48d-4cd9-b4dc-8eb8bb3abb31"
   },
   "outputs": [
    {
     "name": "stdout",
     "output_type": "stream",
     "text": [
      "tensor([ 2.0000,  1.3125,  0.7500,  0.3125, -0.0000, -0.1875, -0.2500, -0.1875,\n",
      "         0.0000,  0.3125,  0.7500,  1.3125,  2.0000,  2.8125,  3.7500,  4.8125,\n",
      "         6.0000])\n"
     ]
    }
   ],
   "source": [
    "# yもGPUに送る\n",
    "y = y.to(device)\n",
    "\n",
    "# 今度は計算可能になる\n",
    "z = x * y\n",
    "print(z)"
   ]
  },
  {
   "cell_type": "markdown",
   "metadata": {
    "id": "7S2H468hORq2"
   },
   "source": [
    "## 9.8 データ準備1 (DataSetによる読み込み)"
   ]
  },
  {
   "cell_type": "code",
   "execution_count": 11,
   "metadata": {
    "id": "DwHxHenWORq3"
   },
   "outputs": [],
   "source": [
    "# !rm -rf ./data"
   ]
  },
  {
   "cell_type": "code",
   "execution_count": 12,
   "metadata": {
    "colab": {
     "base_uri": "https://localhost:8080/",
     "height": 372,
     "referenced_widgets": [
      "aa8998c2fef14077871d211ee1173f56",
      "4771419654244035972f210b278ff6a3",
      "52d574f49b8248f6ae316222559790bd",
      "8a1c9810adbc4640bfa5ebcfaff9da1b",
      "92e33fd0bf164367b89ae88772bd81bb",
      "fa6630fc75cf4c7ca9c9d006ba344623",
      "1842b3e5be23460aac3e33cc2f32cc59",
      "ccf31c0111574a8c9b5bc3c653a48b8d",
      "d8601209ac724286ac1c37961478dd0e",
      "d765e8ca4e8d4b68a8788ae2b705f5f8",
      "db74511d71b44126b00002a668f37a4d",
      "746a0e05570c4808a6c26203c944d172",
      "6186ed816418452bb2fb814b7aafe170",
      "02e03c7886a74a46896e97482ee9de76",
      "edf8fed933b948b69fad24ed843b6859",
      "b76a6575d7214c9b9449b0154d6fee1c",
      "89fac96688e0411b913b9be124526412",
      "a621b198c3a243ee8966f38438e26007",
      "9926c28bda0544b9b775e17f94764d88",
      "359b679985c04417a76a7df5414d6974",
      "5517ce3a3e84498f88f4fea1fa37df56",
      "ba105c2cf3c248b8910838155624d586",
      "d4259053fe3b49838dbd4d146bf8277d",
      "6a78e9217e7c4ca4a780789bb318d085",
      "45d94949ba84422da3d1c48c629015d9",
      "ba4397c1af1646d88cbf7bfb3d4efc30",
      "e8e98489053c413ab4b6e59a1e629fea",
      "afc03f251132407fbe9630508770222f",
      "1beb52673f484045a7d3b8a2091c4e1c",
      "f6c15593bda249b6ac13a816c8400f10",
      "32d476d4d85d4d4e94e95cbb91094ed4",
      "b2a32a87ecea46c1af75c871920f9c3e"
     ]
    },
    "id": "nbjBR_ZAORq3",
    "outputId": "a4f3a56a-5f53-493e-981c-eb5b9507cf77"
   },
   "outputs": [
    {
     "name": "stdout",
     "output_type": "stream",
     "text": [
      "Downloading http://yann.lecun.com/exdb/mnist/train-images-idx3-ubyte.gz to ./data/MNIST/raw/train-images-idx3-ubyte.gz\n"
     ]
    },
    {
     "data": {
      "application/vnd.jupyter.widget-view+json": {
       "model_id": "aa8998c2fef14077871d211ee1173f56",
       "version_major": 2,
       "version_minor": 0
      },
      "text/plain": [
       "HBox(children=(FloatProgress(value=1.0, bar_style='info', max=1.0), HTML(value='')))"
      ]
     },
     "metadata": {
      "tags": []
     },
     "output_type": "display_data"
    },
    {
     "name": "stdout",
     "output_type": "stream",
     "text": [
      "Extracting ./data/MNIST/raw/train-images-idx3-ubyte.gz to ./data/MNIST/raw\n",
      "Downloading http://yann.lecun.com/exdb/mnist/train-labels-idx1-ubyte.gz to ./data/MNIST/raw/train-labels-idx1-ubyte.gz\n"
     ]
    },
    {
     "data": {
      "application/vnd.jupyter.widget-view+json": {
       "model_id": "d8601209ac724286ac1c37961478dd0e",
       "version_major": 2,
       "version_minor": 0
      },
      "text/plain": [
       "HBox(children=(FloatProgress(value=1.0, bar_style='info', max=1.0), HTML(value='')))"
      ]
     },
     "metadata": {
      "tags": []
     },
     "output_type": "display_data"
    },
    {
     "name": "stdout",
     "output_type": "stream",
     "text": [
      "Extracting ./data/MNIST/raw/train-labels-idx1-ubyte.gz to ./data/MNIST/raw\n",
      "Downloading http://yann.lecun.com/exdb/mnist/t10k-images-idx3-ubyte.gz to ./data/MNIST/raw/t10k-images-idx3-ubyte.gz\n"
     ]
    },
    {
     "data": {
      "application/vnd.jupyter.widget-view+json": {
       "model_id": "89fac96688e0411b913b9be124526412",
       "version_major": 2,
       "version_minor": 0
      },
      "text/plain": [
       "HBox(children=(FloatProgress(value=1.0, bar_style='info', max=1.0), HTML(value='')))"
      ]
     },
     "metadata": {
      "tags": []
     },
     "output_type": "display_data"
    },
    {
     "name": "stdout",
     "output_type": "stream",
     "text": [
      "Extracting ./data/MNIST/raw/t10k-images-idx3-ubyte.gz to ./data/MNIST/raw\n",
      "Downloading http://yann.lecun.com/exdb/mnist/t10k-labels-idx1-ubyte.gz to ./data/MNIST/raw/t10k-labels-idx1-ubyte.gz\n",
      "\n",
      "\n",
      "\n"
     ]
    },
    {
     "data": {
      "application/vnd.jupyter.widget-view+json": {
       "model_id": "45d94949ba84422da3d1c48c629015d9",
       "version_major": 2,
       "version_minor": 0
      },
      "text/plain": [
       "HBox(children=(FloatProgress(value=1.0, bar_style='info', max=1.0), HTML(value='')))"
      ]
     },
     "metadata": {
      "tags": []
     },
     "output_type": "display_data"
    },
    {
     "name": "stdout",
     "output_type": "stream",
     "text": [
      "Extracting ./data/MNIST/raw/t10k-labels-idx1-ubyte.gz to ./data/MNIST/raw\n",
      "Processing...\n",
      "Done!\n"
     ]
    }
   ],
   "source": [
    "# ライブラリインポート\n",
    "import torchvision.datasets as datasets\n",
    "\n",
    "train_set0 = datasets.MNIST(\n",
    "    # 元データダウンロード先の指定\n",
    "    root='./data',  \n",
    "    # 訓練データか検証データか\n",
    "    train=True,  \n",
    "    # 元データがない場合にダウンロードするか\n",
    "    download=True)"
   ]
  },
  {
   "cell_type": "code",
   "execution_count": 13,
   "metadata": {
    "colab": {
     "base_uri": "https://localhost:8080/"
    },
    "id": "KwX_kwB9ORq4",
    "outputId": "76eb3c0d-ba14-4610-8198-4b7c7abd0cc6"
   },
   "outputs": [
    {
     "name": "stdout",
     "output_type": "stream",
     "text": [
      "./data:\n",
      "total 4\n",
      "drwxr-xr-x 4 root root 4096 Feb 14 02:51 MNIST\n",
      "\n",
      "./data/MNIST:\n",
      "total 8\n",
      "drwxr-xr-x 2 root root 4096 Feb 14 02:51 processed\n",
      "drwxr-xr-x 2 root root 4096 Feb 14 02:51 raw\n",
      "\n",
      "./data/MNIST/processed:\n",
      "total 54148\n",
      "-rw-r--r-- 1 root root  7921081 Feb 14 02:51 test.pt\n",
      "-rw-r--r-- 1 root root 47521081 Feb 14 02:51 training.pt\n",
      "\n",
      "./data/MNIST/raw:\n",
      "total 65008\n",
      "-rw-r--r-- 1 root root  7840016 Feb 14 02:51 t10k-images-idx3-ubyte\n",
      "-rw-r--r-- 1 root root  1648877 Feb 14 02:51 t10k-images-idx3-ubyte.gz\n",
      "-rw-r--r-- 1 root root    10008 Feb 14 02:51 t10k-labels-idx1-ubyte\n",
      "-rw-r--r-- 1 root root     4542 Feb 14 02:51 t10k-labels-idx1-ubyte.gz\n",
      "-rw-r--r-- 1 root root 47040016 Feb 14 02:51 train-images-idx3-ubyte\n",
      "-rw-r--r-- 1 root root  9912422 Feb 14 02:51 train-images-idx3-ubyte.gz\n",
      "-rw-r--r-- 1 root root    60008 Feb 14 02:51 train-labels-idx1-ubyte\n",
      "-rw-r--r-- 1 root root    28881 Feb 14 02:51 train-labels-idx1-ubyte.gz\n"
     ]
    }
   ],
   "source": [
    "# 読み込みデータの確認\n",
    "!ls -lR ./data"
   ]
  },
  {
   "cell_type": "markdown",
   "metadata": {
    "id": "QIyT0iW_ORq4"
   },
   "source": [
    "### train_set0の確認"
   ]
  },
  {
   "cell_type": "code",
   "execution_count": 14,
   "metadata": {
    "colab": {
     "base_uri": "https://localhost:8080/"
    },
    "id": "6Au-wniOORq4",
    "outputId": "25b3d18d-4733-41f4-e55e-62d3f0e9e165"
   },
   "outputs": [
    {
     "name": "stdout",
     "output_type": "stream",
     "text": [
      "データ件数:  60000\n",
      "入力データの型:  <class 'PIL.Image.Image'>\n",
      "正解ラベルの型:  <class 'int'>\n"
     ]
    }
   ],
   "source": [
    "# データ件数の確認\n",
    "print('データ件数: ', len(train_set0))\n",
    "\n",
    "# 最初の要素の取得\n",
    "image, label = train_set0[0]\n",
    "\n",
    "# データ型の確認\n",
    "print('入力データの型: ', type(image))\n",
    "print('正解ラベルの型: ', type(label))"
   ]
  },
  {
   "cell_type": "code",
   "execution_count": 15,
   "metadata": {
    "colab": {
     "base_uri": "https://localhost:8080/",
     "height": 103
    },
    "id": "zax7TjeCORq5",
    "outputId": "48d59522-9a26-4be6-ac85-73d8ebad8471"
   },
   "outputs": [
    {
     "data": {
      "image/png": "[encoded data removed]",
      "text/plain": [
       "<Figure size 72x72 with 1 Axes>"
      ]
     },
     "metadata": {
      "needs_background": "light",
      "tags": []
     },
     "output_type": "display_data"
    }
   ],
   "source": [
    "# 入力データの画像表示\n",
    "\n",
    "plt.figure(figsize=(1,1))\n",
    "plt.title(f'{label}')\n",
    "plt.imshow(image, cmap='gray_r')\n",
    "plt.axis('off')\n",
    "plt.show()"
   ]
  },
  {
   "cell_type": "code",
   "execution_count": 16,
   "metadata": {
    "colab": {
     "base_uri": "https://localhost:8080/",
     "height": 190
    },
    "id": "O6Bc27OgORq5",
    "outputId": "86279031-681e-4429-cf5b-0f539bb77307"
   },
   "outputs": [
    {
     "data": {
      "image/png": "[encoded data removed]",
      "text/plain": [
       "<Figure size 720x216 with 20 Axes>"
      ]
     },
     "metadata": {
      "needs_background": "light",
      "tags": []
     },
     "output_type": "display_data"
    }
   ],
   "source": [
    "# 正解ラベル付きで、最初の20個をイメージ表示\n",
    "\n",
    "plt.figure(figsize=(10, 3))\n",
    "for i in range(20):\n",
    "    ax = plt.subplot(2, 10, i + 1)\n",
    "    \n",
    "    # image と labelの取得\n",
    "    image, label = train_set0[i]\n",
    "    \n",
    "    # イメージ表示\n",
    "    plt.imshow(image, cmap='gray_r')\n",
    "    ax.set_title(f'{label}')\n",
    "    ax.get_xaxis().set_visible(False)\n",
    "    ax.get_yaxis().set_visible(False)\n",
    "plt.show()\n"
   ]
  },
  {
   "cell_type": "markdown",
   "metadata": {
    "id": "H69fmQI0ORq6"
   },
   "source": [
    "## 9.9 データ準備2 (Transformによるデータ前処理)"
   ]
  },
  {
   "cell_type": "markdown",
   "metadata": {
    "id": "8_LMC1gpORq6"
   },
   "source": [
    "### Step1 ToTensorの利用"
   ]
  },
  {
   "cell_type": "code",
   "execution_count": 17,
   "metadata": {
    "id": "1JBDhjnIORq6"
   },
   "outputs": [],
   "source": [
    "# ライブラリインポート\n",
    "import torchvision.transforms as transforms\n",
    "\n",
    "transform1 = transforms.Compose([\n",
    "    # データのTensor化\n",
    "    transforms.ToTensor(),\n",
    "])\n",
    "\n",
    "train_set1 = datasets.MNIST(\n",
    "    root='./data',  train=True,  download=True,\n",
    "    transform = transform1)"
   ]
  },
  {
   "cell_type": "code",
   "execution_count": 18,
   "metadata": {
    "colab": {
     "base_uri": "https://localhost:8080/"
    },
    "id": "fHERq6bDORq6",
    "outputId": "85683d0f-ff7d-4f36-b9c7-271370153712"
   },
   "outputs": [
    {
     "name": "stdout",
     "output_type": "stream",
     "text": [
      "入力データの型:  <class 'torch.Tensor'>\n",
      "入力データのshape:  torch.Size([1, 28, 28])\n",
      "最小値:  tensor(0.)\n",
      "最大値:  tensor(1.)\n"
     ]
    }
   ],
   "source": [
    "# 変換結果の確認\n",
    "\n",
    "image, label = train_set1[0]\n",
    "print('入力データの型: ', type(image))\n",
    "print('入力データのshape: ', image.shape)\n",
    "print('最小値: ', image.data.min())\n",
    "print('最大値: ', image.data.max())"
   ]
  },
  {
   "cell_type": "markdown",
   "metadata": {
    "id": "Vc0HYDp_ORq7"
   },
   "source": [
    "### Step2 Normalizeの利用"
   ]
  },
  {
   "cell_type": "code",
   "execution_count": 19,
   "metadata": {
    "id": "EGCtROV8ORq7"
   },
   "outputs": [],
   "source": [
    "transform2 = transforms.Compose([\n",
    "    # データのTensor化\n",
    "    transforms.ToTensor(),\n",
    "    \n",
    "    # データの正規化\n",
    "    transforms.Normalize(0.5,  0.5 ),\n",
    "])\n",
    "\n",
    "train_set2 = datasets.MNIST(\n",
    "    root='./data',  train=True,  download=True,\n",
    "    transform = transform2)"
   ]
  },
  {
   "cell_type": "code",
   "execution_count": 20,
   "metadata": {
    "colab": {
     "base_uri": "https://localhost:8080/"
    },
    "id": "y0R6AO1BORq7",
    "outputId": "f8a551f6-00cf-40ec-92f0-c4db8201d83f"
   },
   "outputs": [
    {
     "name": "stdout",
     "output_type": "stream",
     "text": [
      "shape:  torch.Size([1, 28, 28])\n",
      "最小値:  tensor(-1.)\n",
      "最大値:  tensor(1.)\n"
     ]
    }
   ],
   "source": [
    "# 変換結果の確認\n",
    "\n",
    "image, label = train_set2[0]\n",
    "print('shape: ', image.shape)\n",
    "print('最小値: ', image.data.min())\n",
    "print('最大値: ', image.data.max())"
   ]
  },
  {
   "cell_type": "markdown",
   "metadata": {
    "id": "C3cZ9aT9ORq8"
   },
   "source": [
    "### Step3 Lambdaを利用して1次元化¶"
   ]
  },
  {
   "cell_type": "code",
   "execution_count": 21,
   "metadata": {
    "id": "jsZ1B1MXORq8"
   },
   "outputs": [],
   "source": [
    "transform3 = transforms.Compose([\n",
    "    # データのTensor化\n",
    "    transforms.ToTensor(),\n",
    "    \n",
    "    # データの正規化\n",
    "    transforms.Normalize(0.5, 0.5),\n",
    "    \n",
    "    # Tensorの1次元化\n",
    "    transforms.Lambda(lambda x: x.view(-1)),\n",
    "])\n",
    "\n",
    "train_set3 = datasets.MNIST(\n",
    "    root='./data',  train=True,  download=True,\n",
    "    transform = transform3)"
   ]
  },
  {
   "cell_type": "code",
   "execution_count": 22,
   "metadata": {
    "colab": {
     "base_uri": "https://localhost:8080/"
    },
    "id": "kQFnaPTnORq8",
    "outputId": "4e6cbf61-38b9-44a2-d4d5-eee508000a8a"
   },
   "outputs": [
    {
     "name": "stdout",
     "output_type": "stream",
     "text": [
      "shape:  torch.Size([784])\n",
      "最小値:  tensor(-1.)\n",
      "最大値:  tensor(1.)\n"
     ]
    }
   ],
   "source": [
    "# 変換結果の確認\n",
    "\n",
    "image, label = train_set3[0]\n",
    "print('shape: ', image.shape)\n",
    "print('最小値: ', image.data.min())\n",
    "print('最大値: ', image.data.max())"
   ]
  },
  {
   "cell_type": "markdown",
   "metadata": {
    "id": "Lm2hP2TtORq9"
   },
   "source": [
    "### 最終的な実装"
   ]
  },
  {
   "cell_type": "code",
   "execution_count": 23,
   "metadata": {
    "id": "3LuXsts3ORq9"
   },
   "outputs": [],
   "source": [
    "# データ変換用関数 Transformer\n",
    "#  (1) ImageをTensor化\n",
    "#  (2) [0, 1]の範囲の値を[-1, 1]の範囲に変換する\n",
    "# (3) データのshapeを(1, 28, 28)の3次元から(784,)の1次元の変換\n",
    "\n",
    "transform = transforms.Compose([\n",
    "    # データのTensor化\n",
    "    transforms.ToTensor(),\n",
    "    \n",
    "    # データの正規化\n",
    "    transforms.Normalize(0.5, 0.5),\n",
    "    \n",
    "    # Tensorの1次元化\n",
    "    transforms.Lambda(lambda x: x.view(-1)),\n",
    "])"
   ]
  },
  {
   "cell_type": "code",
   "execution_count": 24,
   "metadata": {
    "id": "3gEppo6VORq9"
   },
   "outputs": [],
   "source": [
    "# データ取得用関数 DataSet\n",
    "\n",
    "# 訓練用データセットの定義\n",
    "train_set = datasets.MNIST(\n",
    "    root='./data', \n",
    "    train=True,\n",
    "    download=True,\n",
    "    transform=transform)\n",
    "\n",
    "# 検証データセットの定義\n",
    "test_set = datasets.MNIST(\n",
    "    root='./data', \n",
    "    train=False, \n",
    "    download=True, \n",
    "    transform=transform)"
   ]
  },
  {
   "cell_type": "markdown",
   "metadata": {
    "id": "oE2YPjEFORq-"
   },
   "source": [
    "## 9.10 データ準備3 (DataLoaderによるミニバッチ用データ生成)"
   ]
  },
  {
   "cell_type": "code",
   "execution_count": 25,
   "metadata": {
    "id": "c5Jog4MHORq-"
   },
   "outputs": [],
   "source": [
    "# ライブラリインポート\n",
    "from torch.utils.data import DataLoader\n",
    "\n",
    "# ミニバッチのサイズ指定\n",
    "batch_size = 512\n",
    "\n",
    "# 訓練用データローダー\n",
    "# 訓練用なので、シャッフルをかける\n",
    "train_loader = DataLoader(\n",
    "    train_set, \n",
    "    batch_size=batch_size, \n",
    "    shuffle=True)\n",
    "\n",
    "# 検証用データローダー\n",
    "# 検証時にシャッフルは不要\n",
    "test_loader = DataLoader(\n",
    "    test_set,  \n",
    "    batch_size=batch_size, \n",
    "    shuffle=False) "
   ]
  },
  {
   "cell_type": "code",
   "execution_count": 43,
   "metadata": {
    "colab": {
     "base_uri": "https://localhost:8080/"
    },
    "id": "xpWvs4n9ORq-",
    "outputId": "e2de8970-b7b2-4391-8234-d2c5cab463f1"
   },
   "outputs": [
    {
     "name": "stdout",
     "output_type": "stream",
     "text": [
      "118\n",
      "torch.Size([512, 784])\n",
      "torch.Size([512])\n"
     ]
    }
   ],
   "source": [
    "# 何組のデータが取得できるか\n",
    "print(len(train_loader))\n",
    "\n",
    "# DataLoaderから最初の1セットを取得する\n",
    "for images, labels in train_loader:\n",
    "    break\n",
    "\n",
    "print(images.shape)\n",
    "print(labels.shape)"
   ]
  },
  {
   "cell_type": "code",
   "execution_count": 27,
   "metadata": {
    "colab": {
     "base_uri": "https://localhost:8080/",
     "height": 190
    },
    "id": "uIk15hXpORq_",
    "outputId": "a889e0ed-d658-43cf-c1ec-b963412b1b30"
   },
   "outputs": [
    {
     "data": {
      "image/png": "[encoded data removed]",
      "text/plain": [
       "<Figure size 720x216 with 20 Axes>"
      ]
     },
     "metadata": {
      "needs_background": "light",
      "tags": []
     },
     "output_type": "display_data"
    }
   ],
   "source": [
    "# イメージ表示\n",
    "plt.figure(figsize=(10, 3))\n",
    "for i in range(20):\n",
    "    ax = plt.subplot(2, 10, i + 1)\n",
    "    \n",
    "    # numpyに変換\n",
    "    image = images[i].numpy()\n",
    "    label = labels[i]\n",
    "    \n",
    "    # imgの範囲を[0, 1]に戻す\n",
    "    image2 = (image + 1)/ 2\n",
    "    \n",
    "    # イメージ表示\n",
    "    plt.imshow(image2.reshape(28, 28),cmap='gray_r')\n",
    "    ax.set_title(f'{label}')\n",
    "    ax.get_xaxis().set_visible(False)\n",
    "    ax.get_yaxis().set_visible(False)\n",
    "plt.show()"
   ]
  },
  {
   "cell_type": "markdown",
   "metadata": {
    "id": "C68aEOhrGyNA"
   },
   "source": [
    "全体で10000件ある学習データが512個のグループに分割されて取得できていることがわかる。  \n",
    "今回はテスト用でシャッフルなしでデータを取得したが、訓練用データは取得のたびにシャッフルがかかる。  \n",
    "つまり、ミニバッチ用のデータセットが自動的に取得できていることになる。"
   ]
  },
  {
   "cell_type": "markdown",
   "metadata": {
    "id": "ZBHL-ynpTx6X"
   },
   "source": [
    "## 9.11 モデル定義"
   ]
  },
  {
   "cell_type": "code",
   "execution_count": null,
   "metadata": {
    "id": "dgiOqAw1ORrA"
   },
   "outputs": [],
   "source": [
    "# どこに置くか要検討 (2-13 11:00)\n",
    "\n",
    "# 分類先クラス一覧\n",
    "#classes = tuple(np.linspace(0, 9, 10, dtype=np.uint8))"
   ]
  },
  {
   "cell_type": "code",
   "execution_count": 44,
   "metadata": {
    "colab": {
     "base_uri": "https://localhost:8080/"
    },
    "id": "uIXhfySWTx6Y",
    "outputId": "12835f01-9d0b-4546-c92f-04c0d32c8e4e"
   },
   "outputs": [
    {
     "name": "stdout",
     "output_type": "stream",
     "text": [
      "n_input: 784  n_hidden: 128 n_output: 10\n"
     ]
    }
   ],
   "source": [
    "# 入力次元数\n",
    "n_input = image.shape[0]\n",
    "\n",
    "# 出力次元数\n",
    "# 分類先クラス数　今回は10になる\n",
    "n_output = len(set(list(labels.data.numpy())))\n",
    "\n",
    "#   隠れ層のノード数\n",
    "n_hidden = 128\n",
    "\n",
    "# 結果確認\n",
    "print(f'n_input: {n_input}  n_hidden: {n_hidden} n_output: {n_output}')"
   ]
  },
  {
   "cell_type": "code",
   "execution_count": 45,
   "metadata": {
    "id": "GIHt22OFGyNC"
   },
   "outputs": [],
   "source": [
    "# モデルの定義\n",
    "# 784入力10出力1隠れ層のニューラルネットワークモデル\n",
    "\n",
    "class Net(nn.Module):\n",
    "    def __init__(self, n_input, n_output, n_hidden):\n",
    "        super().__init__()\n",
    "\n",
    "        # 隠れ層の定義 (隠れ層のノード数: n_hidden)\n",
    "        self.l1 = nn.Linear(n_input, n_hidden)\n",
    "\n",
    "        # 出力層の定義\n",
    "        self.l2 = nn.Linear(n_hidden, n_output)\n",
    "\n",
    "        # ReLU関数の定義\n",
    "        self.relu = nn.ReLU(inplace=True)\n",
    "   \n",
    "    def forward(self, x):\n",
    "        x1 = self.l1(x)\n",
    "        x2 = self.relu(x1)\n",
    "        x3 = self.l2(x2)\n",
    "        return x3"
   ]
  },
  {
   "cell_type": "code",
   "execution_count": 46,
   "metadata": {
    "id": "Q749IwhKGyNC"
   },
   "outputs": [],
   "source": [
    "# インスタンスの生成\n",
    "net = Net(n_input, n_output, n_hidden)\n",
    "\n",
    "# モデルをGPU側に送る\n",
    "net = net.to(device)"
   ]
  },
  {
   "cell_type": "markdown",
   "metadata": {
    "id": "0V6v9PCpTx6b"
   },
   "source": [
    "### 最適化アルゴリズムと損失関数"
   ]
  },
  {
   "cell_type": "code",
   "execution_count": 47,
   "metadata": {
    "id": "VyIXY4i_GyNC"
   },
   "outputs": [],
   "source": [
    "# 学習率\n",
    "lr = 0.01\n",
    "\n",
    "# アルゴリズム: 勾配降下法\n",
    "optimizer = torch.optim.SGD(net.parameters(), lr=lr)\n",
    "\n",
    "# 損失関数： 交差エントロピー関数\n",
    "criterion = nn.CrossEntropyLoss()\n"
   ]
  },
  {
   "cell_type": "markdown",
   "metadata": {
    "id": "YdR3zTewTx6c"
   },
   "source": [
    "### モデル確認"
   ]
  },
  {
   "cell_type": "code",
   "execution_count": 48,
   "metadata": {
    "colab": {
     "base_uri": "https://localhost:8080/"
    },
    "id": "qZwxQTaPGyND",
    "outputId": "4c3c1863-3d85-47f0-fa01-08243d3eae9a"
   },
   "outputs": [
    {
     "name": "stdout",
     "output_type": "stream",
     "text": [
      "('l1.weight', Parameter containing:\n",
      "tensor([[-0.0012, -0.0029,  0.0118,  ...,  0.0105, -0.0117, -0.0348],\n",
      "        [-0.0070, -0.0139,  0.0201,  ..., -0.0349, -0.0345, -0.0154],\n",
      "        [ 0.0018,  0.0344, -0.0107,  ..., -0.0260,  0.0128, -0.0324],\n",
      "        ...,\n",
      "        [-0.0103,  0.0214, -0.0058,  ..., -0.0010,  0.0026,  0.0300],\n",
      "        [ 0.0151,  0.0332, -0.0222,  ..., -0.0269, -0.0083,  0.0049],\n",
      "        [-0.0347, -0.0127,  0.0227,  ...,  0.0135, -0.0008,  0.0226]],\n",
      "       device='cuda:0', requires_grad=True))\n",
      "('l1.bias', Parameter containing:\n",
      "tensor([ 0.0196,  0.0262, -0.0214,  0.0296, -0.0167, -0.0213, -0.0184,  0.0216,\n",
      "        -0.0187,  0.0180,  0.0109, -0.0197,  0.0353,  0.0144,  0.0332, -0.0167,\n",
      "        -0.0027,  0.0171,  0.0039,  0.0313, -0.0066,  0.0218, -0.0050, -0.0239,\n",
      "        -0.0188,  0.0127, -0.0216,  0.0245, -0.0122, -0.0262, -0.0179,  0.0338,\n",
      "        -0.0332,  0.0136,  0.0016,  0.0067, -0.0340, -0.0085,  0.0101,  0.0334,\n",
      "         0.0228, -0.0130, -0.0089, -0.0034, -0.0132, -0.0144,  0.0176,  0.0179,\n",
      "        -0.0211, -0.0029,  0.0276,  0.0327,  0.0100, -0.0213,  0.0124, -0.0228,\n",
      "         0.0118,  0.0325, -0.0120,  0.0077,  0.0077,  0.0066, -0.0149, -0.0113,\n",
      "        -0.0189,  0.0213, -0.0079, -0.0184,  0.0196,  0.0276,  0.0083, -0.0182,\n",
      "         0.0103,  0.0309, -0.0215, -0.0244,  0.0354, -0.0327, -0.0148, -0.0023,\n",
      "        -0.0176, -0.0133, -0.0163,  0.0297,  0.0089, -0.0028, -0.0063, -0.0339,\n",
      "        -0.0088,  0.0339, -0.0348,  0.0107, -0.0123, -0.0170,  0.0083, -0.0101,\n",
      "         0.0260, -0.0335, -0.0155,  0.0038, -0.0105, -0.0202, -0.0202,  0.0355,\n",
      "         0.0169,  0.0081,  0.0138,  0.0195, -0.0074, -0.0146,  0.0044, -0.0093,\n",
      "        -0.0191,  0.0011,  0.0261,  0.0338,  0.0264, -0.0057,  0.0242, -0.0227,\n",
      "        -0.0064,  0.0169, -0.0221,  0.0050, -0.0355,  0.0132,  0.0308, -0.0310],\n",
      "       device='cuda:0', requires_grad=True))\n",
      "('l2.weight', Parameter containing:\n",
      "tensor([[-0.0378, -0.0672, -0.0557,  ..., -0.0033, -0.0397, -0.0525],\n",
      "        [-0.0407, -0.0697,  0.0507,  ..., -0.0534,  0.0272, -0.0780],\n",
      "        [ 0.0613,  0.0120,  0.0670,  ..., -0.0876,  0.0312,  0.0171],\n",
      "        ...,\n",
      "        [ 0.0239,  0.0247, -0.0312,  ..., -0.0198,  0.0409, -0.0367],\n",
      "        [ 0.0247, -0.0710, -0.0114,  ...,  0.0510,  0.0391,  0.0701],\n",
      "        [ 0.0074,  0.0582, -0.0524,  ..., -0.0473, -0.0020,  0.0718]],\n",
      "       device='cuda:0', requires_grad=True))\n",
      "('l2.bias', Parameter containing:\n",
      "tensor([-0.0469, -0.0496,  0.0380,  0.0280, -0.0434,  0.0118, -0.0806,  0.0460,\n",
      "         0.0554, -0.0811], device='cuda:0', requires_grad=True))\n"
     ]
    }
   ],
   "source": [
    "# モデル内のパラメータの確認\n",
    "# l1.weight, l1.bias, l2.weight, l2.biasがあることがわかる\n",
    "\n",
    "for parameter in net.named_parameters():\n",
    "    print(parameter)"
   ]
  },
  {
   "cell_type": "code",
   "execution_count": 49,
   "metadata": {
    "colab": {
     "base_uri": "https://localhost:8080/"
    },
    "id": "b56fYbaVGyND",
    "outputId": "9cc98741-74ef-419f-9bb9-bcfb101804ac"
   },
   "outputs": [
    {
     "name": "stdout",
     "output_type": "stream",
     "text": [
      "Net(\n",
      "  (l1): Linear(in_features=784, out_features=128, bias=True)\n",
      "  (l2): Linear(in_features=128, out_features=10, bias=True)\n",
      "  (relu): ReLU(inplace=True)\n",
      ")\n"
     ]
    }
   ],
   "source": [
    "# モデルの概要表示\n",
    "\n",
    "print(net)"
   ]
  },
  {
   "cell_type": "code",
   "execution_count": 50,
   "metadata": {
    "colab": {
     "base_uri": "https://localhost:8080/"
    },
    "id": "tl6x8W1vGyND",
    "outputId": "4979f7ec-4b2a-4330-f40c-37e547abdd8d"
   },
   "outputs": [
    {
     "name": "stdout",
     "output_type": "stream",
     "text": [
      "----------------------------------------------------------------\n",
      "        Layer (type)               Output Shape         Param #\n",
      "================================================================\n",
      "            Linear-1                  [-1, 128]         100,480\n",
      "              ReLU-2                  [-1, 128]               0\n",
      "            Linear-3                   [-1, 10]           1,290\n",
      "================================================================\n",
      "Total params: 101,770\n",
      "Trainable params: 101,770\n",
      "Non-trainable params: 0\n",
      "----------------------------------------------------------------\n",
      "Input size (MB): 0.00\n",
      "Forward/backward pass size (MB): 0.00\n",
      "Params size (MB): 0.39\n",
      "Estimated Total Size (MB): 0.39\n",
      "----------------------------------------------------------------\n"
     ]
    }
   ],
   "source": [
    "# モデルのサマリー表示\n",
    "\n",
    "summary(net, (784,))"
   ]
  },
  {
   "cell_type": "markdown",
   "metadata": {
    "id": "zodDP4VcuuQl"
   },
   "source": [
    "## 9.12 勾配降下法"
   ]
  },
  {
   "cell_type": "markdown",
   "metadata": {
    "id": "UnhTGUUiBYnV"
   },
   "source": [
    "### 順伝搬"
   ]
  },
  {
   "cell_type": "code",
   "execution_count": 51,
   "metadata": {
    "id": "kE5l-chbGyND"
   },
   "outputs": [],
   "source": [
    "# 訓練データセット　最初の1項目を取得\n",
    "# DataLoaderから最初の1セットを取得する\n",
    "for images, labels in train_loader:\n",
    "    break "
   ]
  },
  {
   "cell_type": "code",
   "execution_count": 52,
   "metadata": {
    "id": "FQax9NwFJeWs"
   },
   "outputs": [],
   "source": [
    "# Loaderから取得したデータをGPUに送る\n",
    "inputs = images.to(device)\n",
    "labels = labels.to(device)"
   ]
  },
  {
   "cell_type": "code",
   "execution_count": 53,
   "metadata": {
    "colab": {
     "base_uri": "https://localhost:8080/"
    },
    "id": "tZWIl2PUJl8B",
    "outputId": "cb79fd5b-6e02-42a7-d984-3e78c4eff5e2"
   },
   "outputs": [
    {
     "name": "stdout",
     "output_type": "stream",
     "text": [
      "tensor([[-0.2245, -0.0396,  0.5168,  ...,  0.0335,  0.0472, -0.2423],\n",
      "        [-0.1158,  0.0516,  0.3674,  ...,  0.2594,  0.0192, -0.1974],\n",
      "        [-0.2654, -0.1410,  0.5311,  ...,  0.0016, -0.1522, -0.3630],\n",
      "        ...,\n",
      "        [-0.4350, -0.0843,  0.4217,  ..., -0.0385, -0.0671, -0.3601],\n",
      "        [-0.3245, -0.0113,  0.3675,  ...,  0.1007, -0.0014, -0.2784],\n",
      "        [-0.1512,  0.0024,  0.4750,  ...,  0.2074,  0.2625, -0.1139]],\n",
      "       device='cuda:0', grad_fn=<AddmmBackward>)\n"
     ]
    }
   ],
   "source": [
    "# 予測値の計算\n",
    "outputs = net(inputs)\n",
    "\n",
    "# 結果確認\n",
    "print(outputs)"
   ]
  },
  {
   "cell_type": "markdown",
   "metadata": {
    "id": "O7D1YeAxBsD_"
   },
   "source": [
    "### 損失関数"
   ]
  },
  {
   "cell_type": "code",
   "execution_count": 54,
   "metadata": {
    "colab": {
     "base_uri": "https://localhost:8080/",
     "height": 602
    },
    "id": "g-2E8cA_d4dF",
    "outputId": "05791b1a-8730-40ea-ae2f-ef8a4e3d8fd4"
   },
   "outputs": [
    {
     "name": "stdout",
     "output_type": "stream",
     "text": [
      "2.3385438919067383\n"
     ]
    },
    {
     "data": {
      "image/svg+xml": [
       "<?xml version=\"1.0\" encoding=\"UTF-8\" standalone=\"no\"?>\n",
       "<!DOCTYPE svg PUBLIC \"-//W3C//DTD SVG 1.1//EN\"\n",
       " \"http://www.w3.org/Graphics/SVG/1.1/DTD/svg11.dtd\">\n",
       "<!-- Generated by graphviz version 2.40.1 (20161225.0304)\n",
       " -->\n",
       "<!-- Title: %3 Pages: 1 -->\n",
       "<svg width=\"266pt\" height=\"423pt\"\n",
       " viewBox=\"0.00 0.00 265.50 423.00\" xmlns=\"http://www.w3.org/2000/svg\" xmlns:xlink=\"http://www.w3.org/1999/xlink\">\n",
       "<g id=\"graph0\" class=\"graph\" transform=\"scale(1 1) rotate(0) translate(4 419)\">\n",
       "<title>%3</title>\n",
       "<polygon fill=\"#ffffff\" stroke=\"transparent\" points=\"-4,4 -4,-419 261.5,-419 261.5,4 -4,4\"/>\n",
       "<!-- 140414372363176 -->\n",
       "<g id=\"node1\" class=\"node\">\n",
       "<title>140414372363176</title>\n",
       "<polygon fill=\"#caff70\" stroke=\"#000000\" points=\"170.5,-21 67.5,-21 67.5,0 170.5,0 170.5,-21\"/>\n",
       "<text text-anchor=\"middle\" x=\"119\" y=\"-7.4\" font-family=\"Times,serif\" font-size=\"12.00\" fill=\"#000000\">NllLossBackward</text>\n",
       "</g>\n",
       "<!-- 140414372362896 -->\n",
       "<g id=\"node2\" class=\"node\">\n",
       "<title>140414372362896</title>\n",
       "<polygon fill=\"#d3d3d3\" stroke=\"#000000\" points=\"181.5,-78 56.5,-78 56.5,-57 181.5,-57 181.5,-78\"/>\n",
       "<text text-anchor=\"middle\" x=\"119\" y=\"-64.4\" font-family=\"Times,serif\" font-size=\"12.00\" fill=\"#000000\">LogSoftmaxBackward</text>\n",
       "</g>\n",
       "<!-- 140414372362896&#45;&gt;140414372363176 -->\n",
       "<g id=\"edge1\" class=\"edge\">\n",
       "<title>140414372362896&#45;&gt;140414372363176</title>\n",
       "<path fill=\"none\" stroke=\"#000000\" d=\"M119,-56.7787C119,-49.6134 119,-39.9517 119,-31.3097\"/>\n",
       "<polygon fill=\"#000000\" stroke=\"#000000\" points=\"122.5001,-31.1732 119,-21.1732 115.5001,-31.1732 122.5001,-31.1732\"/>\n",
       "</g>\n",
       "<!-- 140414372361608 -->\n",
       "<g id=\"node3\" class=\"node\">\n",
       "<title>140414372361608</title>\n",
       "<polygon fill=\"#d3d3d3\" stroke=\"#000000\" points=\"171,-135 67,-135 67,-114 171,-114 171,-135\"/>\n",
       "<text text-anchor=\"middle\" x=\"119\" y=\"-121.4\" font-family=\"Times,serif\" font-size=\"12.00\" fill=\"#000000\">AddmmBackward</text>\n",
       "</g>\n",
       "<!-- 140414372361608&#45;&gt;140414372362896 -->\n",
       "<g id=\"edge2\" class=\"edge\">\n",
       "<title>140414372361608&#45;&gt;140414372362896</title>\n",
       "<path fill=\"none\" stroke=\"#000000\" d=\"M119,-113.7787C119,-106.6134 119,-96.9517 119,-88.3097\"/>\n",
       "<polygon fill=\"#000000\" stroke=\"#000000\" points=\"122.5001,-88.1732 119,-78.1732 115.5001,-88.1732 122.5001,-88.1732\"/>\n",
       "</g>\n",
       "<!-- 140414372360936 -->\n",
       "<g id=\"node4\" class=\"node\">\n",
       "<title>140414372360936</title>\n",
       "<polygon fill=\"#add8e6\" stroke=\"#000000\" points=\"54,-205 0,-205 0,-171 54,-171 54,-205\"/>\n",
       "<text text-anchor=\"middle\" x=\"27\" y=\"-191.4\" font-family=\"Times,serif\" font-size=\"12.00\" fill=\"#000000\">l2.bias</text>\n",
       "<text text-anchor=\"middle\" x=\"27\" y=\"-178.4\" font-family=\"Times,serif\" font-size=\"12.00\" fill=\"#000000\"> (10)</text>\n",
       "</g>\n",
       "<!-- 140414372360936&#45;&gt;140414372361608 -->\n",
       "<g id=\"edge3\" class=\"edge\">\n",
       "<title>140414372360936&#45;&gt;140414372361608</title>\n",
       "<path fill=\"none\" stroke=\"#000000\" d=\"M51.6543,-170.9832C65.1894,-161.641 81.8926,-150.1122 95.278,-140.8734\"/>\n",
       "<polygon fill=\"#000000\" stroke=\"#000000\" points=\"97.2865,-143.7398 103.5283,-135.1788 93.3102,-137.9788 97.2865,-143.7398\"/>\n",
       "</g>\n",
       "<!-- 140414372362112 -->\n",
       "<g id=\"node5\" class=\"node\">\n",
       "<title>140414372362112</title>\n",
       "<polygon fill=\"#d3d3d3\" stroke=\"#000000\" points=\"166,-198.5 72,-198.5 72,-177.5 166,-177.5 166,-198.5\"/>\n",
       "<text text-anchor=\"middle\" x=\"119\" y=\"-184.9\" font-family=\"Times,serif\" font-size=\"12.00\" fill=\"#000000\">ReluBackward1</text>\n",
       "</g>\n",
       "<!-- 140414372362112&#45;&gt;140414372361608 -->\n",
       "<g id=\"edge4\" class=\"edge\">\n",
       "<title>140414372362112&#45;&gt;140414372361608</title>\n",
       "<path fill=\"none\" stroke=\"#000000\" d=\"M119,-177.2281C119,-168.5091 119,-155.9699 119,-145.3068\"/>\n",
       "<polygon fill=\"#000000\" stroke=\"#000000\" points=\"122.5001,-145.1128 119,-135.1128 115.5001,-145.1129 122.5001,-145.1128\"/>\n",
       "</g>\n",
       "<!-- 140414372362616 -->\n",
       "<g id=\"node6\" class=\"node\">\n",
       "<title>140414372362616</title>\n",
       "<polygon fill=\"#d3d3d3\" stroke=\"#000000\" points=\"171,-268.5 67,-268.5 67,-247.5 171,-247.5 171,-268.5\"/>\n",
       "<text text-anchor=\"middle\" x=\"119\" y=\"-254.9\" font-family=\"Times,serif\" font-size=\"12.00\" fill=\"#000000\">AddmmBackward</text>\n",
       "</g>\n",
       "<!-- 140414372362616&#45;&gt;140414372362112 -->\n",
       "<g id=\"edge5\" class=\"edge\">\n",
       "<title>140414372362616&#45;&gt;140414372362112</title>\n",
       "<path fill=\"none\" stroke=\"#000000\" d=\"M119,-247.3685C119,-237.1925 119,-221.5606 119,-208.8912\"/>\n",
       "<polygon fill=\"#000000\" stroke=\"#000000\" points=\"122.5001,-208.7315 119,-198.7315 115.5001,-208.7316 122.5001,-208.7315\"/>\n",
       "</g>\n",
       "<!-- 140414372360488 -->\n",
       "<g id=\"node7\" class=\"node\">\n",
       "<title>140414372360488</title>\n",
       "<polygon fill=\"#add8e6\" stroke=\"#000000\" points=\"105,-345 51,-345 51,-311 105,-311 105,-345\"/>\n",
       "<text text-anchor=\"middle\" x=\"78\" y=\"-331.4\" font-family=\"Times,serif\" font-size=\"12.00\" fill=\"#000000\">l1.bias</text>\n",
       "<text text-anchor=\"middle\" x=\"78\" y=\"-318.4\" font-family=\"Times,serif\" font-size=\"12.00\" fill=\"#000000\"> (128)</text>\n",
       "</g>\n",
       "<!-- 140414372360488&#45;&gt;140414372362616 -->\n",
       "<g id=\"edge6\" class=\"edge\">\n",
       "<title>140414372360488&#45;&gt;140414372362616</title>\n",
       "<path fill=\"none\" stroke=\"#000000\" d=\"M88.1348,-310.6966C94.0172,-300.6535 101.4448,-287.9722 107.5395,-277.5667\"/>\n",
       "<polygon fill=\"#000000\" stroke=\"#000000\" points=\"110.6454,-279.189 112.6794,-268.7913 104.6052,-275.6512 110.6454,-279.189\"/>\n",
       "</g>\n",
       "<!-- 140414372364240 -->\n",
       "<g id=\"node8\" class=\"node\">\n",
       "<title>140414372364240</title>\n",
       "<polygon fill=\"#d3d3d3\" stroke=\"#000000\" points=\"196.5,-338.5 123.5,-338.5 123.5,-317.5 196.5,-317.5 196.5,-338.5\"/>\n",
       "<text text-anchor=\"middle\" x=\"160\" y=\"-324.9\" font-family=\"Times,serif\" font-size=\"12.00\" fill=\"#000000\">TBackward</text>\n",
       "</g>\n",
       "<!-- 140414372364240&#45;&gt;140414372362616 -->\n",
       "<g id=\"edge7\" class=\"edge\">\n",
       "<title>140414372364240&#45;&gt;140414372362616</title>\n",
       "<path fill=\"none\" stroke=\"#000000\" d=\"M153.773,-317.3685C147.5719,-306.7814 137.9119,-290.2886 130.3456,-277.3705\"/>\n",
       "<polygon fill=\"#000000\" stroke=\"#000000\" points=\"133.3598,-275.5915 125.2856,-268.7315 127.3196,-279.1293 133.3598,-275.5915\"/>\n",
       "</g>\n",
       "<!-- 140414372360768 -->\n",
       "<g id=\"node9\" class=\"node\">\n",
       "<title>140414372360768</title>\n",
       "<polygon fill=\"#add8e6\" stroke=\"#000000\" points=\"194.5,-415 125.5,-415 125.5,-381 194.5,-381 194.5,-415\"/>\n",
       "<text text-anchor=\"middle\" x=\"160\" y=\"-401.4\" font-family=\"Times,serif\" font-size=\"12.00\" fill=\"#000000\">l1.weight</text>\n",
       "<text text-anchor=\"middle\" x=\"160\" y=\"-388.4\" font-family=\"Times,serif\" font-size=\"12.00\" fill=\"#000000\"> (128, 784)</text>\n",
       "</g>\n",
       "<!-- 140414372360768&#45;&gt;140414372364240 -->\n",
       "<g id=\"edge8\" class=\"edge\">\n",
       "<title>140414372360768&#45;&gt;140414372364240</title>\n",
       "<path fill=\"none\" stroke=\"#000000\" d=\"M160,-380.6966C160,-371.0634 160,-359.003 160,-348.8518\"/>\n",
       "<polygon fill=\"#000000\" stroke=\"#000000\" points=\"163.5001,-348.7912 160,-338.7913 156.5001,-348.7913 163.5001,-348.7912\"/>\n",
       "</g>\n",
       "<!-- 140414372363344 -->\n",
       "<g id=\"node10\" class=\"node\">\n",
       "<title>140414372363344</title>\n",
       "<polygon fill=\"#d3d3d3\" stroke=\"#000000\" points=\"257.5,-198.5 184.5,-198.5 184.5,-177.5 257.5,-177.5 257.5,-198.5\"/>\n",
       "<text text-anchor=\"middle\" x=\"221\" y=\"-184.9\" font-family=\"Times,serif\" font-size=\"12.00\" fill=\"#000000\">TBackward</text>\n",
       "</g>\n",
       "<!-- 140414372363344&#45;&gt;140414372361608 -->\n",
       "<g id=\"edge9\" class=\"edge\">\n",
       "<title>140414372363344&#45;&gt;140414372361608</title>\n",
       "<path fill=\"none\" stroke=\"#000000\" d=\"M203.6971,-177.2281C187.4805,-167.1325 163.0365,-151.9149 144.5702,-140.4187\"/>\n",
       "<polygon fill=\"#000000\" stroke=\"#000000\" points=\"146.3865,-137.4266 136.0474,-135.1128 142.6869,-143.3692 146.3865,-137.4266\"/>\n",
       "</g>\n",
       "<!-- 140414372361664 -->\n",
       "<g id=\"node11\" class=\"node\">\n",
       "<title>140414372361664</title>\n",
       "<polygon fill=\"#add8e6\" stroke=\"#000000\" points=\"252.5,-275 189.5,-275 189.5,-241 252.5,-241 252.5,-275\"/>\n",
       "<text text-anchor=\"middle\" x=\"221\" y=\"-261.4\" font-family=\"Times,serif\" font-size=\"12.00\" fill=\"#000000\">l2.weight</text>\n",
       "<text text-anchor=\"middle\" x=\"221\" y=\"-248.4\" font-family=\"Times,serif\" font-size=\"12.00\" fill=\"#000000\"> (10, 128)</text>\n",
       "</g>\n",
       "<!-- 140414372361664&#45;&gt;140414372363344 -->\n",
       "<g id=\"edge10\" class=\"edge\">\n",
       "<title>140414372361664&#45;&gt;140414372363344</title>\n",
       "<path fill=\"none\" stroke=\"#000000\" d=\"M221,-240.6966C221,-231.0634 221,-219.003 221,-208.8518\"/>\n",
       "<polygon fill=\"#000000\" stroke=\"#000000\" points=\"224.5001,-208.7912 221,-198.7913 217.5001,-208.7913 224.5001,-208.7912\"/>\n",
       "</g>\n",
       "</g>\n",
       "</svg>\n"
      ],
      "text/plain": [
       "<graphviz.dot.Digraph at 0x7fb4c4c93b38>"
      ]
     },
     "execution_count": 54,
     "metadata": {
      "tags": []
     },
     "output_type": "execute_result"
    }
   ],
   "source": [
    "#  損失値の計算\n",
    "loss = criterion(outputs, labels)\n",
    "\n",
    "# 損失値の取得\n",
    "print(loss.item())\n",
    "\n",
    "# 損失関数のグラフ化\n",
    "make_dot(loss, params=dict(net.named_parameters()))"
   ]
  },
  {
   "cell_type": "markdown",
   "metadata": {
    "id": "-ZKkOTDbByWr"
   },
   "source": [
    "### 勾配計算"
   ]
  },
  {
   "cell_type": "code",
   "execution_count": 55,
   "metadata": {
    "id": "uTvRimoEiHeZ"
   },
   "outputs": [],
   "source": [
    "# 勾配計算の実行\n",
    "loss.backward()"
   ]
  },
  {
   "cell_type": "code",
   "execution_count": 56,
   "metadata": {
    "colab": {
     "base_uri": "https://localhost:8080/"
    },
    "id": "8xRXQnfsArTV",
    "outputId": "d9e7040d-657e-4ebe-bfa8-ca820bced53c"
   },
   "outputs": [
    {
     "name": "stdout",
     "output_type": "stream",
     "text": [
      "[[-0.00327 -0.00327 -0.00327 ... -0.00327 -0.00327 -0.00327]\n",
      " [-0.00117 -0.00117 -0.00117 ... -0.00117 -0.00117 -0.00117]\n",
      " [-0.00749 -0.00749 -0.00749 ... -0.00749 -0.00749 -0.00749]\n",
      " ...\n",
      " [ 0.00191  0.00191  0.00191 ...  0.00191  0.00191  0.00191]\n",
      " [-0.00248 -0.00248 -0.00248 ... -0.00248 -0.00248 -0.00248]\n",
      " [-0.00271 -0.00271 -0.00271 ... -0.00271 -0.00271 -0.00271]]\n",
      "[ 0.00327  0.00117  0.00749 -0.00305  0.00036  0.00072  0.00013 -0.00221\n",
      " -0.00042 -0.00528  0.00707  0.00948 -0.00776 -0.00052  0.00297  0.00476\n",
      " -0.00026  0.0028  -0.00121  0.00098  0.00045 -0.00583  0.00034 -0.00112\n",
      "  0.00006 -0.00659 -0.00036  0.00111 -0.00202  0.00327  0.00346  0.00105\n",
      " -0.0025  -0.00439 -0.00472  0.00614  0.00672  0.01098 -0.00604 -0.00082\n",
      " -0.00026  0.01005 -0.00423  0.00223 -0.00187  0.00271 -0.01073  0.00024\n",
      " -0.00749  0.00173 -0.00016 -0.00446  0.00538  0.00373  0.00382  0.00127\n",
      "  0.      -0.00058 -0.00025  0.00092  0.00011  0.00644  0.00469  0.00021\n",
      "  0.00294  0.00404  0.00085  0.00945  0.00216  0.01345  0.00085 -0.00032\n",
      "  0.00036  0.00477 -0.00239 -0.00022  0.00162 -0.00449 -0.00089  0.00317\n",
      "  0.00484 -0.00746 -0.00357  0.00598  0.00252  0.00195  0.00168  0.0012\n",
      "  0.00357 -0.00114 -0.00106  0.007    0.00126  0.00573  0.00331  0.00432\n",
      "  0.      -0.00071 -0.00232 -0.00027 -0.00906  0.00225  0.00157 -0.0003\n",
      "  0.0058   0.00582  0.       0.00775 -0.00082 -0.00469  0.00373  0.00607\n",
      " -0.00117 -0.00026  0.       0.      -0.00359  0.00274  0.00798  0.00126\n",
      " -0.0012   0.00503  0.00001  0.00004  0.00321 -0.00191  0.00248  0.00271]\n",
      "[[-0.00088 -0.01953  0.00151 ...  0.00586  0.00326 -0.00282]\n",
      " [-0.00327 -0.0117  -0.01914 ... -0.03703 -0.01555 -0.0018 ]\n",
      " [ 0.00103  0.03775  0.05476 ...  0.03611  0.01888  0.00955]\n",
      " ...\n",
      " [ 0.00114  0.00071  0.00718 ...  0.029   -0.00211 -0.00766]\n",
      " [ 0.00127  0.01616  0.01166 ...  0.01966  0.01975  0.00763]\n",
      " [-0.00138 -0.00921 -0.03069 ... -0.01779 -0.0327  -0.00875]]\n",
      "[-0.04117 -0.02176  0.06966  0.01007  0.00121 -0.01389 -0.00698  0.02042\n",
      "  0.01598 -0.03354]\n"
     ]
    }
   ],
   "source": [
    "# 勾配計算の結果\n",
    "w = net.to('cpu')\n",
    "print(w.l1.weight.grad.numpy())\n",
    "print(w.l1.bias.grad.numpy())\n",
    "print(w.l2.weight.grad.numpy())\n",
    "print(w.l2.bias.grad.numpy())"
   ]
  },
  {
   "cell_type": "markdown",
   "metadata": {
    "id": "PAN6zrWwB_1Q"
   },
   "source": [
    "### 重み行列の修正"
   ]
  },
  {
   "cell_type": "code",
   "execution_count": 57,
   "metadata": {
    "id": "Q-fIWFp7iW8_"
   },
   "outputs": [],
   "source": [
    "# 勾配降下法の適用\n",
    "optimizer.step()"
   ]
  },
  {
   "cell_type": "code",
   "execution_count": 58,
   "metadata": {
    "colab": {
     "base_uri": "https://localhost:8080/"
    },
    "id": "quuVCRNJij0M",
    "outputId": "fafbd2f5-015b-4d4b-86d2-83fc7abec1e6"
   },
   "outputs": [
    {
     "name": "stdout",
     "output_type": "stream",
     "text": [
      "Parameter containing:\n",
      "tensor([[-0.0011, -0.0028,  0.0119,  ...,  0.0105, -0.0117, -0.0348],\n",
      "        [-0.0070, -0.0139,  0.0202,  ..., -0.0349, -0.0345, -0.0154],\n",
      "        [ 0.0018,  0.0345, -0.0107,  ..., -0.0259,  0.0129, -0.0323],\n",
      "        ...,\n",
      "        [-0.0103,  0.0214, -0.0058,  ..., -0.0010,  0.0026,  0.0300],\n",
      "        [ 0.0151,  0.0332, -0.0222,  ..., -0.0269, -0.0082,  0.0049],\n",
      "        [-0.0346, -0.0127,  0.0227,  ...,  0.0135, -0.0008,  0.0226]],\n",
      "       requires_grad=True)\n",
      "Parameter containing:\n",
      "tensor([ 0.0196,  0.0262, -0.0215,  0.0296, -0.0167, -0.0213, -0.0184,  0.0216,\n",
      "        -0.0187,  0.0180,  0.0109, -0.0198,  0.0354,  0.0144,  0.0332, -0.0167,\n",
      "        -0.0027,  0.0171,  0.0039,  0.0313, -0.0066,  0.0218, -0.0050, -0.0239,\n",
      "        -0.0188,  0.0127, -0.0216,  0.0245, -0.0122, -0.0263, -0.0179,  0.0338,\n",
      "        -0.0331,  0.0137,  0.0017,  0.0066, -0.0341, -0.0087,  0.0101,  0.0334,\n",
      "         0.0228, -0.0131, -0.0089, -0.0034, -0.0131, -0.0144,  0.0177,  0.0179,\n",
      "        -0.0210, -0.0029,  0.0276,  0.0327,  0.0099, -0.0213,  0.0124, -0.0228,\n",
      "         0.0118,  0.0326, -0.0120,  0.0077,  0.0077,  0.0066, -0.0150, -0.0113,\n",
      "        -0.0189,  0.0212, -0.0079, -0.0185,  0.0196,  0.0275,  0.0083, -0.0182,\n",
      "         0.0103,  0.0308, -0.0215, -0.0244,  0.0353, -0.0326, -0.0148, -0.0024,\n",
      "        -0.0177, -0.0132, -0.0163,  0.0296,  0.0088, -0.0029, -0.0063, -0.0339,\n",
      "        -0.0088,  0.0340, -0.0348,  0.0107, -0.0123, -0.0170,  0.0082, -0.0101,\n",
      "         0.0260, -0.0335, -0.0155,  0.0038, -0.0104, -0.0202, -0.0202,  0.0355,\n",
      "         0.0168,  0.0080,  0.0138,  0.0194, -0.0074, -0.0146,  0.0044, -0.0094,\n",
      "        -0.0191,  0.0011,  0.0261,  0.0338,  0.0265, -0.0058,  0.0242, -0.0227,\n",
      "        -0.0064,  0.0168, -0.0221,  0.0050, -0.0355,  0.0133,  0.0308, -0.0310],\n",
      "       requires_grad=True)\n"
     ]
    }
   ],
   "source": [
    "# 重み行列の結果\n",
    "print(net.l1.weight)\n",
    "print(net.l1.bias)"
   ]
  },
  {
   "cell_type": "markdown",
   "metadata": {
    "id": "1fuqiacmvNJq"
   },
   "source": [
    "### 繰り返し計算"
   ]
  },
  {
   "cell_type": "code",
   "execution_count": 59,
   "metadata": {
    "id": "F_xGv4kci7XG"
   },
   "outputs": [],
   "source": [
    "# 学習率\n",
    "lr = 0.01\n",
    "\n",
    "# モデル初期化\n",
    "net = Net(n_input, n_output, n_hidden).to(device)\n",
    "\n",
    "# 最適化アルゴリズム: 勾配降下法\n",
    "optimizer = optim.SGD(net.parameters(), lr=lr)\n",
    "\n",
    "# 損失関数： 交差エントロピー関数\n",
    "criterion = nn.CrossEntropyLoss()\n",
    "\n",
    "# 繰り返し回数\n",
    "num_epochs = 100\n",
    "\n",
    "# 評価結果記録用\n",
    "history = np.zeros((0,5))"
   ]
  },
  {
   "cell_type": "code",
   "execution_count": 60,
   "metadata": {
    "colab": {
     "base_uri": "https://localhost:8080/"
    },
    "id": "-7aRvSpcmuC0",
    "outputId": "2c2d97a2-dc5b-44a8-afd2-40ec29b92503"
   },
   "outputs": [
    {
     "name": "stdout",
     "output_type": "stream",
     "text": [
      "Epoch [1/100], loss: 1.92811 acc: 0.52918 val_loss: 1.48190, val_acc: 0.71490\n",
      "Epoch [2/100], loss: 1.13198 acc: 0.78000 val_loss: 0.88678, val_acc: 0.83020\n",
      "Epoch [3/100], loss: 0.75508 acc: 0.83380 val_loss: 0.65485, val_acc: 0.85450\n",
      "Epoch [4/100], loss: 0.60065 acc: 0.85535 val_loss: 0.54862, val_acc: 0.87070\n",
      "Epoch [5/100], loss: 0.52190 acc: 0.86767 val_loss: 0.48897, val_acc: 0.87900\n",
      "Epoch [6/100], loss: 0.47289 acc: 0.87557 val_loss: 0.45051, val_acc: 0.88730\n",
      "Epoch [7/100], loss: 0.44141 acc: 0.88190 val_loss: 0.42413, val_acc: 0.89100\n",
      "Epoch [8/100], loss: 0.41778 acc: 0.88550 val_loss: 0.40240, val_acc: 0.89580\n",
      "Epoch [9/100], loss: 0.39985 acc: 0.88910 val_loss: 0.38866, val_acc: 0.89670\n",
      "Epoch [10/100], loss: 0.38654 acc: 0.89225 val_loss: 0.37466, val_acc: 0.89930\n",
      "Epoch [11/100], loss: 0.37401 acc: 0.89493 val_loss: 0.36710, val_acc: 0.90000\n",
      "Epoch [12/100], loss: 0.36576 acc: 0.89730 val_loss: 0.35907, val_acc: 0.90230\n",
      "Epoch [13/100], loss: 0.35659 acc: 0.89918 val_loss: 0.35015, val_acc: 0.90320\n",
      "Epoch [14/100], loss: 0.35003 acc: 0.90078 val_loss: 0.34675, val_acc: 0.90540\n",
      "Epoch [15/100], loss: 0.34335 acc: 0.90223 val_loss: 0.33744, val_acc: 0.90770\n",
      "Epoch [16/100], loss: 0.33626 acc: 0.90403 val_loss: 0.33391, val_acc: 0.90760\n",
      "Epoch [17/100], loss: 0.33089 acc: 0.90513 val_loss: 0.32827, val_acc: 0.91010\n",
      "Epoch [18/100], loss: 0.32739 acc: 0.90642 val_loss: 0.32383, val_acc: 0.91080\n",
      "Epoch [19/100], loss: 0.32183 acc: 0.90807 val_loss: 0.32012, val_acc: 0.91220\n",
      "Epoch [20/100], loss: 0.31755 acc: 0.90858 val_loss: 0.31643, val_acc: 0.91360\n",
      "Epoch [21/100], loss: 0.31357 acc: 0.91012 val_loss: 0.31191, val_acc: 0.91500\n",
      "Epoch [22/100], loss: 0.31079 acc: 0.91127 val_loss: 0.31050, val_acc: 0.91560\n",
      "Epoch [23/100], loss: 0.30612 acc: 0.91272 val_loss: 0.30723, val_acc: 0.91660\n",
      "Epoch [24/100], loss: 0.30324 acc: 0.91352 val_loss: 0.30592, val_acc: 0.91720\n",
      "Epoch [25/100], loss: 0.29975 acc: 0.91452 val_loss: 0.30046, val_acc: 0.91770\n",
      "Epoch [26/100], loss: 0.29689 acc: 0.91523 val_loss: 0.29785, val_acc: 0.91980\n",
      "Epoch [27/100], loss: 0.29349 acc: 0.91608 val_loss: 0.29776, val_acc: 0.91760\n",
      "Epoch [28/100], loss: 0.29032 acc: 0.91683 val_loss: 0.29355, val_acc: 0.92010\n",
      "Epoch [29/100], loss: 0.28753 acc: 0.91743 val_loss: 0.28960, val_acc: 0.92190\n",
      "Epoch [30/100], loss: 0.28436 acc: 0.91872 val_loss: 0.28722, val_acc: 0.92280\n",
      "Epoch [31/100], loss: 0.28263 acc: 0.91935 val_loss: 0.28514, val_acc: 0.92330\n",
      "Epoch [32/100], loss: 0.28031 acc: 0.92013 val_loss: 0.28441, val_acc: 0.92260\n",
      "Epoch [33/100], loss: 0.27638 acc: 0.92075 val_loss: 0.28037, val_acc: 0.92500\n",
      "Epoch [34/100], loss: 0.27500 acc: 0.92180 val_loss: 0.27841, val_acc: 0.92570\n",
      "Epoch [35/100], loss: 0.27202 acc: 0.92217 val_loss: 0.27589, val_acc: 0.92470\n",
      "Epoch [36/100], loss: 0.26992 acc: 0.92328 val_loss: 0.27466, val_acc: 0.92570\n",
      "Epoch [37/100], loss: 0.26748 acc: 0.92380 val_loss: 0.27362, val_acc: 0.92510\n",
      "Epoch [38/100], loss: 0.26457 acc: 0.92423 val_loss: 0.27077, val_acc: 0.92540\n",
      "Epoch [39/100], loss: 0.26234 acc: 0.92553 val_loss: 0.26709, val_acc: 0.92770\n",
      "Epoch [40/100], loss: 0.26032 acc: 0.92635 val_loss: 0.26486, val_acc: 0.92870\n",
      "Epoch [41/100], loss: 0.25791 acc: 0.92680 val_loss: 0.26358, val_acc: 0.92750\n",
      "Epoch [42/100], loss: 0.25571 acc: 0.92737 val_loss: 0.26061, val_acc: 0.92810\n",
      "Epoch [43/100], loss: 0.25377 acc: 0.92797 val_loss: 0.26112, val_acc: 0.92840\n",
      "Epoch [44/100], loss: 0.25135 acc: 0.92907 val_loss: 0.25726, val_acc: 0.93030\n",
      "Epoch [45/100], loss: 0.24889 acc: 0.92963 val_loss: 0.25688, val_acc: 0.93000\n",
      "Epoch [46/100], loss: 0.24687 acc: 0.93017 val_loss: 0.25344, val_acc: 0.93030\n",
      "Epoch [47/100], loss: 0.24435 acc: 0.93097 val_loss: 0.25286, val_acc: 0.93140\n",
      "Epoch [48/100], loss: 0.24297 acc: 0.93170 val_loss: 0.24982, val_acc: 0.93240\n",
      "Epoch [49/100], loss: 0.24040 acc: 0.93232 val_loss: 0.24736, val_acc: 0.93250\n",
      "Epoch [50/100], loss: 0.23899 acc: 0.93275 val_loss: 0.24801, val_acc: 0.93310\n",
      "Epoch [51/100], loss: 0.23631 acc: 0.93347 val_loss: 0.24526, val_acc: 0.93280\n",
      "Epoch [52/100], loss: 0.23423 acc: 0.93388 val_loss: 0.24320, val_acc: 0.93310\n",
      "Epoch [53/100], loss: 0.23260 acc: 0.93447 val_loss: 0.23991, val_acc: 0.93330\n",
      "Epoch [54/100], loss: 0.23103 acc: 0.93485 val_loss: 0.24263, val_acc: 0.93450\n",
      "Epoch [55/100], loss: 0.22895 acc: 0.93570 val_loss: 0.23633, val_acc: 0.93410\n",
      "Epoch [56/100], loss: 0.22634 acc: 0.93585 val_loss: 0.23484, val_acc: 0.93530\n",
      "Epoch [57/100], loss: 0.22582 acc: 0.93667 val_loss: 0.23410, val_acc: 0.93570\n",
      "Epoch [58/100], loss: 0.22403 acc: 0.93717 val_loss: 0.23414, val_acc: 0.93730\n",
      "Epoch [59/100], loss: 0.22167 acc: 0.93730 val_loss: 0.23150, val_acc: 0.93680\n",
      "Epoch [60/100], loss: 0.22038 acc: 0.93797 val_loss: 0.22883, val_acc: 0.93650\n",
      "Epoch [61/100], loss: 0.21839 acc: 0.93903 val_loss: 0.22875, val_acc: 0.93720\n",
      "Epoch [62/100], loss: 0.21707 acc: 0.93955 val_loss: 0.22459, val_acc: 0.93790\n",
      "Epoch [63/100], loss: 0.21465 acc: 0.93988 val_loss: 0.22323, val_acc: 0.93850\n",
      "Epoch [64/100], loss: 0.21332 acc: 0.94020 val_loss: 0.22485, val_acc: 0.93820\n",
      "Epoch [65/100], loss: 0.21202 acc: 0.94067 val_loss: 0.22120, val_acc: 0.93830\n",
      "Epoch [66/100], loss: 0.21020 acc: 0.94102 val_loss: 0.21924, val_acc: 0.93910\n",
      "Epoch [67/100], loss: 0.20805 acc: 0.94202 val_loss: 0.21778, val_acc: 0.93930\n",
      "Epoch [68/100], loss: 0.20595 acc: 0.94263 val_loss: 0.21631, val_acc: 0.94040\n",
      "Epoch [69/100], loss: 0.20597 acc: 0.94272 val_loss: 0.21428, val_acc: 0.94080\n",
      "Epoch [70/100], loss: 0.20391 acc: 0.94325 val_loss: 0.21387, val_acc: 0.94150\n",
      "Epoch [71/100], loss: 0.20147 acc: 0.94362 val_loss: 0.21298, val_acc: 0.94260\n",
      "Epoch [72/100], loss: 0.20016 acc: 0.94413 val_loss: 0.21004, val_acc: 0.94200\n",
      "Epoch [73/100], loss: 0.19987 acc: 0.94452 val_loss: 0.20850, val_acc: 0.94210\n",
      "Epoch [74/100], loss: 0.19730 acc: 0.94493 val_loss: 0.20695, val_acc: 0.94270\n",
      "Epoch [75/100], loss: 0.19710 acc: 0.94545 val_loss: 0.20738, val_acc: 0.94260\n",
      "Epoch [76/100], loss: 0.19415 acc: 0.94585 val_loss: 0.20458, val_acc: 0.94340\n",
      "Epoch [77/100], loss: 0.19280 acc: 0.94642 val_loss: 0.20384, val_acc: 0.94320\n",
      "Epoch [78/100], loss: 0.19186 acc: 0.94643 val_loss: 0.20186, val_acc: 0.94400\n",
      "Epoch [79/100], loss: 0.19016 acc: 0.94700 val_loss: 0.20068, val_acc: 0.94460\n",
      "Epoch [80/100], loss: 0.18896 acc: 0.94733 val_loss: 0.20005, val_acc: 0.94450\n",
      "Epoch [81/100], loss: 0.18807 acc: 0.94792 val_loss: 0.19971, val_acc: 0.94460\n",
      "Epoch [82/100], loss: 0.18668 acc: 0.94818 val_loss: 0.19759, val_acc: 0.94610\n",
      "Epoch [83/100], loss: 0.18555 acc: 0.94847 val_loss: 0.19597, val_acc: 0.94600\n",
      "Epoch [84/100], loss: 0.18391 acc: 0.94863 val_loss: 0.19502, val_acc: 0.94580\n",
      "Epoch [85/100], loss: 0.18217 acc: 0.94913 val_loss: 0.19312, val_acc: 0.94710\n",
      "Epoch [86/100], loss: 0.18291 acc: 0.94932 val_loss: 0.19320, val_acc: 0.94680\n",
      "Epoch [87/100], loss: 0.17995 acc: 0.94982 val_loss: 0.19214, val_acc: 0.94720\n",
      "Epoch [88/100], loss: 0.17895 acc: 0.95042 val_loss: 0.19100, val_acc: 0.94750\n",
      "Epoch [89/100], loss: 0.17793 acc: 0.95052 val_loss: 0.18939, val_acc: 0.94720\n",
      "Epoch [90/100], loss: 0.17650 acc: 0.95095 val_loss: 0.18760, val_acc: 0.94860\n",
      "Epoch [91/100], loss: 0.17487 acc: 0.95140 val_loss: 0.18741, val_acc: 0.94900\n",
      "Epoch [92/100], loss: 0.17390 acc: 0.95147 val_loss: 0.18494, val_acc: 0.94810\n",
      "Epoch [93/100], loss: 0.17361 acc: 0.95215 val_loss: 0.18535, val_acc: 0.94830\n",
      "Epoch [94/100], loss: 0.17285 acc: 0.95212 val_loss: 0.18382, val_acc: 0.94860\n",
      "Epoch [95/100], loss: 0.17093 acc: 0.95260 val_loss: 0.18276, val_acc: 0.94980\n",
      "Epoch [96/100], loss: 0.17038 acc: 0.95227 val_loss: 0.18300, val_acc: 0.94980\n",
      "Epoch [97/100], loss: 0.16866 acc: 0.95307 val_loss: 0.18093, val_acc: 0.95040\n",
      "Epoch [98/100], loss: 0.16755 acc: 0.95348 val_loss: 0.17975, val_acc: 0.95090\n",
      "Epoch [99/100], loss: 0.16639 acc: 0.95382 val_loss: 0.17791, val_acc: 0.95050\n",
      "Epoch [100/100], loss: 0.16573 acc: 0.95407 val_loss: 0.17748, val_acc: 0.95110\n"
     ]
    }
   ],
   "source": [
    "# 繰り返し計算メインループ\n",
    "\n",
    "for epoch in range(num_epochs):\n",
    "    train_acc = 0\n",
    "    train_loss = 0\n",
    "    val_acc = 0\n",
    "    val_loss = 0\n",
    "    n_train = 0\n",
    "    n_test = 0\n",
    "\n",
    "    # 学習フェーズ\n",
    "    for inputs, labels in train_loader:\n",
    "        n_train += len(labels)\n",
    "\n",
    "        # GPUヘ転送\n",
    "        inputs = inputs.to(device)\n",
    "        labels = labels.to(device)\n",
    "    \n",
    "        #勾配の初期化\n",
    "        optimizer.zero_grad()\n",
    "\n",
    "        # 順伝搬計算\n",
    "        outputs = net(inputs)\n",
    "\n",
    "        # 損失計算\n",
    "        loss = criterion(outputs, labels)\n",
    "\n",
    "        # 勾配計算\n",
    "        loss.backward()\n",
    "    \n",
    "        # 重み調整\n",
    "        optimizer.step()\n",
    "\n",
    "        #予測ラベル導出\n",
    "        predicted = torch.max(outputs, 1)[1]\n",
    "\n",
    "        # 訓練データに対する損失と精度の計算\n",
    "        train_loss += loss.item()\n",
    "        train_acc += (predicted == labels).sum() \n",
    "\n",
    "    #予測フェーズ\n",
    "    for inputs_test, labels_test in test_loader:\n",
    "        n_test += len(labels_test)\n",
    "\n",
    "        inputs_test = inputs_test.to(device)\n",
    "        labels_test = labels_test.to(device)\n",
    "\n",
    "            \n",
    "        # 順伝搬計算\n",
    "        outputs_test = net(inputs_test)\n",
    "\n",
    "        # 誤差計算\n",
    "        loss_test = criterion(outputs_test, labels_test)\n",
    "\n",
    "        #予測ラベル導出\n",
    "        predicted_test = torch.max(outputs_test, 1)[1]\n",
    "\n",
    "        # 検証データに対する損失と精度の計算\n",
    "        val_loss +=  loss_test.item()\n",
    "        val_acc +=  (predicted_test == labels_test).sum()\n",
    "\n",
    "    # 評価値の算出・記録\n",
    "    train_acc = train_acc / n_train\n",
    "    val_acc = val_acc / n_test\n",
    "    train_loss = train_loss * batch_size / n_train\n",
    "    val_loss = val_loss * batch_size / n_test\n",
    "    print (f'Epoch [{epoch+1}/{num_epochs}], loss: {train_loss:.5f} acc: {train_acc:.5f} val_loss: {val_loss:.5f}, val_acc: {val_acc:.5f}')\n",
    "    item = np.array([epoch+1 , train_loss, train_acc, val_loss, val_acc])\n",
    "    history = np.vstack((history, item))"
   ]
  },
  {
   "cell_type": "markdown",
   "metadata": {
    "id": "3YpNqlm2vZC0"
   },
   "source": [
    "## 9.13 結果確認"
   ]
  },
  {
   "cell_type": "code",
   "execution_count": null,
   "metadata": {
    "colab": {
     "base_uri": "https://localhost:8080/"
    },
    "id": "2NQJM_UBli5m",
    "outputId": "1a01454a-2999-4098-9e1c-b0435a045e13"
   },
   "outputs": [
    {
     "name": "stdout",
     "output_type": "stream",
     "text": [
      "初期状態: 損失関数値: 1.41635 精度: 0.75480\n",
      "最終状態: 損失関数値: 0.17674 精度: 0.95140\n"
     ]
    }
   ],
   "source": [
    "#損失関数値と精度の確認\n",
    "\n",
    "print(f'初期状態: 損失関数値: {history[0,3]:.5f} 精度: {history[0,4]:.5f}' )\n",
    "print(f'最終状態: 損失関数値: {history[-1,3]:.5f} 精度: {history[-1,4]:.5f}' )"
   ]
  },
  {
   "cell_type": "code",
   "execution_count": null,
   "metadata": {
    "colab": {
     "base_uri": "https://localhost:8080/",
     "height": 415
    },
    "id": "phCQdH7No5Z_",
    "outputId": "f163f40f-e5aa-4fbe-da04-4aec623612b2"
   },
   "outputs": [
    {
     "data": {
      "image/png": "[encoded data removed]",
      "text/plain": [
       "<Figure size 432x432 with 1 Axes>"
      ]
     },
     "metadata": {
      "needs_background": "light",
      "tags": []
     },
     "output_type": "display_data"
    }
   ],
   "source": [
    "# 学習曲線の表示 (損失関数)\n",
    "\n",
    "plt.plot(history[:,0], history[:,1], 'b', label='訓練')\n",
    "plt.plot(history[:,0], history[:,3], 'k', label='検証')\n",
    "plt.xlabel('繰り返し回数')\n",
    "plt.ylabel('損失関数値')\n",
    "plt.title('学習曲線(損失関数)')\n",
    "plt.legend()\n",
    "plt.show()"
   ]
  },
  {
   "cell_type": "code",
   "execution_count": null,
   "metadata": {
    "colab": {
     "base_uri": "https://localhost:8080/",
     "height": 415
    },
    "id": "QjZXlEAmvo6q",
    "outputId": "36312294-f04f-4d95-dd15-541aa47d4a2b"
   },
   "outputs": [
    {
     "data": {
      "image/png": "[encoded data removed]",
      "text/plain": [
       "<Figure size 432x432 with 1 Axes>"
      ]
     },
     "metadata": {
      "needs_background": "light",
      "tags": []
     },
     "output_type": "display_data"
    }
   ],
   "source": [
    "# 学習曲線の表示 (精度)\n",
    "\n",
    "plt.plot(history[:,0], history[:,2], 'b', label='訓練')\n",
    "plt.plot(history[:,0], history[:,4], 'k', label='検証')\n",
    "plt.xlabel('繰り返し回数')\n",
    "plt.ylabel('精度')\n",
    "plt.title('学習曲線(精度)')\n",
    "plt.legend()\n",
    "plt.show()"
   ]
  },
  {
   "cell_type": "markdown",
   "metadata": {
    "id": "jHbKGRzI9XWn"
   },
   "source": [
    "### イメージ表示で確認"
   ]
  },
  {
   "cell_type": "code",
   "execution_count": 62,
   "metadata": {
    "id": "oVuuBxXWHNvE"
   },
   "outputs": [],
   "source": [
    "# DataLoaderから最初の1セットを取得する\n",
    "for images, labels in test_loader:\n",
    "    break\n",
    "\n",
    "# 予測結果の取得\n",
    "inputs = images.to(device)\n",
    "labels = labels.to(device)\n",
    "outputs = net(inputs)\n",
    "predicted = torch.max(outputs, 1)[1]"
   ]
  },
  {
   "cell_type": "code",
   "execution_count": 64,
   "metadata": {
    "colab": {
     "base_uri": "https://localhost:8080/",
     "height": 847
    },
    "id": "CN5MGTud7bsf",
    "outputId": "041be33a-5933-47ab-cb53-8181a2066f09"
   },
   "outputs": [
    {
     "data": {
      "image/png": "[encoded data removed]",
      "text/plain": [
       "<Figure size 720x1080 with 100 Axes>"
      ]
     },
     "metadata": {
      "needs_background": "light",
      "tags": []
     },
     "output_type": "display_data"
    }
   ],
   "source": [
    "# 最初の100件でイメージを「正解値:予測値」と表示\n",
    "\n",
    "plt.figure(figsize=(10, 15))\n",
    "for i in range(100):\n",
    "  ax = plt.subplot(10, 10, i + 1)\n",
    "    \n",
    "  # numpyに変換\n",
    "  image = images[i]\n",
    "  label = labels[i]\n",
    "  pred = predicted[i]\n",
    "  if (pred == label):\n",
    "    c = 'k'\n",
    "  else:\n",
    "    c = 'b'\n",
    "    \n",
    "  # imgの範囲を[0, 1]に戻す\n",
    "  image2 = (image + 1)/ 2\n",
    "    \n",
    "  # イメージ表示\n",
    "  plt.imshow(image2.reshape(28, 28),cmap='gray_r')\n",
    "  ax.set_title(f'{label}:{pred}', c=c)\n",
    "  ax.get_xaxis().set_visible(False)\n",
    "  ax.get_yaxis().set_visible(False)\n",
    "plt.show()\n"
   ]
  },
  {
   "cell_type": "markdown",
   "metadata": {
    "id": "lYQlrBNW4b0R"
   },
   "source": [
    "## 9.14 隠れ層の2層化"
   ]
  },
  {
   "cell_type": "code",
   "execution_count": 65,
   "metadata": {
    "id": "WKI_YKqevw16"
   },
   "outputs": [],
   "source": [
    "# モデルの定義\n",
    "# 784入力10出力2隠れ層のニューラルネットワークモデル\n",
    "\n",
    "class Net(nn.Module):\n",
    "    def __init__(self, n_input, n_output, n_hidden):\n",
    "        super().__init__()\n",
    "        \n",
    "        # 隠れ層1の定義 (隠れ層のノード数: n_hidden)\n",
    "        self.l1 = nn.Linear(n_input, n_hidden)\n",
    "\n",
    "        # 隠れ層2の定義 (隠れ層のノード数: n_hidden)\n",
    "        self.l2 = nn.Linear(n_hidden, n_hidden)\n",
    "\n",
    "        # 出力層の定義\n",
    "        self.l3 = nn.Linear(n_hidden, n_output)\n",
    "\n",
    "        # Relu関数の定義\n",
    "        self.relu = nn.ReLU(inplace=True)\n",
    "\n",
    "    def forward(self, x):\n",
    "        x1 = self.l1(x)\n",
    "        x2 = self.relu(x1)\n",
    "        x3 = self.l2(x2)\n",
    "        x4 = self.relu(x3)\n",
    "        x5 = self.l3(x4)\n",
    "        return x5"
   ]
  },
  {
   "cell_type": "code",
   "execution_count": 66,
   "metadata": {
    "id": "4iZ_1fHl59Js"
   },
   "outputs": [],
   "source": [
    "# インスタンスの生成\n",
    "net = Net(n_input, n_output, n_hidden).to(device)\n",
    "\n",
    "# アルゴリズム: 勾配降下法\n",
    "optimizer = torch.optim.SGD(net.parameters(), lr=lr)\n",
    "\n",
    "# 損失関数： 交差エントロピー関数\n",
    "criterion = nn.CrossEntropyLoss()"
   ]
  },
  {
   "cell_type": "code",
   "execution_count": 67,
   "metadata": {
    "colab": {
     "base_uri": "https://localhost:8080/"
    },
    "id": "D6iqjM5P5EW5",
    "outputId": "7085b350-889f-422a-f806-d35c6bdaac15"
   },
   "outputs": [
    {
     "name": "stdout",
     "output_type": "stream",
     "text": [
      "Net(\n",
      "  (l1): Linear(in_features=784, out_features=128, bias=True)\n",
      "  (l2): Linear(in_features=128, out_features=128, bias=True)\n",
      "  (l3): Linear(in_features=128, out_features=10, bias=True)\n",
      "  (relu): ReLU(inplace=True)\n",
      ")\n"
     ]
    }
   ],
   "source": [
    "# モデルの概要表示\n",
    "\n",
    "print(net)"
   ]
  },
  {
   "cell_type": "code",
   "execution_count": 68,
   "metadata": {
    "colab": {
     "base_uri": "https://localhost:8080/"
    },
    "id": "rL5pmOzi5T0i",
    "outputId": "8e64de3b-3a30-4a81-8ffb-ec70b651f4bc"
   },
   "outputs": [
    {
     "name": "stdout",
     "output_type": "stream",
     "text": [
      "----------------------------------------------------------------\n",
      "        Layer (type)               Output Shape         Param #\n",
      "================================================================\n",
      "            Linear-1                  [-1, 128]         100,480\n",
      "              ReLU-2                  [-1, 128]               0\n",
      "            Linear-3                  [-1, 128]          16,512\n",
      "              ReLU-4                  [-1, 128]               0\n",
      "            Linear-5                   [-1, 10]           1,290\n",
      "================================================================\n",
      "Total params: 118,282\n",
      "Trainable params: 118,282\n",
      "Non-trainable params: 0\n",
      "----------------------------------------------------------------\n",
      "Input size (MB): 0.00\n",
      "Forward/backward pass size (MB): 0.00\n",
      "Params size (MB): 0.45\n",
      "Estimated Total Size (MB): 0.46\n",
      "----------------------------------------------------------------\n"
     ]
    }
   ],
   "source": [
    "# モデルのサマリー表示\n",
    "\n",
    "summary(net, (784,))"
   ]
  },
  {
   "cell_type": "code",
   "execution_count": 69,
   "metadata": {
    "colab": {
     "base_uri": "https://localhost:8080/",
     "height": 772
    },
    "id": "ANTVr2Wz5bbU",
    "outputId": "40794a42-13fa-447b-950f-0cd34e5f52cd"
   },
   "outputs": [
    {
     "data": {
      "image/svg+xml": [
       "<?xml version=\"1.0\" encoding=\"UTF-8\" standalone=\"no\"?>\n",
       "<!DOCTYPE svg PUBLIC \"-//W3C//DTD SVG 1.1//EN\"\n",
       " \"http://www.w3.org/Graphics/SVG/1.1/DTD/svg11.dtd\">\n",
       "<!-- Generated by graphviz version 2.40.1 (20161225.0304)\n",
       " -->\n",
       "<!-- Title: %3 Pages: 1 -->\n",
       "<svg width=\"267pt\" height=\"563pt\"\n",
       " viewBox=\"0.00 0.00 266.50 563.00\" xmlns=\"http://www.w3.org/2000/svg\" xmlns:xlink=\"http://www.w3.org/1999/xlink\">\n",
       "<g id=\"graph0\" class=\"graph\" transform=\"scale(1 1) rotate(0) translate(4 559)\">\n",
       "<title>%3</title>\n",
       "<polygon fill=\"#ffffff\" stroke=\"transparent\" points=\"-4,4 -4,-559 262.5,-559 262.5,4 -4,4\"/>\n",
       "<!-- 140414314112560 -->\n",
       "<g id=\"node1\" class=\"node\">\n",
       "<title>140414314112560</title>\n",
       "<polygon fill=\"#caff70\" stroke=\"#000000\" points=\"170.5,-21 67.5,-21 67.5,0 170.5,0 170.5,-21\"/>\n",
       "<text text-anchor=\"middle\" x=\"119\" y=\"-7.4\" font-family=\"Times,serif\" font-size=\"12.00\" fill=\"#000000\">NllLossBackward</text>\n",
       "</g>\n",
       "<!-- 140414314111776 -->\n",
       "<g id=\"node2\" class=\"node\">\n",
       "<title>140414314111776</title>\n",
       "<polygon fill=\"#d3d3d3\" stroke=\"#000000\" points=\"181.5,-78 56.5,-78 56.5,-57 181.5,-57 181.5,-78\"/>\n",
       "<text text-anchor=\"middle\" x=\"119\" y=\"-64.4\" font-family=\"Times,serif\" font-size=\"12.00\" fill=\"#000000\">LogSoftmaxBackward</text>\n",
       "</g>\n",
       "<!-- 140414314111776&#45;&gt;140414314112560 -->\n",
       "<g id=\"edge1\" class=\"edge\">\n",
       "<title>140414314111776&#45;&gt;140414314112560</title>\n",
       "<path fill=\"none\" stroke=\"#000000\" d=\"M119,-56.7787C119,-49.6134 119,-39.9517 119,-31.3097\"/>\n",
       "<polygon fill=\"#000000\" stroke=\"#000000\" points=\"122.5001,-31.1732 119,-21.1732 115.5001,-31.1732 122.5001,-31.1732\"/>\n",
       "</g>\n",
       "<!-- 140414314112616 -->\n",
       "<g id=\"node3\" class=\"node\">\n",
       "<title>140414314112616</title>\n",
       "<polygon fill=\"#d3d3d3\" stroke=\"#000000\" points=\"171,-135 67,-135 67,-114 171,-114 171,-135\"/>\n",
       "<text text-anchor=\"middle\" x=\"119\" y=\"-121.4\" font-family=\"Times,serif\" font-size=\"12.00\" fill=\"#000000\">AddmmBackward</text>\n",
       "</g>\n",
       "<!-- 140414314112616&#45;&gt;140414314111776 -->\n",
       "<g id=\"edge2\" class=\"edge\">\n",
       "<title>140414314112616&#45;&gt;140414314111776</title>\n",
       "<path fill=\"none\" stroke=\"#000000\" d=\"M119,-113.7787C119,-106.6134 119,-96.9517 119,-88.3097\"/>\n",
       "<polygon fill=\"#000000\" stroke=\"#000000\" points=\"122.5001,-88.1732 119,-78.1732 115.5001,-88.1732 122.5001,-88.1732\"/>\n",
       "</g>\n",
       "<!-- 140414314113400 -->\n",
       "<g id=\"node4\" class=\"node\">\n",
       "<title>140414314113400</title>\n",
       "<polygon fill=\"#add8e6\" stroke=\"#000000\" points=\"54,-205 0,-205 0,-171 54,-171 54,-205\"/>\n",
       "<text text-anchor=\"middle\" x=\"27\" y=\"-191.4\" font-family=\"Times,serif\" font-size=\"12.00\" fill=\"#000000\">l3.bias</text>\n",
       "<text text-anchor=\"middle\" x=\"27\" y=\"-178.4\" font-family=\"Times,serif\" font-size=\"12.00\" fill=\"#000000\"> (10)</text>\n",
       "</g>\n",
       "<!-- 140414314113400&#45;&gt;140414314112616 -->\n",
       "<g id=\"edge3\" class=\"edge\">\n",
       "<title>140414314113400&#45;&gt;140414314112616</title>\n",
       "<path fill=\"none\" stroke=\"#000000\" d=\"M51.6543,-170.9832C65.1894,-161.641 81.8926,-150.1122 95.278,-140.8734\"/>\n",
       "<polygon fill=\"#000000\" stroke=\"#000000\" points=\"97.2865,-143.7398 103.5283,-135.1788 93.3102,-137.9788 97.2865,-143.7398\"/>\n",
       "</g>\n",
       "<!-- 140414314937592 -->\n",
       "<g id=\"node5\" class=\"node\">\n",
       "<title>140414314937592</title>\n",
       "<polygon fill=\"#d3d3d3\" stroke=\"#000000\" points=\"166,-198.5 72,-198.5 72,-177.5 166,-177.5 166,-198.5\"/>\n",
       "<text text-anchor=\"middle\" x=\"119\" y=\"-184.9\" font-family=\"Times,serif\" font-size=\"12.00\" fill=\"#000000\">ReluBackward1</text>\n",
       "</g>\n",
       "<!-- 140414314937592&#45;&gt;140414314112616 -->\n",
       "<g id=\"edge4\" class=\"edge\">\n",
       "<title>140414314937592&#45;&gt;140414314112616</title>\n",
       "<path fill=\"none\" stroke=\"#000000\" d=\"M119,-177.2281C119,-168.5091 119,-155.9699 119,-145.3068\"/>\n",
       "<polygon fill=\"#000000\" stroke=\"#000000\" points=\"122.5001,-145.1128 119,-135.1128 115.5001,-145.1129 122.5001,-145.1128\"/>\n",
       "</g>\n",
       "<!-- 140414314685608 -->\n",
       "<g id=\"node6\" class=\"node\">\n",
       "<title>140414314685608</title>\n",
       "<polygon fill=\"#d3d3d3\" stroke=\"#000000\" points=\"171,-268.5 67,-268.5 67,-247.5 171,-247.5 171,-268.5\"/>\n",
       "<text text-anchor=\"middle\" x=\"119\" y=\"-254.9\" font-family=\"Times,serif\" font-size=\"12.00\" fill=\"#000000\">AddmmBackward</text>\n",
       "</g>\n",
       "<!-- 140414314685608&#45;&gt;140414314937592 -->\n",
       "<g id=\"edge5\" class=\"edge\">\n",
       "<title>140414314685608&#45;&gt;140414314937592</title>\n",
       "<path fill=\"none\" stroke=\"#000000\" d=\"M119,-247.3685C119,-237.1925 119,-221.5606 119,-208.8912\"/>\n",
       "<polygon fill=\"#000000\" stroke=\"#000000\" points=\"122.5001,-208.7315 119,-198.7315 115.5001,-208.7316 122.5001,-208.7315\"/>\n",
       "</g>\n",
       "<!-- 140414314425648 -->\n",
       "<g id=\"node7\" class=\"node\">\n",
       "<title>140414314425648</title>\n",
       "<polygon fill=\"#add8e6\" stroke=\"#000000\" points=\"54,-345 0,-345 0,-311 54,-311 54,-345\"/>\n",
       "<text text-anchor=\"middle\" x=\"27\" y=\"-331.4\" font-family=\"Times,serif\" font-size=\"12.00\" fill=\"#000000\">l2.bias</text>\n",
       "<text text-anchor=\"middle\" x=\"27\" y=\"-318.4\" font-family=\"Times,serif\" font-size=\"12.00\" fill=\"#000000\"> (128)</text>\n",
       "</g>\n",
       "<!-- 140414314425648&#45;&gt;140414314685608 -->\n",
       "<g id=\"edge6\" class=\"edge\">\n",
       "<title>140414314425648&#45;&gt;140414314685608</title>\n",
       "<path fill=\"none\" stroke=\"#000000\" d=\"M49.7416,-310.6966C64.1068,-299.7666 82.5787,-285.7119 96.8325,-274.8666\"/>\n",
       "<polygon fill=\"#000000\" stroke=\"#000000\" points=\"99.2491,-277.4258 105.0881,-268.5852 95.0104,-271.855 99.2491,-277.4258\"/>\n",
       "</g>\n",
       "<!-- 140414314422960 -->\n",
       "<g id=\"node8\" class=\"node\">\n",
       "<title>140414314422960</title>\n",
       "<polygon fill=\"#d3d3d3\" stroke=\"#000000\" points=\"166,-338.5 72,-338.5 72,-317.5 166,-317.5 166,-338.5\"/>\n",
       "<text text-anchor=\"middle\" x=\"119\" y=\"-324.9\" font-family=\"Times,serif\" font-size=\"12.00\" fill=\"#000000\">ReluBackward1</text>\n",
       "</g>\n",
       "<!-- 140414314422960&#45;&gt;140414314685608 -->\n",
       "<g id=\"edge7\" class=\"edge\">\n",
       "<title>140414314422960&#45;&gt;140414314685608</title>\n",
       "<path fill=\"none\" stroke=\"#000000\" d=\"M119,-317.3685C119,-307.1925 119,-291.5606 119,-278.8912\"/>\n",
       "<polygon fill=\"#000000\" stroke=\"#000000\" points=\"122.5001,-278.7315 119,-268.7315 115.5001,-278.7316 122.5001,-278.7315\"/>\n",
       "</g>\n",
       "<!-- 140414314321680 -->\n",
       "<g id=\"node9\" class=\"node\">\n",
       "<title>140414314321680</title>\n",
       "<polygon fill=\"#d3d3d3\" stroke=\"#000000\" points=\"170,-408.5 66,-408.5 66,-387.5 170,-387.5 170,-408.5\"/>\n",
       "<text text-anchor=\"middle\" x=\"118\" y=\"-394.9\" font-family=\"Times,serif\" font-size=\"12.00\" fill=\"#000000\">AddmmBackward</text>\n",
       "</g>\n",
       "<!-- 140414314321680&#45;&gt;140414314422960 -->\n",
       "<g id=\"edge8\" class=\"edge\">\n",
       "<title>140414314321680&#45;&gt;140414314422960</title>\n",
       "<path fill=\"none\" stroke=\"#000000\" d=\"M118.1519,-387.3685C118.2972,-377.1925 118.5206,-361.5606 118.7016,-348.8912\"/>\n",
       "<polygon fill=\"#000000\" stroke=\"#000000\" points=\"122.2034,-348.7806 118.8467,-338.7315 115.2041,-348.6805 122.2034,-348.7806\"/>\n",
       "</g>\n",
       "<!-- 140414314609632 -->\n",
       "<g id=\"node10\" class=\"node\">\n",
       "<title>140414314609632</title>\n",
       "<polygon fill=\"#add8e6\" stroke=\"#000000\" points=\"104,-485 50,-485 50,-451 104,-451 104,-485\"/>\n",
       "<text text-anchor=\"middle\" x=\"77\" y=\"-471.4\" font-family=\"Times,serif\" font-size=\"12.00\" fill=\"#000000\">l1.bias</text>\n",
       "<text text-anchor=\"middle\" x=\"77\" y=\"-458.4\" font-family=\"Times,serif\" font-size=\"12.00\" fill=\"#000000\"> (128)</text>\n",
       "</g>\n",
       "<!-- 140414314609632&#45;&gt;140414314321680 -->\n",
       "<g id=\"edge9\" class=\"edge\">\n",
       "<title>140414314609632&#45;&gt;140414314321680</title>\n",
       "<path fill=\"none\" stroke=\"#000000\" d=\"M87.1348,-450.6966C93.0172,-440.6535 100.4448,-427.9722 106.5395,-417.5667\"/>\n",
       "<polygon fill=\"#000000\" stroke=\"#000000\" points=\"109.6454,-419.189 111.6794,-408.7913 103.6052,-415.6512 109.6454,-419.189\"/>\n",
       "</g>\n",
       "<!-- 140414314609968 -->\n",
       "<g id=\"node11\" class=\"node\">\n",
       "<title>140414314609968</title>\n",
       "<polygon fill=\"#d3d3d3\" stroke=\"#000000\" points=\"195.5,-478.5 122.5,-478.5 122.5,-457.5 195.5,-457.5 195.5,-478.5\"/>\n",
       "<text text-anchor=\"middle\" x=\"159\" y=\"-464.9\" font-family=\"Times,serif\" font-size=\"12.00\" fill=\"#000000\">TBackward</text>\n",
       "</g>\n",
       "<!-- 140414314609968&#45;&gt;140414314321680 -->\n",
       "<g id=\"edge10\" class=\"edge\">\n",
       "<title>140414314609968&#45;&gt;140414314321680</title>\n",
       "<path fill=\"none\" stroke=\"#000000\" d=\"M152.773,-457.3685C146.5719,-446.7814 136.9119,-430.2886 129.3456,-417.3705\"/>\n",
       "<polygon fill=\"#000000\" stroke=\"#000000\" points=\"132.3598,-415.5915 124.2856,-408.7315 126.3196,-419.1293 132.3598,-415.5915\"/>\n",
       "</g>\n",
       "<!-- 140414314607336 -->\n",
       "<g id=\"node12\" class=\"node\">\n",
       "<title>140414314607336</title>\n",
       "<polygon fill=\"#add8e6\" stroke=\"#000000\" points=\"193.5,-555 124.5,-555 124.5,-521 193.5,-521 193.5,-555\"/>\n",
       "<text text-anchor=\"middle\" x=\"159\" y=\"-541.4\" font-family=\"Times,serif\" font-size=\"12.00\" fill=\"#000000\">l1.weight</text>\n",
       "<text text-anchor=\"middle\" x=\"159\" y=\"-528.4\" font-family=\"Times,serif\" font-size=\"12.00\" fill=\"#000000\"> (128, 784)</text>\n",
       "</g>\n",
       "<!-- 140414314607336&#45;&gt;140414314609968 -->\n",
       "<g id=\"edge11\" class=\"edge\">\n",
       "<title>140414314607336&#45;&gt;140414314609968</title>\n",
       "<path fill=\"none\" stroke=\"#000000\" d=\"M159,-520.6966C159,-511.0634 159,-499.003 159,-488.8518\"/>\n",
       "<polygon fill=\"#000000\" stroke=\"#000000\" points=\"162.5001,-488.7912 159,-478.7913 155.5001,-488.7913 162.5001,-488.7912\"/>\n",
       "</g>\n",
       "<!-- 140414314424696 -->\n",
       "<g id=\"node13\" class=\"node\">\n",
       "<title>140414314424696</title>\n",
       "<polygon fill=\"#d3d3d3\" stroke=\"#000000\" points=\"258.5,-338.5 185.5,-338.5 185.5,-317.5 258.5,-317.5 258.5,-338.5\"/>\n",
       "<text text-anchor=\"middle\" x=\"222\" y=\"-324.9\" font-family=\"Times,serif\" font-size=\"12.00\" fill=\"#000000\">TBackward</text>\n",
       "</g>\n",
       "<!-- 140414314424696&#45;&gt;140414314685608 -->\n",
       "<g id=\"edge12\" class=\"edge\">\n",
       "<title>140414314424696&#45;&gt;140414314685608</title>\n",
       "<path fill=\"none\" stroke=\"#000000\" d=\"M206.3565,-317.3685C189.4707,-305.8927 162.3752,-287.4783 142.8354,-274.1988\"/>\n",
       "<polygon fill=\"#000000\" stroke=\"#000000\" points=\"144.6913,-271.2284 134.4532,-268.5022 140.7567,-277.0179 144.6913,-271.2284\"/>\n",
       "</g>\n",
       "<!-- 140414314608848 -->\n",
       "<g id=\"node14\" class=\"node\">\n",
       "<title>140414314608848</title>\n",
       "<polygon fill=\"#add8e6\" stroke=\"#000000\" points=\"257.5,-415 188.5,-415 188.5,-381 257.5,-381 257.5,-415\"/>\n",
       "<text text-anchor=\"middle\" x=\"223\" y=\"-401.4\" font-family=\"Times,serif\" font-size=\"12.00\" fill=\"#000000\">l2.weight</text>\n",
       "<text text-anchor=\"middle\" x=\"223\" y=\"-388.4\" font-family=\"Times,serif\" font-size=\"12.00\" fill=\"#000000\"> (128, 128)</text>\n",
       "</g>\n",
       "<!-- 140414314608848&#45;&gt;140414314424696 -->\n",
       "<g id=\"edge13\" class=\"edge\">\n",
       "<title>140414314608848&#45;&gt;140414314424696</title>\n",
       "<path fill=\"none\" stroke=\"#000000\" d=\"M222.7528,-380.6966C222.6152,-371.0634 222.4429,-359.003 222.2979,-348.8518\"/>\n",
       "<polygon fill=\"#000000\" stroke=\"#000000\" points=\"225.7967,-348.7402 222.1542,-338.7913 218.7975,-348.8403 225.7967,-348.7402\"/>\n",
       "</g>\n",
       "<!-- 140414314937648 -->\n",
       "<g id=\"node15\" class=\"node\">\n",
       "<title>140414314937648</title>\n",
       "<polygon fill=\"#d3d3d3\" stroke=\"#000000\" points=\"257.5,-198.5 184.5,-198.5 184.5,-177.5 257.5,-177.5 257.5,-198.5\"/>\n",
       "<text text-anchor=\"middle\" x=\"221\" y=\"-184.9\" font-family=\"Times,serif\" font-size=\"12.00\" fill=\"#000000\">TBackward</text>\n",
       "</g>\n",
       "<!-- 140414314937648&#45;&gt;140414314112616 -->\n",
       "<g id=\"edge14\" class=\"edge\">\n",
       "<title>140414314937648&#45;&gt;140414314112616</title>\n",
       "<path fill=\"none\" stroke=\"#000000\" d=\"M203.6971,-177.2281C187.4805,-167.1325 163.0365,-151.9149 144.5702,-140.4187\"/>\n",
       "<polygon fill=\"#000000\" stroke=\"#000000\" points=\"146.3865,-137.4266 136.0474,-135.1128 142.6869,-143.3692 146.3865,-137.4266\"/>\n",
       "</g>\n",
       "<!-- 140414314685552 -->\n",
       "<g id=\"node16\" class=\"node\">\n",
       "<title>140414314685552</title>\n",
       "<polygon fill=\"#add8e6\" stroke=\"#000000\" points=\"252.5,-275 189.5,-275 189.5,-241 252.5,-241 252.5,-275\"/>\n",
       "<text text-anchor=\"middle\" x=\"221\" y=\"-261.4\" font-family=\"Times,serif\" font-size=\"12.00\" fill=\"#000000\">l3.weight</text>\n",
       "<text text-anchor=\"middle\" x=\"221\" y=\"-248.4\" font-family=\"Times,serif\" font-size=\"12.00\" fill=\"#000000\"> (10, 128)</text>\n",
       "</g>\n",
       "<!-- 140414314685552&#45;&gt;140414314937648 -->\n",
       "<g id=\"edge15\" class=\"edge\">\n",
       "<title>140414314685552&#45;&gt;140414314937648</title>\n",
       "<path fill=\"none\" stroke=\"#000000\" d=\"M221,-240.6966C221,-231.0634 221,-219.003 221,-208.8518\"/>\n",
       "<polygon fill=\"#000000\" stroke=\"#000000\" points=\"224.5001,-208.7912 221,-198.7913 217.5001,-208.7913 224.5001,-208.7912\"/>\n",
       "</g>\n",
       "</g>\n",
       "</svg>\n"
      ],
      "text/plain": [
       "<graphviz.dot.Digraph at 0x7fb4c1506b38>"
      ]
     },
     "execution_count": 69,
     "metadata": {
      "tags": []
     },
     "output_type": "execute_result"
    }
   ],
   "source": [
    "# 予測値の計算\n",
    "outputs = net(inputs)\n",
    "\n",
    "#  損失値の計算\n",
    "loss = criterion(outputs, labels)\n",
    "\n",
    "# 損失関数のグラフ化\n",
    "make_dot(loss, params=dict(net.named_parameters()))"
   ]
  },
  {
   "cell_type": "markdown",
   "metadata": {
    "id": "MSvDarxnQRbh"
   },
   "source": [
    "### 勾配計算"
   ]
  },
  {
   "cell_type": "code",
   "execution_count": 70,
   "metadata": {
    "colab": {
     "base_uri": "https://localhost:8080/"
    },
    "id": "Hf0ASfhxQRbi",
    "outputId": "a90c127d-1a42-4464-e924-7a32a91c32f2"
   },
   "outputs": [
    {
     "name": "stdout",
     "output_type": "stream",
     "text": [
      "[[ 0.00086  0.00086  0.00086 ...  0.00086  0.00086  0.00086]\n",
      " [ 0.00008  0.00008  0.00008 ...  0.00008  0.00008  0.00008]\n",
      " [-0.00005 -0.00005 -0.00005 ... -0.00005 -0.00005 -0.00005]\n",
      " ...\n",
      " [ 0.00103  0.00103  0.00103 ...  0.00103  0.00103  0.00103]\n",
      " [-0.00152 -0.00152 -0.00152 ... -0.00152 -0.00152 -0.00152]\n",
      " [ 0.00014  0.00014  0.00014 ...  0.00014  0.00014  0.00014]]\n"
     ]
    }
   ],
   "source": [
    "# 勾配計算の実行\n",
    "loss.backward()\n",
    "\n",
    "# 勾配計算結果の一部\n",
    "w = net.to('cpu')\n",
    "print(w.l1.weight.grad.numpy())"
   ]
  },
  {
   "cell_type": "code",
   "execution_count": 71,
   "metadata": {
    "id": "3Y4-Y2KA602e"
   },
   "outputs": [],
   "source": [
    "# 初期化\n",
    "net = Net(n_input, n_output, n_hidden).to(device)\n",
    "\n",
    "# 最適化アルゴリズム: 勾配降下法\n",
    "optimizer = optim.SGD(net.parameters(), lr=lr)\n",
    "\n",
    "# 損失関数： 交差エントロピー関数\n",
    "criterion = nn.CrossEntropyLoss()\n",
    "\n",
    "# 繰り返し回数\n",
    "num_epochs = 200\n",
    "\n",
    "# 評価結果記録用\n",
    "history2 = np.zeros((0,5))"
   ]
  },
  {
   "cell_type": "code",
   "execution_count": 72,
   "metadata": {
    "colab": {
     "base_uri": "https://localhost:8080/"
    },
    "id": "3AeIhgM77EGp",
    "outputId": "f595f154-6d25-42d6-f77c-e36d793838f7"
   },
   "outputs": [
    {
     "name": "stdout",
     "output_type": "stream",
     "text": [
      "Epoch [1/200], loss: 2.23361 acc: 0.31340 val_loss: 2.14330, val_acc: 0.50850\n",
      "Epoch [2/200], loss: 1.86649 acc: 0.57497 val_loss: 1.57058, val_acc: 0.66140\n",
      "Epoch [3/200], loss: 1.24999 acc: 0.72308 val_loss: 1.00421, val_acc: 0.78930\n",
      "Epoch [4/200], loss: 0.84759 acc: 0.80403 val_loss: 0.73078, val_acc: 0.82580\n",
      "Epoch [5/200], loss: 0.65469 acc: 0.83288 val_loss: 0.59170, val_acc: 0.85730\n",
      "Epoch [6/200], loss: 0.54913 acc: 0.85360 val_loss: 0.50924, val_acc: 0.87010\n",
      "Epoch [7/200], loss: 0.48754 acc: 0.86840 val_loss: 0.45725, val_acc: 0.88290\n",
      "Epoch [8/200], loss: 0.44727 acc: 0.87858 val_loss: 0.42377, val_acc: 0.88680\n",
      "Epoch [9/200], loss: 0.41710 acc: 0.88412 val_loss: 0.39993, val_acc: 0.89040\n",
      "Epoch [10/200], loss: 0.39747 acc: 0.88818 val_loss: 0.38097, val_acc: 0.89760\n",
      "Epoch [11/200], loss: 0.38018 acc: 0.89283 val_loss: 0.36793, val_acc: 0.89770\n",
      "Epoch [12/200], loss: 0.36959 acc: 0.89568 val_loss: 0.36483, val_acc: 0.89830\n",
      "Epoch [13/200], loss: 0.35744 acc: 0.89782 val_loss: 0.35285, val_acc: 0.90210\n",
      "Epoch [14/200], loss: 0.34865 acc: 0.89993 val_loss: 0.34193, val_acc: 0.90550\n",
      "Epoch [15/200], loss: 0.34108 acc: 0.90262 val_loss: 0.33340, val_acc: 0.90720\n",
      "Epoch [16/200], loss: 0.33360 acc: 0.90348 val_loss: 0.32741, val_acc: 0.91110\n",
      "Epoch [17/200], loss: 0.32652 acc: 0.90573 val_loss: 0.32381, val_acc: 0.91130\n",
      "Epoch [18/200], loss: 0.32221 acc: 0.90763 val_loss: 0.32133, val_acc: 0.91200\n",
      "Epoch [19/200], loss: 0.31734 acc: 0.90840 val_loss: 0.31650, val_acc: 0.91370\n",
      "Epoch [20/200], loss: 0.31273 acc: 0.91037 val_loss: 0.30952, val_acc: 0.91500\n",
      "Epoch [21/200], loss: 0.30726 acc: 0.91188 val_loss: 0.30966, val_acc: 0.91290\n",
      "Epoch [22/200], loss: 0.30330 acc: 0.91315 val_loss: 0.30087, val_acc: 0.91690\n",
      "Epoch [23/200], loss: 0.29903 acc: 0.91417 val_loss: 0.29714, val_acc: 0.91900\n",
      "Epoch [24/200], loss: 0.29578 acc: 0.91577 val_loss: 0.29673, val_acc: 0.91890\n",
      "Epoch [25/200], loss: 0.29320 acc: 0.91603 val_loss: 0.30108, val_acc: 0.91930\n",
      "Epoch [26/200], loss: 0.28886 acc: 0.91723 val_loss: 0.28652, val_acc: 0.92150\n",
      "Epoch [27/200], loss: 0.28582 acc: 0.91872 val_loss: 0.28659, val_acc: 0.91910\n",
      "Epoch [28/200], loss: 0.28182 acc: 0.91912 val_loss: 0.28328, val_acc: 0.92170\n",
      "Epoch [29/200], loss: 0.27839 acc: 0.92033 val_loss: 0.27933, val_acc: 0.92290\n",
      "Epoch [30/200], loss: 0.27668 acc: 0.92147 val_loss: 0.27884, val_acc: 0.92410\n",
      "Epoch [31/200], loss: 0.27348 acc: 0.92203 val_loss: 0.27788, val_acc: 0.92530\n",
      "Epoch [32/200], loss: 0.27120 acc: 0.92272 val_loss: 0.27720, val_acc: 0.92370\n",
      "Epoch [33/200], loss: 0.26754 acc: 0.92368 val_loss: 0.27172, val_acc: 0.92510\n",
      "Epoch [34/200], loss: 0.26515 acc: 0.92430 val_loss: 0.26653, val_acc: 0.92640\n",
      "Epoch [35/200], loss: 0.26123 acc: 0.92520 val_loss: 0.26738, val_acc: 0.92810\n",
      "Epoch [36/200], loss: 0.26029 acc: 0.92587 val_loss: 0.26543, val_acc: 0.92710\n",
      "Epoch [37/200], loss: 0.25641 acc: 0.92632 val_loss: 0.25892, val_acc: 0.92900\n",
      "Epoch [38/200], loss: 0.25331 acc: 0.92758 val_loss: 0.25608, val_acc: 0.93020\n",
      "Epoch [39/200], loss: 0.25051 acc: 0.92842 val_loss: 0.25399, val_acc: 0.93080\n",
      "Epoch [40/200], loss: 0.24763 acc: 0.92907 val_loss: 0.25234, val_acc: 0.92980\n",
      "Epoch [41/200], loss: 0.24575 acc: 0.92972 val_loss: 0.25265, val_acc: 0.93010\n",
      "Epoch [42/200], loss: 0.24263 acc: 0.93043 val_loss: 0.24534, val_acc: 0.93320\n",
      "Epoch [43/200], loss: 0.24065 acc: 0.93118 val_loss: 0.24524, val_acc: 0.93270\n",
      "Epoch [44/200], loss: 0.23773 acc: 0.93228 val_loss: 0.24127, val_acc: 0.93400\n",
      "Epoch [45/200], loss: 0.23494 acc: 0.93277 val_loss: 0.23908, val_acc: 0.93430\n",
      "Epoch [46/200], loss: 0.23323 acc: 0.93323 val_loss: 0.24128, val_acc: 0.93410\n",
      "Epoch [47/200], loss: 0.23021 acc: 0.93358 val_loss: 0.23622, val_acc: 0.93540\n",
      "Epoch [48/200], loss: 0.22911 acc: 0.93477 val_loss: 0.23460, val_acc: 0.93420\n",
      "Epoch [49/200], loss: 0.22636 acc: 0.93510 val_loss: 0.23320, val_acc: 0.93560\n",
      "Epoch [50/200], loss: 0.22274 acc: 0.93647 val_loss: 0.22866, val_acc: 0.93740\n",
      "Epoch [51/200], loss: 0.22105 acc: 0.93752 val_loss: 0.22984, val_acc: 0.93660\n",
      "Epoch [52/200], loss: 0.21868 acc: 0.93775 val_loss: 0.22719, val_acc: 0.93710\n",
      "Epoch [53/200], loss: 0.21646 acc: 0.93852 val_loss: 0.22436, val_acc: 0.93880\n",
      "Epoch [54/200], loss: 0.21490 acc: 0.93912 val_loss: 0.22228, val_acc: 0.93800\n",
      "Epoch [55/200], loss: 0.21203 acc: 0.94018 val_loss: 0.21826, val_acc: 0.94000\n",
      "Epoch [56/200], loss: 0.20969 acc: 0.94050 val_loss: 0.21691, val_acc: 0.93950\n",
      "Epoch [57/200], loss: 0.20700 acc: 0.94092 val_loss: 0.21530, val_acc: 0.94060\n",
      "Epoch [58/200], loss: 0.20694 acc: 0.94203 val_loss: 0.21296, val_acc: 0.94130\n",
      "Epoch [59/200], loss: 0.20323 acc: 0.94242 val_loss: 0.21486, val_acc: 0.94040\n",
      "Epoch [60/200], loss: 0.20155 acc: 0.94252 val_loss: 0.21083, val_acc: 0.94160\n",
      "Epoch [61/200], loss: 0.19946 acc: 0.94292 val_loss: 0.20653, val_acc: 0.94300\n",
      "Epoch [62/200], loss: 0.19748 acc: 0.94413 val_loss: 0.20618, val_acc: 0.94330\n",
      "Epoch [63/200], loss: 0.19502 acc: 0.94435 val_loss: 0.20388, val_acc: 0.94450\n",
      "Epoch [64/200], loss: 0.19374 acc: 0.94493 val_loss: 0.20201, val_acc: 0.94500\n",
      "Epoch [65/200], loss: 0.19123 acc: 0.94578 val_loss: 0.20240, val_acc: 0.94320\n",
      "Epoch [66/200], loss: 0.18997 acc: 0.94590 val_loss: 0.20017, val_acc: 0.94530\n",
      "Epoch [67/200], loss: 0.18801 acc: 0.94673 val_loss: 0.19912, val_acc: 0.94630\n",
      "Epoch [68/200], loss: 0.18551 acc: 0.94750 val_loss: 0.19695, val_acc: 0.94540\n",
      "Epoch [69/200], loss: 0.18391 acc: 0.94780 val_loss: 0.19340, val_acc: 0.94790\n",
      "Epoch [70/200], loss: 0.18186 acc: 0.94830 val_loss: 0.19388, val_acc: 0.94690\n",
      "Epoch [71/200], loss: 0.17963 acc: 0.94840 val_loss: 0.19212, val_acc: 0.94750\n",
      "Epoch [72/200], loss: 0.17838 acc: 0.94988 val_loss: 0.19599, val_acc: 0.94570\n",
      "Epoch [73/200], loss: 0.17694 acc: 0.95030 val_loss: 0.18606, val_acc: 0.94840\n",
      "Epoch [74/200], loss: 0.17470 acc: 0.95073 val_loss: 0.18632, val_acc: 0.94820\n",
      "Epoch [75/200], loss: 0.17347 acc: 0.95095 val_loss: 0.18457, val_acc: 0.94880\n",
      "Epoch [76/200], loss: 0.17227 acc: 0.95150 val_loss: 0.18361, val_acc: 0.94940\n",
      "Epoch [77/200], loss: 0.17048 acc: 0.95162 val_loss: 0.18193, val_acc: 0.95010\n",
      "Epoch [78/200], loss: 0.16830 acc: 0.95232 val_loss: 0.17916, val_acc: 0.95040\n",
      "Epoch [79/200], loss: 0.16758 acc: 0.95345 val_loss: 0.17959, val_acc: 0.95150\n",
      "Epoch [80/200], loss: 0.16473 acc: 0.95343 val_loss: 0.17763, val_acc: 0.95080\n",
      "Epoch [81/200], loss: 0.16348 acc: 0.95402 val_loss: 0.17611, val_acc: 0.95100\n",
      "Epoch [82/200], loss: 0.16287 acc: 0.95377 val_loss: 0.17390, val_acc: 0.95220\n",
      "Epoch [83/200], loss: 0.16036 acc: 0.95428 val_loss: 0.17359, val_acc: 0.95140\n",
      "Epoch [84/200], loss: 0.15924 acc: 0.95505 val_loss: 0.17119, val_acc: 0.95350\n",
      "Epoch [85/200], loss: 0.15811 acc: 0.95520 val_loss: 0.17008, val_acc: 0.95370\n",
      "Epoch [86/200], loss: 0.15687 acc: 0.95543 val_loss: 0.17351, val_acc: 0.95290\n",
      "Epoch [87/200], loss: 0.15468 acc: 0.95600 val_loss: 0.16668, val_acc: 0.95390\n",
      "Epoch [88/200], loss: 0.15362 acc: 0.95632 val_loss: 0.16930, val_acc: 0.95290\n",
      "Epoch [89/200], loss: 0.15263 acc: 0.95690 val_loss: 0.16878, val_acc: 0.95400\n",
      "Epoch [90/200], loss: 0.15106 acc: 0.95717 val_loss: 0.16449, val_acc: 0.95410\n",
      "Epoch [91/200], loss: 0.14994 acc: 0.95790 val_loss: 0.16318, val_acc: 0.95540\n",
      "Epoch [92/200], loss: 0.14878 acc: 0.95778 val_loss: 0.16336, val_acc: 0.95440\n",
      "Epoch [93/200], loss: 0.14742 acc: 0.95798 val_loss: 0.16104, val_acc: 0.95560\n",
      "Epoch [94/200], loss: 0.14645 acc: 0.95865 val_loss: 0.16047, val_acc: 0.95600\n",
      "Epoch [95/200], loss: 0.14427 acc: 0.95913 val_loss: 0.15740, val_acc: 0.95620\n",
      "Epoch [96/200], loss: 0.14411 acc: 0.95972 val_loss: 0.15675, val_acc: 0.95660\n",
      "Epoch [97/200], loss: 0.14221 acc: 0.95962 val_loss: 0.15672, val_acc: 0.95680\n",
      "Epoch [98/200], loss: 0.14088 acc: 0.96000 val_loss: 0.15468, val_acc: 0.95780\n",
      "Epoch [99/200], loss: 0.13960 acc: 0.96063 val_loss: 0.15343, val_acc: 0.95740\n",
      "Epoch [100/200], loss: 0.13817 acc: 0.96110 val_loss: 0.15536, val_acc: 0.95710\n",
      "Epoch [101/200], loss: 0.13719 acc: 0.96097 val_loss: 0.15313, val_acc: 0.95750\n",
      "Epoch [102/200], loss: 0.13563 acc: 0.96173 val_loss: 0.14999, val_acc: 0.95840\n",
      "Epoch [103/200], loss: 0.13533 acc: 0.96187 val_loss: 0.15082, val_acc: 0.95870\n",
      "Epoch [104/200], loss: 0.13402 acc: 0.96220 val_loss: 0.15241, val_acc: 0.95670\n",
      "Epoch [105/200], loss: 0.13350 acc: 0.96237 val_loss: 0.15018, val_acc: 0.95870\n",
      "Epoch [106/200], loss: 0.13192 acc: 0.96238 val_loss: 0.15628, val_acc: 0.95560\n",
      "Epoch [107/200], loss: 0.13085 acc: 0.96267 val_loss: 0.14892, val_acc: 0.95900\n",
      "Epoch [108/200], loss: 0.13002 acc: 0.96293 val_loss: 0.14595, val_acc: 0.95960\n",
      "Epoch [109/200], loss: 0.12850 acc: 0.96343 val_loss: 0.14449, val_acc: 0.96020\n",
      "Epoch [110/200], loss: 0.12791 acc: 0.96353 val_loss: 0.14410, val_acc: 0.95980\n",
      "Epoch [111/200], loss: 0.12665 acc: 0.96397 val_loss: 0.14405, val_acc: 0.96030\n",
      "Epoch [112/200], loss: 0.12583 acc: 0.96442 val_loss: 0.14248, val_acc: 0.96010\n",
      "Epoch [113/200], loss: 0.12486 acc: 0.96438 val_loss: 0.14254, val_acc: 0.96050\n",
      "Epoch [114/200], loss: 0.12408 acc: 0.96507 val_loss: 0.14025, val_acc: 0.96190\n",
      "Epoch [115/200], loss: 0.12252 acc: 0.96528 val_loss: 0.14154, val_acc: 0.96160\n",
      "Epoch [116/200], loss: 0.12214 acc: 0.96543 val_loss: 0.13959, val_acc: 0.96110\n",
      "Epoch [117/200], loss: 0.12068 acc: 0.96595 val_loss: 0.13834, val_acc: 0.96190\n",
      "Epoch [118/200], loss: 0.12036 acc: 0.96595 val_loss: 0.13837, val_acc: 0.96170\n",
      "Epoch [119/200], loss: 0.11969 acc: 0.96598 val_loss: 0.14006, val_acc: 0.96180\n",
      "Epoch [120/200], loss: 0.11860 acc: 0.96668 val_loss: 0.13636, val_acc: 0.96260\n",
      "Epoch [121/200], loss: 0.11741 acc: 0.96687 val_loss: 0.13874, val_acc: 0.96160\n",
      "Epoch [122/200], loss: 0.11629 acc: 0.96677 val_loss: 0.13533, val_acc: 0.96270\n",
      "Epoch [123/200], loss: 0.11562 acc: 0.96718 val_loss: 0.13599, val_acc: 0.96290\n",
      "Epoch [124/200], loss: 0.11473 acc: 0.96727 val_loss: 0.13387, val_acc: 0.96280\n",
      "Epoch [125/200], loss: 0.11384 acc: 0.96785 val_loss: 0.13293, val_acc: 0.96330\n",
      "Epoch [126/200], loss: 0.11290 acc: 0.96765 val_loss: 0.13185, val_acc: 0.96390\n",
      "Epoch [127/200], loss: 0.11266 acc: 0.96845 val_loss: 0.13750, val_acc: 0.96040\n",
      "Epoch [128/200], loss: 0.11151 acc: 0.96873 val_loss: 0.13197, val_acc: 0.96390\n",
      "Epoch [129/200], loss: 0.11117 acc: 0.96882 val_loss: 0.13517, val_acc: 0.96260\n",
      "Epoch [130/200], loss: 0.11023 acc: 0.96878 val_loss: 0.13204, val_acc: 0.96240\n",
      "Epoch [131/200], loss: 0.10938 acc: 0.96912 val_loss: 0.12982, val_acc: 0.96380\n",
      "Epoch [132/200], loss: 0.10895 acc: 0.96957 val_loss: 0.12849, val_acc: 0.96410\n",
      "Epoch [133/200], loss: 0.10822 acc: 0.96965 val_loss: 0.13025, val_acc: 0.96340\n",
      "Epoch [134/200], loss: 0.10745 acc: 0.96993 val_loss: 0.13112, val_acc: 0.96290\n",
      "Epoch [135/200], loss: 0.10644 acc: 0.96988 val_loss: 0.12640, val_acc: 0.96520\n",
      "Epoch [136/200], loss: 0.10521 acc: 0.97037 val_loss: 0.12805, val_acc: 0.96300\n",
      "Epoch [137/200], loss: 0.10497 acc: 0.97008 val_loss: 0.12591, val_acc: 0.96430\n",
      "Epoch [138/200], loss: 0.10432 acc: 0.97073 val_loss: 0.12709, val_acc: 0.96470\n",
      "Epoch [139/200], loss: 0.10309 acc: 0.97097 val_loss: 0.12541, val_acc: 0.96440\n",
      "Epoch [140/200], loss: 0.10295 acc: 0.97093 val_loss: 0.12455, val_acc: 0.96410\n",
      "Epoch [141/200], loss: 0.10247 acc: 0.97103 val_loss: 0.12390, val_acc: 0.96540\n",
      "Epoch [142/200], loss: 0.10177 acc: 0.97115 val_loss: 0.12197, val_acc: 0.96550\n",
      "Epoch [143/200], loss: 0.10074 acc: 0.97163 val_loss: 0.12644, val_acc: 0.96330\n",
      "Epoch [144/200], loss: 0.10046 acc: 0.97192 val_loss: 0.12250, val_acc: 0.96620\n",
      "Epoch [145/200], loss: 0.09905 acc: 0.97183 val_loss: 0.12259, val_acc: 0.96530\n",
      "Epoch [146/200], loss: 0.09906 acc: 0.97200 val_loss: 0.12586, val_acc: 0.96540\n",
      "Epoch [147/200], loss: 0.09767 acc: 0.97245 val_loss: 0.12086, val_acc: 0.96570\n",
      "Epoch [148/200], loss: 0.09719 acc: 0.97270 val_loss: 0.12085, val_acc: 0.96670\n",
      "Epoch [149/200], loss: 0.09744 acc: 0.97262 val_loss: 0.12354, val_acc: 0.96490\n",
      "Epoch [150/200], loss: 0.09596 acc: 0.97273 val_loss: 0.11984, val_acc: 0.96590\n",
      "Epoch [151/200], loss: 0.09489 acc: 0.97298 val_loss: 0.11750, val_acc: 0.96590\n",
      "Epoch [152/200], loss: 0.09512 acc: 0.97350 val_loss: 0.11745, val_acc: 0.96630\n",
      "Epoch [153/200], loss: 0.09397 acc: 0.97357 val_loss: 0.12184, val_acc: 0.96690\n",
      "Epoch [154/200], loss: 0.09339 acc: 0.97392 val_loss: 0.11794, val_acc: 0.96630\n",
      "Epoch [155/200], loss: 0.09276 acc: 0.97392 val_loss: 0.11625, val_acc: 0.96690\n",
      "Epoch [156/200], loss: 0.09224 acc: 0.97418 val_loss: 0.11553, val_acc: 0.96710\n",
      "Epoch [157/200], loss: 0.09156 acc: 0.97402 val_loss: 0.11578, val_acc: 0.96700\n",
      "Epoch [158/200], loss: 0.09100 acc: 0.97447 val_loss: 0.11419, val_acc: 0.96730\n",
      "Epoch [159/200], loss: 0.09074 acc: 0.97458 val_loss: 0.12001, val_acc: 0.96550\n",
      "Epoch [160/200], loss: 0.08988 acc: 0.97457 val_loss: 0.11671, val_acc: 0.96770\n",
      "Epoch [161/200], loss: 0.08955 acc: 0.97475 val_loss: 0.11710, val_acc: 0.96590\n",
      "Epoch [162/200], loss: 0.08924 acc: 0.97512 val_loss: 0.11402, val_acc: 0.96730\n",
      "Epoch [163/200], loss: 0.08806 acc: 0.97542 val_loss: 0.11426, val_acc: 0.96670\n",
      "Epoch [164/200], loss: 0.08750 acc: 0.97537 val_loss: 0.11322, val_acc: 0.96720\n",
      "Epoch [165/200], loss: 0.08694 acc: 0.97572 val_loss: 0.11384, val_acc: 0.96720\n",
      "Epoch [166/200], loss: 0.08664 acc: 0.97607 val_loss: 0.11288, val_acc: 0.96760\n",
      "Epoch [167/200], loss: 0.08625 acc: 0.97615 val_loss: 0.11371, val_acc: 0.96690\n",
      "Epoch [168/200], loss: 0.08553 acc: 0.97623 val_loss: 0.11109, val_acc: 0.96800\n",
      "Epoch [169/200], loss: 0.08548 acc: 0.97595 val_loss: 0.11273, val_acc: 0.96650\n",
      "Epoch [170/200], loss: 0.08414 acc: 0.97595 val_loss: 0.11156, val_acc: 0.96840\n",
      "Epoch [171/200], loss: 0.08387 acc: 0.97617 val_loss: 0.11061, val_acc: 0.96800\n",
      "Epoch [172/200], loss: 0.08333 acc: 0.97640 val_loss: 0.10919, val_acc: 0.96920\n",
      "Epoch [173/200], loss: 0.08293 acc: 0.97667 val_loss: 0.10985, val_acc: 0.96880\n",
      "Epoch [174/200], loss: 0.08285 acc: 0.97673 val_loss: 0.11308, val_acc: 0.96780\n",
      "Epoch [175/200], loss: 0.08175 acc: 0.97723 val_loss: 0.11052, val_acc: 0.96800\n",
      "Epoch [176/200], loss: 0.08132 acc: 0.97722 val_loss: 0.10787, val_acc: 0.96870\n",
      "Epoch [177/200], loss: 0.08141 acc: 0.97727 val_loss: 0.10990, val_acc: 0.96760\n",
      "Epoch [178/200], loss: 0.08184 acc: 0.97738 val_loss: 0.10696, val_acc: 0.96870\n",
      "Epoch [179/200], loss: 0.07954 acc: 0.97772 val_loss: 0.10707, val_acc: 0.96810\n",
      "Epoch [180/200], loss: 0.07944 acc: 0.97782 val_loss: 0.10722, val_acc: 0.96930\n",
      "Epoch [181/200], loss: 0.07885 acc: 0.97762 val_loss: 0.10715, val_acc: 0.96810\n",
      "Epoch [182/200], loss: 0.07883 acc: 0.97777 val_loss: 0.10703, val_acc: 0.96910\n",
      "Epoch [183/200], loss: 0.07845 acc: 0.97825 val_loss: 0.11122, val_acc: 0.96750\n",
      "Epoch [184/200], loss: 0.07735 acc: 0.97847 val_loss: 0.10459, val_acc: 0.97030\n",
      "Epoch [185/200], loss: 0.07688 acc: 0.97850 val_loss: 0.10904, val_acc: 0.96840\n",
      "Epoch [186/200], loss: 0.07674 acc: 0.97863 val_loss: 0.10538, val_acc: 0.96950\n",
      "Epoch [187/200], loss: 0.07625 acc: 0.97883 val_loss: 0.10549, val_acc: 0.96930\n",
      "Epoch [188/200], loss: 0.07563 acc: 0.97852 val_loss: 0.10599, val_acc: 0.96910\n",
      "Epoch [189/200], loss: 0.07502 acc: 0.97908 val_loss: 0.10627, val_acc: 0.96900\n",
      "Epoch [190/200], loss: 0.07493 acc: 0.97867 val_loss: 0.10623, val_acc: 0.96900\n",
      "Epoch [191/200], loss: 0.07427 acc: 0.97915 val_loss: 0.10537, val_acc: 0.97020\n",
      "Epoch [192/200], loss: 0.07373 acc: 0.97948 val_loss: 0.10450, val_acc: 0.96960\n",
      "Epoch [193/200], loss: 0.07337 acc: 0.97983 val_loss: 0.10345, val_acc: 0.97020\n",
      "Epoch [194/200], loss: 0.07296 acc: 0.97970 val_loss: 0.10264, val_acc: 0.97000\n",
      "Epoch [195/200], loss: 0.07258 acc: 0.97963 val_loss: 0.10472, val_acc: 0.96910\n",
      "Epoch [196/200], loss: 0.07208 acc: 0.98000 val_loss: 0.10241, val_acc: 0.97000\n",
      "Epoch [197/200], loss: 0.07156 acc: 0.98003 val_loss: 0.10202, val_acc: 0.97030\n",
      "Epoch [198/200], loss: 0.07130 acc: 0.98017 val_loss: 0.10338, val_acc: 0.96980\n",
      "Epoch [199/200], loss: 0.07066 acc: 0.98040 val_loss: 0.10091, val_acc: 0.97090\n",
      "Epoch [200/200], loss: 0.07043 acc: 0.98035 val_loss: 0.10158, val_acc: 0.96980\n"
     ]
    }
   ],
   "source": [
    "# 繰り返し計算メインループ\n",
    "\n",
    "for epoch in range(num_epochs):\n",
    "    train_acc = 0\n",
    "    train_loss = 0\n",
    "    val_acc = 0\n",
    "    val_loss = 0\n",
    "    n_train = 0\n",
    "    n_test = 0\n",
    "\n",
    "    # 学習フェーズ\n",
    "    for inputs, labels in train_loader:\n",
    "        n_train += len(labels)\n",
    "\n",
    "        # GPUヘ転送\n",
    "        inputs = inputs.to(device)\n",
    "        labels = labels.to(device)\n",
    "    \n",
    "        #勾配の初期化\n",
    "        optimizer.zero_grad()\n",
    "\n",
    "        # 順伝搬計算\n",
    "        outputs = net(inputs)\n",
    "\n",
    "        # 損失計算\n",
    "        loss = criterion(outputs, labels)\n",
    "\n",
    "        # 勾配計算\n",
    "        loss.backward()\n",
    "    \n",
    "        # 重み調整\n",
    "        optimizer.step()\n",
    "\n",
    "        #予測ラベル導出\n",
    "        predicted = torch.max(outputs, 1)[1]\n",
    "\n",
    "        # 訓練データに対する損失と精度の計算\n",
    "        train_loss += loss.item()\n",
    "        train_acc += (predicted == labels).sum() \n",
    "\n",
    "    #予測フェーズ\n",
    "    for inputs_test, labels_test in test_loader:\n",
    "        n_test += len(labels_test)\n",
    "\n",
    "        inputs_test = inputs_test.to(device)\n",
    "        labels_test = labels_test.to(device)\n",
    "\n",
    "        # 順伝搬計算\n",
    "        outputs_test = net(inputs_test)\n",
    "\n",
    "        # 誤差計算\n",
    "        loss_test = criterion(outputs_test, labels_test)\n",
    "\n",
    "        #予測ラベル導出\n",
    "        predicted_test = torch.max(outputs_test, 1)[1]\n",
    "\n",
    "        # 検証データに対する損失と精度の計算\n",
    "        val_loss +=  loss_test.item()\n",
    "        val_acc +=  (predicted_test == labels_test).sum()\n",
    "\n",
    "    # 評価値の算出・記録\n",
    "    train_acc = train_acc / n_train\n",
    "    val_acc = val_acc / n_test\n",
    "    train_loss = train_loss * batch_size / n_train\n",
    "    val_loss = val_loss * batch_size / n_test\n",
    "    print (f'Epoch [{epoch+1}/{num_epochs}], loss: {train_loss:.5f} acc: {train_acc:.5f} val_loss: {val_loss:.5f}, val_acc: {val_acc:.5f}')\n",
    "    item = np.array([epoch+1 , train_loss, train_acc, val_loss, val_acc])\n",
    "    history2 = np.vstack((history2, item))"
   ]
  },
  {
   "cell_type": "code",
   "execution_count": 73,
   "metadata": {
    "colab": {
     "base_uri": "https://localhost:8080/"
    },
    "id": "Ypvzwuju7Imp",
    "outputId": "65f73133-c6e1-4219-be3e-d8f2e9cdd1a5"
   },
   "outputs": [
    {
     "name": "stdout",
     "output_type": "stream",
     "text": [
      "初期状態: 損失関数値: 2.14330 精度: 0.50850\n",
      "最終状態: 損失関数値: 0.10158 精度: 0.96980\n"
     ]
    }
   ],
   "source": [
    "#損失関数値と精度の確認\n",
    "\n",
    "print(f'初期状態: 損失関数値: {history2[0,3]:.5f} 精度: {history2[0,4]:.5f}' )\n",
    "print(f'最終状態: 損失関数値: {history2[-1,3]:.5f} 精度: {history2[-1,4]:.5f}' )"
   ]
  },
  {
   "cell_type": "code",
   "execution_count": 74,
   "metadata": {
    "colab": {
     "base_uri": "https://localhost:8080/",
     "height": 415
    },
    "id": "S5qoasEA7JEa",
    "outputId": "0359f2a3-01b0-40a2-80b1-98ffa1f1f67b"
   },
   "outputs": [
    {
     "data": {
      "image/png": "[encoded data removed]",
      "text/plain": [
       "<Figure size 432x432 with 1 Axes>"
      ]
     },
     "metadata": {
      "needs_background": "light",
      "tags": []
     },
     "output_type": "display_data"
    }
   ],
   "source": [
    "# 学習曲線の表示 (精度)\n",
    "\n",
    "plt.plot(history2[:,0], history2[:,2], 'b', label='訓練')\n",
    "plt.plot(history2[:,0], history2[:,4], 'k', label='検証')\n",
    "plt.xlabel('繰り返し回数')\n",
    "plt.ylabel('精度')\n",
    "plt.title('学習曲線(精度)')\n",
    "plt.legend()\n",
    "plt.show()"
   ]
  },
  {
   "cell_type": "code",
   "execution_count": 75,
   "metadata": {
    "colab": {
     "base_uri": "https://localhost:8080/",
     "height": 415
    },
    "id": "ZTvso0I27I2a",
    "outputId": "45b30c51-a99c-40f0-ce82-e326a848948a"
   },
   "outputs": [
    {
     "data": {
      "image/png": "[encoded data removed]",
      "text/plain": [
       "<Figure size 432x432 with 1 Axes>"
      ]
     },
     "metadata": {
      "needs_background": "light",
      "tags": []
     },
     "output_type": "display_data"
    }
   ],
   "source": [
    "# 学習曲線の表示 (損失関数)\n",
    "plt.plot(history2[:,0], history2[:,1], 'b', label='訓練')\n",
    "plt.plot(history2[:,0], history2[:,3], 'k', label='検証')\n",
    "plt.xlabel('繰り返し回数')\n",
    "plt.ylabel('損失関数値')\n",
    "plt.title('学習曲線(損失関数)')\n",
    "plt.legend()\n",
    "plt.show()"
   ]
  },
  {
   "cell_type": "markdown",
   "metadata": {
    "id": "pW9O1YawQRbq"
   },
   "source": [
    "## コラム　勾配消失とReLU関数"
   ]
  },
  {
   "cell_type": "code",
   "execution_count": 76,
   "metadata": {
    "id": "eAyrUWNFQRbq"
   },
   "outputs": [],
   "source": [
    "# モデルの定義　シグモイド関数バージョン\n",
    "# 784入力10出力2隠れ層のニューラルネットワークモデル\n",
    "\n",
    "class Net(nn.Module):\n",
    "    def __init__(self, n_input, n_output, n_hidden):\n",
    "        super().__init__()\n",
    "        \n",
    "        # 隠れ層1の定義 (隠れ層のノード数: n_hidden)\n",
    "        self.l1 = nn.Linear(n_input, n_hidden)\n",
    "\n",
    "        # 隠れ層2の定義 (隠れ層のノード数: n_hidden)\n",
    "        self.l2 = nn.Linear(n_hidden, n_hidden)\n",
    "\n",
    "        # 出力層の定義\n",
    "        self.l3 = nn.Linear(n_hidden, n_output)\n",
    "\n",
    "        # シグモイド関数の定義\n",
    "        self.sigmoid = nn.Sigmoid()\n",
    "\n",
    "    def forward(self, x):\n",
    "        x1 = self.l1(x)\n",
    "        x2 = self.sigmoid(x1)\n",
    "        x3 = self.l2(x2)\n",
    "        x4 = self.sigmoid(x3)\n",
    "        x5 = self.l3(x4)\n",
    "        return x5"
   ]
  },
  {
   "cell_type": "code",
   "execution_count": 77,
   "metadata": {
    "id": "6Eh3LoaBQRbr"
   },
   "outputs": [],
   "source": [
    "# インスタンスの生成\n",
    "net = Net(n_input, n_output, n_hidden).to(device)\n",
    "\n",
    "# アルゴリズム: 勾配降下法\n",
    "optimizer = torch.optim.SGD(net.parameters(), lr=lr)\n",
    "\n",
    "# 損失関数： 交差エントロピー関数\n",
    "criterion = nn.CrossEntropyLoss()"
   ]
  },
  {
   "cell_type": "code",
   "execution_count": 78,
   "metadata": {
    "colab": {
     "base_uri": "https://localhost:8080/",
     "height": 772
    },
    "id": "z1OMhGtkmkR5",
    "outputId": "22c74c3e-7381-4ed0-c514-6965386e35a4"
   },
   "outputs": [
    {
     "data": {
      "image/svg+xml": [
       "<?xml version=\"1.0\" encoding=\"UTF-8\" standalone=\"no\"?>\n",
       "<!DOCTYPE svg PUBLIC \"-//W3C//DTD SVG 1.1//EN\"\n",
       " \"http://www.w3.org/Graphics/SVG/1.1/DTD/svg11.dtd\">\n",
       "<!-- Generated by graphviz version 2.40.1 (20161225.0304)\n",
       " -->\n",
       "<!-- Title: %3 Pages: 1 -->\n",
       "<svg width=\"277pt\" height=\"563pt\"\n",
       " viewBox=\"0.00 0.00 276.50 563.00\" xmlns=\"http://www.w3.org/2000/svg\" xmlns:xlink=\"http://www.w3.org/1999/xlink\">\n",
       "<g id=\"graph0\" class=\"graph\" transform=\"scale(1 1) rotate(0) translate(4 559)\">\n",
       "<title>%3</title>\n",
       "<polygon fill=\"#ffffff\" stroke=\"transparent\" points=\"-4,4 -4,-559 272.5,-559 272.5,4 -4,4\"/>\n",
       "<!-- 140414313947768 -->\n",
       "<g id=\"node1\" class=\"node\">\n",
       "<title>140414313947768</title>\n",
       "<polygon fill=\"#caff70\" stroke=\"#000000\" points=\"176.5,-21 73.5,-21 73.5,0 176.5,0 176.5,-21\"/>\n",
       "<text text-anchor=\"middle\" x=\"125\" y=\"-7.4\" font-family=\"Times,serif\" font-size=\"12.00\" fill=\"#000000\">NllLossBackward</text>\n",
       "</g>\n",
       "<!-- 140414313948832 -->\n",
       "<g id=\"node2\" class=\"node\">\n",
       "<title>140414313948832</title>\n",
       "<polygon fill=\"#d3d3d3\" stroke=\"#000000\" points=\"187.5,-78 62.5,-78 62.5,-57 187.5,-57 187.5,-78\"/>\n",
       "<text text-anchor=\"middle\" x=\"125\" y=\"-64.4\" font-family=\"Times,serif\" font-size=\"12.00\" fill=\"#000000\">LogSoftmaxBackward</text>\n",
       "</g>\n",
       "<!-- 140414313948832&#45;&gt;140414313947768 -->\n",
       "<g id=\"edge1\" class=\"edge\">\n",
       "<title>140414313948832&#45;&gt;140414313947768</title>\n",
       "<path fill=\"none\" stroke=\"#000000\" d=\"M125,-56.7787C125,-49.6134 125,-39.9517 125,-31.3097\"/>\n",
       "<polygon fill=\"#000000\" stroke=\"#000000\" points=\"128.5001,-31.1732 125,-21.1732 121.5001,-31.1732 128.5001,-31.1732\"/>\n",
       "</g>\n",
       "<!-- 140414313947488 -->\n",
       "<g id=\"node3\" class=\"node\">\n",
       "<title>140414313947488</title>\n",
       "<polygon fill=\"#d3d3d3\" stroke=\"#000000\" points=\"177,-135 73,-135 73,-114 177,-114 177,-135\"/>\n",
       "<text text-anchor=\"middle\" x=\"125\" y=\"-121.4\" font-family=\"Times,serif\" font-size=\"12.00\" fill=\"#000000\">AddmmBackward</text>\n",
       "</g>\n",
       "<!-- 140414313947488&#45;&gt;140414313948832 -->\n",
       "<g id=\"edge2\" class=\"edge\">\n",
       "<title>140414313947488&#45;&gt;140414313948832</title>\n",
       "<path fill=\"none\" stroke=\"#000000\" d=\"M125,-113.7787C125,-106.6134 125,-96.9517 125,-88.3097\"/>\n",
       "<polygon fill=\"#000000\" stroke=\"#000000\" points=\"128.5001,-88.1732 125,-78.1732 121.5001,-88.1732 128.5001,-88.1732\"/>\n",
       "</g>\n",
       "<!-- 140414313950288 -->\n",
       "<g id=\"node4\" class=\"node\">\n",
       "<title>140414313950288</title>\n",
       "<polygon fill=\"#add8e6\" stroke=\"#000000\" points=\"54,-205 0,-205 0,-171 54,-171 54,-205\"/>\n",
       "<text text-anchor=\"middle\" x=\"27\" y=\"-191.4\" font-family=\"Times,serif\" font-size=\"12.00\" fill=\"#000000\">l3.bias</text>\n",
       "<text text-anchor=\"middle\" x=\"27\" y=\"-178.4\" font-family=\"Times,serif\" font-size=\"12.00\" fill=\"#000000\"> (10)</text>\n",
       "</g>\n",
       "<!-- 140414313950288&#45;&gt;140414313947488 -->\n",
       "<g id=\"edge3\" class=\"edge\">\n",
       "<title>140414313950288&#45;&gt;140414313947488</title>\n",
       "<path fill=\"none\" stroke=\"#000000\" d=\"M53.2622,-170.9832C67.68,-161.641 85.4726,-150.1122 99.7309,-140.8734\"/>\n",
       "<polygon fill=\"#000000\" stroke=\"#000000\" points=\"102.0303,-143.554 108.5193,-135.1788 98.2238,-137.6794 102.0303,-143.554\"/>\n",
       "</g>\n",
       "<!-- 140414313949952 -->\n",
       "<g id=\"node5\" class=\"node\">\n",
       "<title>140414313949952</title>\n",
       "<polygon fill=\"#d3d3d3\" stroke=\"#000000\" points=\"177.5,-198.5 72.5,-198.5 72.5,-177.5 177.5,-177.5 177.5,-198.5\"/>\n",
       "<text text-anchor=\"middle\" x=\"125\" y=\"-184.9\" font-family=\"Times,serif\" font-size=\"12.00\" fill=\"#000000\">SigmoidBackward</text>\n",
       "</g>\n",
       "<!-- 140414313949952&#45;&gt;140414313947488 -->\n",
       "<g id=\"edge4\" class=\"edge\">\n",
       "<title>140414313949952&#45;&gt;140414313947488</title>\n",
       "<path fill=\"none\" stroke=\"#000000\" d=\"M125,-177.2281C125,-168.5091 125,-155.9699 125,-145.3068\"/>\n",
       "<polygon fill=\"#000000\" stroke=\"#000000\" points=\"128.5001,-145.1128 125,-135.1128 121.5001,-145.1129 128.5001,-145.1128\"/>\n",
       "</g>\n",
       "<!-- 140414313949896 -->\n",
       "<g id=\"node6\" class=\"node\">\n",
       "<title>140414313949896</title>\n",
       "<polygon fill=\"#d3d3d3\" stroke=\"#000000\" points=\"177,-268.5 73,-268.5 73,-247.5 177,-247.5 177,-268.5\"/>\n",
       "<text text-anchor=\"middle\" x=\"125\" y=\"-254.9\" font-family=\"Times,serif\" font-size=\"12.00\" fill=\"#000000\">AddmmBackward</text>\n",
       "</g>\n",
       "<!-- 140414313949896&#45;&gt;140414313949952 -->\n",
       "<g id=\"edge5\" class=\"edge\">\n",
       "<title>140414313949896&#45;&gt;140414313949952</title>\n",
       "<path fill=\"none\" stroke=\"#000000\" d=\"M125,-247.3685C125,-237.1925 125,-221.5606 125,-208.8912\"/>\n",
       "<polygon fill=\"#000000\" stroke=\"#000000\" points=\"128.5001,-208.7315 125,-198.7315 121.5001,-208.7316 128.5001,-208.7315\"/>\n",
       "</g>\n",
       "<!-- 140414313949112 -->\n",
       "<g id=\"node7\" class=\"node\">\n",
       "<title>140414313949112</title>\n",
       "<polygon fill=\"#add8e6\" stroke=\"#000000\" points=\"54,-345 0,-345 0,-311 54,-311 54,-345\"/>\n",
       "<text text-anchor=\"middle\" x=\"27\" y=\"-331.4\" font-family=\"Times,serif\" font-size=\"12.00\" fill=\"#000000\">l2.bias</text>\n",
       "<text text-anchor=\"middle\" x=\"27\" y=\"-318.4\" font-family=\"Times,serif\" font-size=\"12.00\" fill=\"#000000\"> (128)</text>\n",
       "</g>\n",
       "<!-- 140414313949112&#45;&gt;140414313949896 -->\n",
       "<g id=\"edge6\" class=\"edge\">\n",
       "<title>140414313949112&#45;&gt;140414313949896</title>\n",
       "<path fill=\"none\" stroke=\"#000000\" d=\"M50.9735,-310.8761C66.4157,-299.8459 86.391,-285.5778 101.6991,-274.6435\"/>\n",
       "<polygon fill=\"#000000\" stroke=\"#000000\" points=\"104.0004,-277.3009 110.1034,-268.6404 99.9317,-271.6048 104.0004,-277.3009\"/>\n",
       "</g>\n",
       "<!-- 140414313949448 -->\n",
       "<g id=\"node8\" class=\"node\">\n",
       "<title>140414313949448</title>\n",
       "<polygon fill=\"#d3d3d3\" stroke=\"#000000\" points=\"177.5,-338.5 72.5,-338.5 72.5,-317.5 177.5,-317.5 177.5,-338.5\"/>\n",
       "<text text-anchor=\"middle\" x=\"125\" y=\"-324.9\" font-family=\"Times,serif\" font-size=\"12.00\" fill=\"#000000\">SigmoidBackward</text>\n",
       "</g>\n",
       "<!-- 140414313949448&#45;&gt;140414313949896 -->\n",
       "<g id=\"edge7\" class=\"edge\">\n",
       "<title>140414313949448&#45;&gt;140414313949896</title>\n",
       "<path fill=\"none\" stroke=\"#000000\" d=\"M125,-317.3685C125,-307.1925 125,-291.5606 125,-278.8912\"/>\n",
       "<polygon fill=\"#000000\" stroke=\"#000000\" points=\"128.5001,-278.7315 125,-268.7315 121.5001,-278.7316 128.5001,-278.7315\"/>\n",
       "</g>\n",
       "<!-- 140414313948272 -->\n",
       "<g id=\"node9\" class=\"node\">\n",
       "<title>140414313948272</title>\n",
       "<polygon fill=\"#d3d3d3\" stroke=\"#000000\" points=\"177,-408.5 73,-408.5 73,-387.5 177,-387.5 177,-408.5\"/>\n",
       "<text text-anchor=\"middle\" x=\"125\" y=\"-394.9\" font-family=\"Times,serif\" font-size=\"12.00\" fill=\"#000000\">AddmmBackward</text>\n",
       "</g>\n",
       "<!-- 140414313948272&#45;&gt;140414313949448 -->\n",
       "<g id=\"edge8\" class=\"edge\">\n",
       "<title>140414313948272&#45;&gt;140414313949448</title>\n",
       "<path fill=\"none\" stroke=\"#000000\" d=\"M125,-387.3685C125,-377.1925 125,-361.5606 125,-348.8912\"/>\n",
       "<polygon fill=\"#000000\" stroke=\"#000000\" points=\"128.5001,-348.7315 125,-338.7315 121.5001,-348.7316 128.5001,-348.7315\"/>\n",
       "</g>\n",
       "<!-- 140414313947320 -->\n",
       "<g id=\"node10\" class=\"node\">\n",
       "<title>140414313947320</title>\n",
       "<polygon fill=\"#add8e6\" stroke=\"#000000\" points=\"111,-485 57,-485 57,-451 111,-451 111,-485\"/>\n",
       "<text text-anchor=\"middle\" x=\"84\" y=\"-471.4\" font-family=\"Times,serif\" font-size=\"12.00\" fill=\"#000000\">l1.bias</text>\n",
       "<text text-anchor=\"middle\" x=\"84\" y=\"-458.4\" font-family=\"Times,serif\" font-size=\"12.00\" fill=\"#000000\"> (128)</text>\n",
       "</g>\n",
       "<!-- 140414313947320&#45;&gt;140414313948272 -->\n",
       "<g id=\"edge9\" class=\"edge\">\n",
       "<title>140414313947320&#45;&gt;140414313948272</title>\n",
       "<path fill=\"none\" stroke=\"#000000\" d=\"M94.1348,-450.6966C100.0172,-440.6535 107.4448,-427.9722 113.5395,-417.5667\"/>\n",
       "<polygon fill=\"#000000\" stroke=\"#000000\" points=\"116.6454,-419.189 118.6794,-408.7913 110.6052,-415.6512 116.6454,-419.189\"/>\n",
       "</g>\n",
       "<!-- 140414372361776 -->\n",
       "<g id=\"node11\" class=\"node\">\n",
       "<title>140414372361776</title>\n",
       "<polygon fill=\"#d3d3d3\" stroke=\"#000000\" points=\"202.5,-478.5 129.5,-478.5 129.5,-457.5 202.5,-457.5 202.5,-478.5\"/>\n",
       "<text text-anchor=\"middle\" x=\"166\" y=\"-464.9\" font-family=\"Times,serif\" font-size=\"12.00\" fill=\"#000000\">TBackward</text>\n",
       "</g>\n",
       "<!-- 140414372361776&#45;&gt;140414313948272 -->\n",
       "<g id=\"edge10\" class=\"edge\">\n",
       "<title>140414372361776&#45;&gt;140414313948272</title>\n",
       "<path fill=\"none\" stroke=\"#000000\" d=\"M159.773,-457.3685C153.5719,-446.7814 143.9119,-430.2886 136.3456,-417.3705\"/>\n",
       "<polygon fill=\"#000000\" stroke=\"#000000\" points=\"139.3598,-415.5915 131.2856,-408.7315 133.3196,-419.1293 139.3598,-415.5915\"/>\n",
       "</g>\n",
       "<!-- 140414372361944 -->\n",
       "<g id=\"node12\" class=\"node\">\n",
       "<title>140414372361944</title>\n",
       "<polygon fill=\"#add8e6\" stroke=\"#000000\" points=\"200.5,-555 131.5,-555 131.5,-521 200.5,-521 200.5,-555\"/>\n",
       "<text text-anchor=\"middle\" x=\"166\" y=\"-541.4\" font-family=\"Times,serif\" font-size=\"12.00\" fill=\"#000000\">l1.weight</text>\n",
       "<text text-anchor=\"middle\" x=\"166\" y=\"-528.4\" font-family=\"Times,serif\" font-size=\"12.00\" fill=\"#000000\"> (128, 784)</text>\n",
       "</g>\n",
       "<!-- 140414372361944&#45;&gt;140414372361776 -->\n",
       "<g id=\"edge11\" class=\"edge\">\n",
       "<title>140414372361944&#45;&gt;140414372361776</title>\n",
       "<path fill=\"none\" stroke=\"#000000\" d=\"M166,-520.6966C166,-511.0634 166,-499.003 166,-488.8518\"/>\n",
       "<polygon fill=\"#000000\" stroke=\"#000000\" points=\"169.5001,-488.7912 166,-478.7913 162.5001,-488.7913 169.5001,-488.7912\"/>\n",
       "</g>\n",
       "<!-- 140414313947992 -->\n",
       "<g id=\"node13\" class=\"node\">\n",
       "<title>140414313947992</title>\n",
       "<polygon fill=\"#d3d3d3\" stroke=\"#000000\" points=\"268.5,-338.5 195.5,-338.5 195.5,-317.5 268.5,-317.5 268.5,-338.5\"/>\n",
       "<text text-anchor=\"middle\" x=\"232\" y=\"-324.9\" font-family=\"Times,serif\" font-size=\"12.00\" fill=\"#000000\">TBackward</text>\n",
       "</g>\n",
       "<!-- 140414313947992&#45;&gt;140414313949896 -->\n",
       "<g id=\"edge12\" class=\"edge\">\n",
       "<title>140414313947992&#45;&gt;140414313949896</title>\n",
       "<path fill=\"none\" stroke=\"#000000\" d=\"M215.749,-317.3685C198.1284,-305.841 169.8059,-287.3123 149.4873,-274.0197\"/>\n",
       "<polygon fill=\"#000000\" stroke=\"#000000\" points=\"151.3378,-271.0479 141.0533,-268.5022 147.5056,-276.9057 151.3378,-271.0479\"/>\n",
       "</g>\n",
       "<!-- 140414313947880 -->\n",
       "<g id=\"node14\" class=\"node\">\n",
       "<title>140414313947880</title>\n",
       "<polygon fill=\"#add8e6\" stroke=\"#000000\" points=\"266.5,-415 197.5,-415 197.5,-381 266.5,-381 266.5,-415\"/>\n",
       "<text text-anchor=\"middle\" x=\"232\" y=\"-401.4\" font-family=\"Times,serif\" font-size=\"12.00\" fill=\"#000000\">l2.weight</text>\n",
       "<text text-anchor=\"middle\" x=\"232\" y=\"-388.4\" font-family=\"Times,serif\" font-size=\"12.00\" fill=\"#000000\"> (128, 128)</text>\n",
       "</g>\n",
       "<!-- 140414313947880&#45;&gt;140414313947992 -->\n",
       "<g id=\"edge13\" class=\"edge\">\n",
       "<title>140414313947880&#45;&gt;140414313947992</title>\n",
       "<path fill=\"none\" stroke=\"#000000\" d=\"M232,-380.6966C232,-371.0634 232,-359.003 232,-348.8518\"/>\n",
       "<polygon fill=\"#000000\" stroke=\"#000000\" points=\"235.5001,-348.7912 232,-338.7913 228.5001,-348.7913 235.5001,-348.7912\"/>\n",
       "</g>\n",
       "<!-- 140414313949056 -->\n",
       "<g id=\"node15\" class=\"node\">\n",
       "<title>140414313949056</title>\n",
       "<polygon fill=\"#d3d3d3\" stroke=\"#000000\" points=\"268.5,-198.5 195.5,-198.5 195.5,-177.5 268.5,-177.5 268.5,-198.5\"/>\n",
       "<text text-anchor=\"middle\" x=\"232\" y=\"-184.9\" font-family=\"Times,serif\" font-size=\"12.00\" fill=\"#000000\">TBackward</text>\n",
       "</g>\n",
       "<!-- 140414313949056&#45;&gt;140414313947488 -->\n",
       "<g id=\"edge14\" class=\"edge\">\n",
       "<title>140414313949056&#45;&gt;140414313947488</title>\n",
       "<path fill=\"none\" stroke=\"#000000\" d=\"M213.8489,-177.2281C196.7601,-167.0866 170.9618,-151.7764 151.5599,-140.2622\"/>\n",
       "<polygon fill=\"#000000\" stroke=\"#000000\" points=\"153.2689,-137.2065 142.883,-135.1128 149.6964,-143.2263 153.2689,-137.2065\"/>\n",
       "</g>\n",
       "<!-- 140414313950456 -->\n",
       "<g id=\"node16\" class=\"node\">\n",
       "<title>140414313950456</title>\n",
       "<polygon fill=\"#add8e6\" stroke=\"#000000\" points=\"263.5,-275 200.5,-275 200.5,-241 263.5,-241 263.5,-275\"/>\n",
       "<text text-anchor=\"middle\" x=\"232\" y=\"-261.4\" font-family=\"Times,serif\" font-size=\"12.00\" fill=\"#000000\">l3.weight</text>\n",
       "<text text-anchor=\"middle\" x=\"232\" y=\"-248.4\" font-family=\"Times,serif\" font-size=\"12.00\" fill=\"#000000\"> (10, 128)</text>\n",
       "</g>\n",
       "<!-- 140414313950456&#45;&gt;140414313949056 -->\n",
       "<g id=\"edge15\" class=\"edge\">\n",
       "<title>140414313950456&#45;&gt;140414313949056</title>\n",
       "<path fill=\"none\" stroke=\"#000000\" d=\"M232,-240.6966C232,-231.0634 232,-219.003 232,-208.8518\"/>\n",
       "<polygon fill=\"#000000\" stroke=\"#000000\" points=\"235.5001,-208.7912 232,-198.7913 228.5001,-208.7913 235.5001,-208.7912\"/>\n",
       "</g>\n",
       "</g>\n",
       "</svg>\n"
      ],
      "text/plain": [
       "<graphviz.dot.Digraph at 0x7fb4c14de6d8>"
      ]
     },
     "execution_count": 78,
     "metadata": {
      "tags": []
     },
     "output_type": "execute_result"
    }
   ],
   "source": [
    "# 予測値の計算\n",
    "outputs = net(inputs)\n",
    "\n",
    "#  損失値の計算\n",
    "loss = criterion(outputs, labels)\n",
    "\n",
    "# 損失関数のグラフ化\n",
    "make_dot(loss, params=dict(net.named_parameters()))"
   ]
  },
  {
   "cell_type": "code",
   "execution_count": 79,
   "metadata": {
    "colab": {
     "base_uri": "https://localhost:8080/"
    },
    "id": "mwB_Ozi4nHg3",
    "outputId": "50a2ff9d-d142-4f26-8685-8e7372671af8"
   },
   "outputs": [
    {
     "name": "stdout",
     "output_type": "stream",
     "text": [
      "[[-0.00013 -0.00013 -0.00013 ... -0.00013 -0.00013 -0.00013]\n",
      " [-0.00034 -0.00034 -0.00034 ... -0.00034 -0.00034 -0.00034]\n",
      " [ 0.0001   0.0001   0.0001  ...  0.0001   0.0001   0.0001 ]\n",
      " ...\n",
      " [ 0.0002   0.0002   0.0002  ...  0.0002   0.0002   0.0002 ]\n",
      " [ 0.00025  0.00025  0.00025 ...  0.00025  0.00025  0.00025]\n",
      " [-0.00001 -0.00001 -0.00001 ... -0.00001 -0.00001 -0.00001]]\n"
     ]
    }
   ],
   "source": [
    "# 勾配計算の実行\n",
    "loss.backward()\n",
    "\n",
    "# 勾配計算結果の一部\n",
    "w = net.to('cpu')\n",
    "print(w.l1.weight.grad.numpy())"
   ]
  },
  {
   "cell_type": "markdown",
   "metadata": {
    "id": "lcZ6_XudTXJe"
   },
   "source": [
    "## コラム 「ディープラーニングの数学」との結果比較"
   ]
  },
  {
   "cell_type": "markdown",
   "metadata": {
    "id": "nt295NtfX_HK"
   },
   "source": [
    "### batch_size=100に変更"
   ]
  },
  {
   "cell_type": "code",
   "execution_count": 80,
   "metadata": {
    "id": "yrGfrt86QRbs"
   },
   "outputs": [],
   "source": [
    "# ミニバッチのサイズ指定\n",
    "batch_size = 100\n",
    "\n",
    "# 訓練用データローダー\n",
    "# 訓練用なので、シャッフルをかける\n",
    "train_loader = DataLoader(\n",
    "    train_set, \n",
    "    batch_size=batch_size, \n",
    "    shuffle=True)\n",
    "\n",
    "# 検証用データローダー\n",
    "# 検証時にシャッフルは不要\n",
    "test_loader = DataLoader(\n",
    "    test_set,  \n",
    "    batch_size=batch_size, \n",
    "    shuffle=False) "
   ]
  },
  {
   "cell_type": "code",
   "execution_count": 81,
   "metadata": {
    "id": "Z00C5PsdQRbs"
   },
   "outputs": [],
   "source": [
    "# モデルの定義\n",
    "# 784入力10出力1隠れ層のニューラルネットワークモデル\n",
    "\n",
    "class Net(nn.Module):\n",
    "    def __init__(self, n_input, n_output, n_hidden):\n",
    "        super().__init__()\n",
    "\n",
    "        # 隠れ層の定義 (隠れ層のノード数: n_hidden)\n",
    "        self.l1 = nn.Linear(n_input, n_hidden)\n",
    "\n",
    "        # 出力層の定義\n",
    "        self.l2 = nn.Linear(n_hidden, n_output)\n",
    "\n",
    "        # ReLU関数の定義\n",
    "        self.relu = nn.ReLU(inplace=True)\n",
    "   \n",
    "    def forward(self, x):\n",
    "        x1 = self.l1(x)\n",
    "        x2 = self.relu(x1)\n",
    "        x3 = self.l2(x2)\n",
    "        return x3"
   ]
  },
  {
   "cell_type": "code",
   "execution_count": 82,
   "metadata": {
    "id": "fSDG1UhbTuk4"
   },
   "outputs": [],
   "source": [
    "# 学習率\n",
    "lr = 0.01\n",
    "\n",
    "# モデル初期化\n",
    "net = Net(n_input, n_output, n_hidden).to(device)\n",
    "\n",
    "# 最適化アルゴリズム: 勾配降下法\n",
    "optimizer = optim.SGD(net.parameters(), lr=lr)\n",
    "\n",
    "# 損失関数： 交差エントロピー関数\n",
    "criterion = nn.CrossEntropyLoss()\n",
    "\n",
    "# 繰り返し回数\n",
    "num_epochs = 100\n",
    "\n",
    "# 評価結果記録用\n",
    "history3 = np.zeros((0,5))"
   ]
  },
  {
   "cell_type": "code",
   "execution_count": 83,
   "metadata": {
    "colab": {
     "base_uri": "https://localhost:8080/"
    },
    "id": "Amn6wQPnT3Cf",
    "outputId": "643a201e-e94b-4242-c8f9-bd6c9c635961"
   },
   "outputs": [
    {
     "name": "stdout",
     "output_type": "stream",
     "text": [
      "Epoch [1/100], loss: 0.93200 acc: 0.77952 val_loss: 0.45879, val_acc: 0.88120\n",
      "Epoch [2/100], loss: 0.41647 acc: 0.88568 val_loss: 0.35588, val_acc: 0.90130\n",
      "Epoch [3/100], loss: 0.35569 acc: 0.89895 val_loss: 0.32422, val_acc: 0.90640\n",
      "Epoch [4/100], loss: 0.32707 acc: 0.90660 val_loss: 0.30241, val_acc: 0.91250\n",
      "Epoch [5/100], loss: 0.30712 acc: 0.91177 val_loss: 0.29292, val_acc: 0.91500\n",
      "Epoch [6/100], loss: 0.29169 acc: 0.91605 val_loss: 0.27576, val_acc: 0.92040\n",
      "Epoch [7/100], loss: 0.27877 acc: 0.92002 val_loss: 0.26693, val_acc: 0.92240\n",
      "Epoch [8/100], loss: 0.26637 acc: 0.92373 val_loss: 0.25631, val_acc: 0.92550\n",
      "Epoch [9/100], loss: 0.25522 acc: 0.92743 val_loss: 0.24362, val_acc: 0.93050\n",
      "Epoch [10/100], loss: 0.24461 acc: 0.93052 val_loss: 0.23363, val_acc: 0.93320\n",
      "Epoch [11/100], loss: 0.23451 acc: 0.93350 val_loss: 0.22809, val_acc: 0.93550\n",
      "Epoch [12/100], loss: 0.22511 acc: 0.93625 val_loss: 0.21735, val_acc: 0.93770\n",
      "Epoch [13/100], loss: 0.21656 acc: 0.93918 val_loss: 0.21210, val_acc: 0.93740\n",
      "Epoch [14/100], loss: 0.20875 acc: 0.94108 val_loss: 0.20314, val_acc: 0.94100\n",
      "Epoch [15/100], loss: 0.20127 acc: 0.94340 val_loss: 0.19745, val_acc: 0.94310\n",
      "Epoch [16/100], loss: 0.19415 acc: 0.94475 val_loss: 0.19498, val_acc: 0.94400\n",
      "Epoch [17/100], loss: 0.18743 acc: 0.94727 val_loss: 0.18403, val_acc: 0.94610\n",
      "Epoch [18/100], loss: 0.18149 acc: 0.94850 val_loss: 0.17972, val_acc: 0.94880\n",
      "Epoch [19/100], loss: 0.17544 acc: 0.95053 val_loss: 0.17635, val_acc: 0.94800\n",
      "Epoch [20/100], loss: 0.16993 acc: 0.95182 val_loss: 0.17186, val_acc: 0.95210\n",
      "Epoch [21/100], loss: 0.16502 acc: 0.95348 val_loss: 0.16578, val_acc: 0.95170\n",
      "Epoch [22/100], loss: 0.16024 acc: 0.95495 val_loss: 0.16308, val_acc: 0.95330\n",
      "Epoch [23/100], loss: 0.15562 acc: 0.95598 val_loss: 0.15827, val_acc: 0.95370\n",
      "Epoch [24/100], loss: 0.15134 acc: 0.95732 val_loss: 0.15404, val_acc: 0.95490\n",
      "Epoch [25/100], loss: 0.14709 acc: 0.95868 val_loss: 0.14931, val_acc: 0.95720\n",
      "Epoch [26/100], loss: 0.14333 acc: 0.95975 val_loss: 0.14776, val_acc: 0.95700\n",
      "Epoch [27/100], loss: 0.13968 acc: 0.96065 val_loss: 0.14287, val_acc: 0.95720\n",
      "Epoch [28/100], loss: 0.13597 acc: 0.96132 val_loss: 0.14185, val_acc: 0.95860\n",
      "Epoch [29/100], loss: 0.13254 acc: 0.96230 val_loss: 0.13792, val_acc: 0.96070\n",
      "Epoch [30/100], loss: 0.12933 acc: 0.96300 val_loss: 0.13749, val_acc: 0.95940\n",
      "Epoch [31/100], loss: 0.12645 acc: 0.96468 val_loss: 0.13332, val_acc: 0.96100\n",
      "Epoch [32/100], loss: 0.12356 acc: 0.96530 val_loss: 0.13042, val_acc: 0.96170\n",
      "Epoch [33/100], loss: 0.12057 acc: 0.96580 val_loss: 0.12923, val_acc: 0.96180\n",
      "Epoch [34/100], loss: 0.11770 acc: 0.96677 val_loss: 0.12688, val_acc: 0.96310\n",
      "Epoch [35/100], loss: 0.11514 acc: 0.96768 val_loss: 0.12447, val_acc: 0.96330\n",
      "Epoch [36/100], loss: 0.11263 acc: 0.96870 val_loss: 0.12275, val_acc: 0.96390\n",
      "Epoch [37/100], loss: 0.11035 acc: 0.96918 val_loss: 0.12107, val_acc: 0.96380\n",
      "Epoch [38/100], loss: 0.10791 acc: 0.96973 val_loss: 0.11894, val_acc: 0.96530\n",
      "Epoch [39/100], loss: 0.10580 acc: 0.97045 val_loss: 0.11611, val_acc: 0.96580\n",
      "Epoch [40/100], loss: 0.10377 acc: 0.97125 val_loss: 0.11500, val_acc: 0.96620\n",
      "Epoch [41/100], loss: 0.10156 acc: 0.97135 val_loss: 0.11445, val_acc: 0.96680\n",
      "Epoch [42/100], loss: 0.09959 acc: 0.97198 val_loss: 0.11365, val_acc: 0.96640\n",
      "Epoch [43/100], loss: 0.09762 acc: 0.97298 val_loss: 0.11177, val_acc: 0.96690\n",
      "Epoch [44/100], loss: 0.09580 acc: 0.97333 val_loss: 0.11091, val_acc: 0.96700\n",
      "Epoch [45/100], loss: 0.09414 acc: 0.97407 val_loss: 0.10861, val_acc: 0.96740\n",
      "Epoch [46/100], loss: 0.09220 acc: 0.97403 val_loss: 0.10697, val_acc: 0.96750\n",
      "Epoch [47/100], loss: 0.09058 acc: 0.97540 val_loss: 0.10723, val_acc: 0.96850\n",
      "Epoch [48/100], loss: 0.08886 acc: 0.97488 val_loss: 0.10571, val_acc: 0.96730\n",
      "Epoch [49/100], loss: 0.08718 acc: 0.97562 val_loss: 0.10509, val_acc: 0.96910\n",
      "Epoch [50/100], loss: 0.08578 acc: 0.97613 val_loss: 0.10377, val_acc: 0.96790\n",
      "Epoch [51/100], loss: 0.08432 acc: 0.97680 val_loss: 0.10178, val_acc: 0.96950\n",
      "Epoch [52/100], loss: 0.08284 acc: 0.97702 val_loss: 0.10007, val_acc: 0.96910\n",
      "Epoch [53/100], loss: 0.08154 acc: 0.97730 val_loss: 0.10238, val_acc: 0.96860\n",
      "Epoch [54/100], loss: 0.08003 acc: 0.97777 val_loss: 0.09915, val_acc: 0.97000\n",
      "Epoch [55/100], loss: 0.07864 acc: 0.97803 val_loss: 0.09687, val_acc: 0.97070\n",
      "Epoch [56/100], loss: 0.07763 acc: 0.97843 val_loss: 0.09613, val_acc: 0.97100\n",
      "Epoch [57/100], loss: 0.07621 acc: 0.97870 val_loss: 0.09724, val_acc: 0.97020\n",
      "Epoch [58/100], loss: 0.07510 acc: 0.97897 val_loss: 0.09475, val_acc: 0.97110\n",
      "Epoch [59/100], loss: 0.07380 acc: 0.97935 val_loss: 0.09469, val_acc: 0.97090\n",
      "Epoch [60/100], loss: 0.07278 acc: 0.97992 val_loss: 0.09548, val_acc: 0.97040\n",
      "Epoch [61/100], loss: 0.07167 acc: 0.98007 val_loss: 0.09410, val_acc: 0.97120\n",
      "Epoch [62/100], loss: 0.07022 acc: 0.98093 val_loss: 0.09177, val_acc: 0.97250\n",
      "Epoch [63/100], loss: 0.06925 acc: 0.98037 val_loss: 0.09193, val_acc: 0.97130\n",
      "Epoch [64/100], loss: 0.06826 acc: 0.98078 val_loss: 0.09143, val_acc: 0.97230\n",
      "Epoch [65/100], loss: 0.06729 acc: 0.98140 val_loss: 0.09062, val_acc: 0.97260\n",
      "Epoch [66/100], loss: 0.06626 acc: 0.98172 val_loss: 0.08954, val_acc: 0.97270\n",
      "Epoch [67/100], loss: 0.06523 acc: 0.98210 val_loss: 0.08996, val_acc: 0.97320\n",
      "Epoch [68/100], loss: 0.06449 acc: 0.98225 val_loss: 0.08841, val_acc: 0.97330\n",
      "Epoch [69/100], loss: 0.06343 acc: 0.98270 val_loss: 0.08682, val_acc: 0.97320\n",
      "Epoch [70/100], loss: 0.06240 acc: 0.98318 val_loss: 0.08823, val_acc: 0.97230\n",
      "Epoch [71/100], loss: 0.06176 acc: 0.98290 val_loss: 0.08698, val_acc: 0.97350\n",
      "Epoch [72/100], loss: 0.06086 acc: 0.98367 val_loss: 0.08666, val_acc: 0.97240\n",
      "Epoch [73/100], loss: 0.05989 acc: 0.98373 val_loss: 0.08579, val_acc: 0.97320\n",
      "Epoch [74/100], loss: 0.05910 acc: 0.98388 val_loss: 0.08550, val_acc: 0.97370\n",
      "Epoch [75/100], loss: 0.05827 acc: 0.98437 val_loss: 0.08362, val_acc: 0.97450\n",
      "Epoch [76/100], loss: 0.05757 acc: 0.98462 val_loss: 0.08556, val_acc: 0.97380\n",
      "Epoch [77/100], loss: 0.05683 acc: 0.98440 val_loss: 0.08376, val_acc: 0.97370\n",
      "Epoch [78/100], loss: 0.05591 acc: 0.98497 val_loss: 0.08730, val_acc: 0.97320\n",
      "Epoch [79/100], loss: 0.05539 acc: 0.98537 val_loss: 0.08336, val_acc: 0.97470\n",
      "Epoch [80/100], loss: 0.05456 acc: 0.98578 val_loss: 0.08376, val_acc: 0.97340\n",
      "Epoch [81/100], loss: 0.05379 acc: 0.98577 val_loss: 0.08296, val_acc: 0.97410\n",
      "Epoch [82/100], loss: 0.05308 acc: 0.98603 val_loss: 0.08341, val_acc: 0.97470\n",
      "Epoch [83/100], loss: 0.05244 acc: 0.98603 val_loss: 0.08148, val_acc: 0.97520\n",
      "Epoch [84/100], loss: 0.05180 acc: 0.98638 val_loss: 0.08143, val_acc: 0.97450\n",
      "Epoch [85/100], loss: 0.05118 acc: 0.98675 val_loss: 0.08092, val_acc: 0.97510\n",
      "Epoch [86/100], loss: 0.05044 acc: 0.98697 val_loss: 0.08148, val_acc: 0.97470\n",
      "Epoch [87/100], loss: 0.04985 acc: 0.98710 val_loss: 0.08064, val_acc: 0.97490\n",
      "Epoch [88/100], loss: 0.04919 acc: 0.98713 val_loss: 0.08160, val_acc: 0.97550\n",
      "Epoch [89/100], loss: 0.04875 acc: 0.98707 val_loss: 0.07886, val_acc: 0.97520\n",
      "Epoch [90/100], loss: 0.04798 acc: 0.98765 val_loss: 0.07985, val_acc: 0.97460\n",
      "Epoch [91/100], loss: 0.04745 acc: 0.98760 val_loss: 0.07864, val_acc: 0.97550\n",
      "Epoch [92/100], loss: 0.04696 acc: 0.98760 val_loss: 0.07853, val_acc: 0.97590\n",
      "Epoch [93/100], loss: 0.04624 acc: 0.98813 val_loss: 0.07904, val_acc: 0.97560\n",
      "Epoch [94/100], loss: 0.04571 acc: 0.98843 val_loss: 0.07894, val_acc: 0.97540\n",
      "Epoch [95/100], loss: 0.04508 acc: 0.98828 val_loss: 0.07823, val_acc: 0.97580\n",
      "Epoch [96/100], loss: 0.04463 acc: 0.98847 val_loss: 0.07709, val_acc: 0.97620\n",
      "Epoch [97/100], loss: 0.04391 acc: 0.98872 val_loss: 0.07869, val_acc: 0.97590\n",
      "Epoch [98/100], loss: 0.04364 acc: 0.98905 val_loss: 0.07726, val_acc: 0.97670\n",
      "Epoch [99/100], loss: 0.04320 acc: 0.98898 val_loss: 0.07716, val_acc: 0.97630\n",
      "Epoch [100/100], loss: 0.04263 acc: 0.98920 val_loss: 0.07684, val_acc: 0.97630\n"
     ]
    }
   ],
   "source": [
    "# 繰り返し計算メインループ\n",
    "\n",
    "for epoch in range(num_epochs):\n",
    "    train_acc = 0\n",
    "    train_loss = 0\n",
    "    val_acc = 0\n",
    "    val_loss = 0\n",
    "    n_train = 0\n",
    "    n_test = 0\n",
    "\n",
    "    # 学習フェーズ\n",
    "    for inputs, labels in train_loader:\n",
    "        n_train += len(labels)\n",
    "\n",
    "        # GPUヘ転送\n",
    "        inputs = inputs.to(device)\n",
    "        labels = labels.to(device)\n",
    "    \n",
    "        #勾配の初期化\n",
    "        optimizer.zero_grad()\n",
    "\n",
    "        # 順伝搬計算\n",
    "        outputs = net(inputs)\n",
    "\n",
    "        # 損失計算\n",
    "        loss = criterion(outputs, labels)\n",
    "\n",
    "        # 勾配計算\n",
    "        loss.backward()\n",
    "    \n",
    "        # 重み調整\n",
    "        optimizer.step()\n",
    "\n",
    "        #予測ラベル導出\n",
    "        predicted = torch.max(outputs, 1)[1]\n",
    "\n",
    "        # 訓練データに対する損失と精度の計算\n",
    "        train_loss += loss.item()\n",
    "        train_acc += (predicted == labels).sum() \n",
    "\n",
    "    #予測フェーズ\n",
    "    for inputs_test, labels_test in test_loader:\n",
    "        n_test += len(labels_test)\n",
    "\n",
    "        inputs_test = inputs_test.to(device)\n",
    "        labels_test = labels_test.to(device)\n",
    "\n",
    "        # 順伝搬計算\n",
    "        outputs_test = net(inputs_test)\n",
    "\n",
    "        # 誤差計算\n",
    "        loss_test = criterion(outputs_test, labels_test)\n",
    "\n",
    "        #予測ラベル導出\n",
    "        predicted_test = torch.max(outputs_test, 1)[1]\n",
    "\n",
    "        # 検証データに対する損失と精度の計算\n",
    "        val_loss +=  loss_test.item()\n",
    "        val_acc +=  (predicted_test == labels_test).sum()\n",
    "\n",
    "    # 評価値の算出・記録\n",
    "    train_acc = train_acc / n_train\n",
    "    val_acc = val_acc / n_test\n",
    "    train_loss = train_loss * batch_size / n_train\n",
    "    val_loss = val_loss * batch_size / n_test\n",
    "    print (f'Epoch [{epoch+1}/{num_epochs}], loss: {train_loss:.5f} acc: {train_acc:.5f} val_loss: {val_loss:.5f}, val_acc: {val_acc:.5f}')\n",
    "    item = np.array([epoch+1 , train_loss, train_acc, val_loss, val_acc])\n",
    "    history3 = np.vstack((history3, item))"
   ]
  },
  {
   "cell_type": "code",
   "execution_count": 84,
   "metadata": {
    "colab": {
     "base_uri": "https://localhost:8080/",
     "height": 415
    },
    "id": "ubldoaN6XTJ6",
    "outputId": "57abff79-48d4-4168-fbc5-3e384b901010"
   },
   "outputs": [
    {
     "data": {
      "image/png": "[encoded data removed]",
      "text/plain": [
       "<Figure size 432x432 with 1 Axes>"
      ]
     },
     "metadata": {
      "needs_background": "light",
      "tags": []
     },
     "output_type": "display_data"
    }
   ],
   "source": [
    "# 学習曲線の表示 (精度)\n",
    "\n",
    "plt.plot(history3[:,0], history3[:,4], 'b', label='batch_size=100')\n",
    "plt.plot(history[:,0], history[:,4], 'k', label='batch_size=512')\n",
    "plt.xlabel('繰り返し回数')\n",
    "plt.ylabel('精度')\n",
    "plt.title('学習曲線(精度)')\n",
    "plt.legend()\n",
    "plt.show()"
   ]
  },
  {
   "cell_type": "markdown",
   "metadata": {
    "id": "l27mdkndXTYK"
   },
   "source": [
    "## コラム　lambda式による関数定義"
   ]
  },
  {
   "cell_type": "code",
   "execution_count": 11,
   "metadata": {
    "id": "uHF-e5roXToO"
   },
   "outputs": [],
   "source": [
    "# 通常の関数定義\n",
    "\n",
    "def f(x):\n",
    "    return (2 * x**2 + 2)"
   ]
  },
  {
   "cell_type": "code",
   "execution_count": 12,
   "metadata": {},
   "outputs": [
    {
     "name": "stdout",
     "output_type": "stream",
     "text": [
      "[10.     8.125  6.5    5.125  4.     3.125  2.5    2.125  2.     2.125\n",
      "  2.5    3.125  4.     5.125  6.5    8.125 10.   ]\n"
     ]
    }
   ],
   "source": [
    "x = np.arange(-2, 2.1, 0.25)\n",
    "y = f(x)\n",
    "print(y)"
   ]
  },
  {
   "cell_type": "code",
   "execution_count": 13,
   "metadata": {},
   "outputs": [],
   "source": [
    "# lambda式による関数定義\n",
    "\n",
    "g = lambda x: 2 * x**2 + 2"
   ]
  },
  {
   "cell_type": "code",
   "execution_count": 15,
   "metadata": {},
   "outputs": [
    {
     "name": "stdout",
     "output_type": "stream",
     "text": [
      "[10.     8.125  6.5    5.125  4.     3.125  2.5    2.125  2.     2.125\n",
      "  2.5    3.125  4.     5.125  6.5    8.125 10.   ]\n"
     ]
    }
   ],
   "source": [
    "y = g(x)\n",
    "print(y)"
   ]
  },
  {
   "cell_type": "code",
   "execution_count": null,
   "metadata": {},
   "outputs": [],
   "source": []
  }
 ],
 "metadata": {
  "accelerator": "GPU",
  "colab": {
   "collapsed_sections": [],
   "name": "ch07_dl.ipynb",
   "provenance": [],
   "toc_visible": true
  },
  "kernelspec": {
   "display_name": "Python 3",
   "language": "python",
   "name": "python3"
  },
  "language_info": {
   "codemirror_mode": {
    "name": "ipython",
    "version": 3
   },
   "file_extension": ".py",
   "mimetype": "text/x-python",
   "name": "python",
   "nbconvert_exporter": "python",
   "pygments_lexer": "ipython3",
   "version": "3.8.5"
  },
  "widgets": {
   "application/vnd.jupyter.widget-state+json": {
    "02e03c7886a74a46896e97482ee9de76": {
     "model_module": "@jupyter-widgets/base",
     "model_name": "LayoutModel",
     "state": {
      "_model_module": "@jupyter-widgets/base",
      "_model_module_version": "1.2.0",
      "_model_name": "LayoutModel",
      "_view_count": null,
      "_view_module": "@jupyter-widgets/base",
      "_view_module_version": "1.2.0",
      "_view_name": "LayoutView",
      "align_content": null,
      "align_items": null,
      "align_self": null,
      "border": null,
      "bottom": null,
      "display": null,
      "flex": null,
      "flex_flow": null,
      "grid_area": null,
      "grid_auto_columns": null,
      "grid_auto_flow": null,
      "grid_auto_rows": null,
      "grid_column": null,
      "grid_gap": null,
      "grid_row": null,
      "grid_template_areas": null,
      "grid_template_columns": null,
      "grid_template_rows": null,
      "height": null,
      "justify_content": null,
      "justify_items": null,
      "left": null,
      "margin": null,
      "max_height": null,
      "max_width": null,
      "min_height": null,
      "min_width": null,
      "object_fit": null,
      "object_position": null,
      "order": null,
      "overflow": null,
      "overflow_x": null,
      "overflow_y": null,
      "padding": null,
      "right": null,
      "top": null,
      "visibility": null,
      "width": null
     }
    },
    "1842b3e5be23460aac3e33cc2f32cc59": {
     "model_module": "@jupyter-widgets/controls",
     "model_name": "DescriptionStyleModel",
     "state": {
      "_model_module": "@jupyter-widgets/controls",
      "_model_module_version": "1.5.0",
      "_model_name": "DescriptionStyleModel",
      "_view_count": null,
      "_view_module": "@jupyter-widgets/base",
      "_view_module_version": "1.2.0",
      "_view_name": "StyleView",
      "description_width": ""
     }
    },
    "1beb52673f484045a7d3b8a2091c4e1c": {
     "model_module": "@jupyter-widgets/controls",
     "model_name": "ProgressStyleModel",
     "state": {
      "_model_module": "@jupyter-widgets/controls",
      "_model_module_version": "1.5.0",
      "_model_name": "ProgressStyleModel",
      "_view_count": null,
      "_view_module": "@jupyter-widgets/base",
      "_view_module_version": "1.2.0",
      "_view_name": "StyleView",
      "bar_color": null,
      "description_width": "initial"
     }
    },
    "32d476d4d85d4d4e94e95cbb91094ed4": {
     "model_module": "@jupyter-widgets/controls",
     "model_name": "DescriptionStyleModel",
     "state": {
      "_model_module": "@jupyter-widgets/controls",
      "_model_module_version": "1.5.0",
      "_model_name": "DescriptionStyleModel",
      "_view_count": null,
      "_view_module": "@jupyter-widgets/base",
      "_view_module_version": "1.2.0",
      "_view_name": "StyleView",
      "description_width": ""
     }
    },
    "359b679985c04417a76a7df5414d6974": {
     "model_module": "@jupyter-widgets/controls",
     "model_name": "HTMLModel",
     "state": {
      "_dom_classes": [],
      "_model_module": "@jupyter-widgets/controls",
      "_model_module_version": "1.5.0",
      "_model_name": "HTMLModel",
      "_view_count": null,
      "_view_module": "@jupyter-widgets/controls",
      "_view_module_version": "1.5.0",
      "_view_name": "HTMLView",
      "description": "",
      "description_tooltip": null,
      "layout": "IPY_MODEL_6a78e9217e7c4ca4a780789bb318d085",
      "placeholder": "​",
      "style": "IPY_MODEL_d4259053fe3b49838dbd4d146bf8277d",
      "value": " 1654784/? [00:00&lt;00:00, 2258818.52it/s]"
     }
    },
    "45d94949ba84422da3d1c48c629015d9": {
     "model_module": "@jupyter-widgets/controls",
     "model_name": "HBoxModel",
     "state": {
      "_dom_classes": [],
      "_model_module": "@jupyter-widgets/controls",
      "_model_module_version": "1.5.0",
      "_model_name": "HBoxModel",
      "_view_count": null,
      "_view_module": "@jupyter-widgets/controls",
      "_view_module_version": "1.5.0",
      "_view_name": "HBoxView",
      "box_style": "",
      "children": [
       "IPY_MODEL_e8e98489053c413ab4b6e59a1e629fea",
       "IPY_MODEL_afc03f251132407fbe9630508770222f"
      ],
      "layout": "IPY_MODEL_ba4397c1af1646d88cbf7bfb3d4efc30"
     }
    },
    "4771419654244035972f210b278ff6a3": {
     "model_module": "@jupyter-widgets/base",
     "model_name": "LayoutModel",
     "state": {
      "_model_module": "@jupyter-widgets/base",
      "_model_module_version": "1.2.0",
      "_model_name": "LayoutModel",
      "_view_count": null,
      "_view_module": "@jupyter-widgets/base",
      "_view_module_version": "1.2.0",
      "_view_name": "LayoutView",
      "align_content": null,
      "align_items": null,
      "align_self": null,
      "border": null,
      "bottom": null,
      "display": null,
      "flex": null,
      "flex_flow": null,
      "grid_area": null,
      "grid_auto_columns": null,
      "grid_auto_flow": null,
      "grid_auto_rows": null,
      "grid_column": null,
      "grid_gap": null,
      "grid_row": null,
      "grid_template_areas": null,
      "grid_template_columns": null,
      "grid_template_rows": null,
      "height": null,
      "justify_content": null,
      "justify_items": null,
      "left": null,
      "margin": null,
      "max_height": null,
      "max_width": null,
      "min_height": null,
      "min_width": null,
      "object_fit": null,
      "object_position": null,
      "order": null,
      "overflow": null,
      "overflow_x": null,
      "overflow_y": null,
      "padding": null,
      "right": null,
      "top": null,
      "visibility": null,
      "width": null
     }
    },
    "52d574f49b8248f6ae316222559790bd": {
     "model_module": "@jupyter-widgets/controls",
     "model_name": "FloatProgressModel",
     "state": {
      "_dom_classes": [],
      "_model_module": "@jupyter-widgets/controls",
      "_model_module_version": "1.5.0",
      "_model_name": "FloatProgressModel",
      "_view_count": null,
      "_view_module": "@jupyter-widgets/controls",
      "_view_module_version": "1.5.0",
      "_view_name": "ProgressView",
      "bar_style": "success",
      "description": "",
      "description_tooltip": null,
      "layout": "IPY_MODEL_fa6630fc75cf4c7ca9c9d006ba344623",
      "max": 1,
      "min": 0,
      "orientation": "horizontal",
      "style": "IPY_MODEL_92e33fd0bf164367b89ae88772bd81bb",
      "value": 1
     }
    },
    "5517ce3a3e84498f88f4fea1fa37df56": {
     "model_module": "@jupyter-widgets/controls",
     "model_name": "ProgressStyleModel",
     "state": {
      "_model_module": "@jupyter-widgets/controls",
      "_model_module_version": "1.5.0",
      "_model_name": "ProgressStyleModel",
      "_view_count": null,
      "_view_module": "@jupyter-widgets/base",
      "_view_module_version": "1.2.0",
      "_view_name": "StyleView",
      "bar_color": null,
      "description_width": "initial"
     }
    },
    "6186ed816418452bb2fb814b7aafe170": {
     "model_module": "@jupyter-widgets/controls",
     "model_name": "ProgressStyleModel",
     "state": {
      "_model_module": "@jupyter-widgets/controls",
      "_model_module_version": "1.5.0",
      "_model_name": "ProgressStyleModel",
      "_view_count": null,
      "_view_module": "@jupyter-widgets/base",
      "_view_module_version": "1.2.0",
      "_view_name": "StyleView",
      "bar_color": null,
      "description_width": "initial"
     }
    },
    "6a78e9217e7c4ca4a780789bb318d085": {
     "model_module": "@jupyter-widgets/base",
     "model_name": "LayoutModel",
     "state": {
      "_model_module": "@jupyter-widgets/base",
      "_model_module_version": "1.2.0",
      "_model_name": "LayoutModel",
      "_view_count": null,
      "_view_module": "@jupyter-widgets/base",
      "_view_module_version": "1.2.0",
      "_view_name": "LayoutView",
      "align_content": null,
      "align_items": null,
      "align_self": null,
      "border": null,
      "bottom": null,
      "display": null,
      "flex": null,
      "flex_flow": null,
      "grid_area": null,
      "grid_auto_columns": null,
      "grid_auto_flow": null,
      "grid_auto_rows": null,
      "grid_column": null,
      "grid_gap": null,
      "grid_row": null,
      "grid_template_areas": null,
      "grid_template_columns": null,
      "grid_template_rows": null,
      "height": null,
      "justify_content": null,
      "justify_items": null,
      "left": null,
      "margin": null,
      "max_height": null,
      "max_width": null,
      "min_height": null,
      "min_width": null,
      "object_fit": null,
      "object_position": null,
      "order": null,
      "overflow": null,
      "overflow_x": null,
      "overflow_y": null,
      "padding": null,
      "right": null,
      "top": null,
      "visibility": null,
      "width": null
     }
    },
    "746a0e05570c4808a6c26203c944d172": {
     "model_module": "@jupyter-widgets/controls",
     "model_name": "HTMLModel",
     "state": {
      "_dom_classes": [],
      "_model_module": "@jupyter-widgets/controls",
      "_model_module_version": "1.5.0",
      "_model_name": "HTMLModel",
      "_view_count": null,
      "_view_module": "@jupyter-widgets/controls",
      "_view_module_version": "1.5.0",
      "_view_name": "HTMLView",
      "description": "",
      "description_tooltip": null,
      "layout": "IPY_MODEL_b76a6575d7214c9b9449b0154d6fee1c",
      "placeholder": "​",
      "style": "IPY_MODEL_edf8fed933b948b69fad24ed843b6859",
      "value": " 32768/? [00:01&lt;00:00, 32569.31it/s]"
     }
    },
    "89fac96688e0411b913b9be124526412": {
     "model_module": "@jupyter-widgets/controls",
     "model_name": "HBoxModel",
     "state": {
      "_dom_classes": [],
      "_model_module": "@jupyter-widgets/controls",
      "_model_module_version": "1.5.0",
      "_model_name": "HBoxModel",
      "_view_count": null,
      "_view_module": "@jupyter-widgets/controls",
      "_view_module_version": "1.5.0",
      "_view_name": "HBoxView",
      "box_style": "",
      "children": [
       "IPY_MODEL_9926c28bda0544b9b775e17f94764d88",
       "IPY_MODEL_359b679985c04417a76a7df5414d6974"
      ],
      "layout": "IPY_MODEL_a621b198c3a243ee8966f38438e26007"
     }
    },
    "8a1c9810adbc4640bfa5ebcfaff9da1b": {
     "model_module": "@jupyter-widgets/controls",
     "model_name": "HTMLModel",
     "state": {
      "_dom_classes": [],
      "_model_module": "@jupyter-widgets/controls",
      "_model_module_version": "1.5.0",
      "_model_name": "HTMLModel",
      "_view_count": null,
      "_view_module": "@jupyter-widgets/controls",
      "_view_module_version": "1.5.0",
      "_view_name": "HTMLView",
      "description": "",
      "description_tooltip": null,
      "layout": "IPY_MODEL_ccf31c0111574a8c9b5bc3c653a48b8d",
      "placeholder": "​",
      "style": "IPY_MODEL_1842b3e5be23460aac3e33cc2f32cc59",
      "value": " 9920512/? [00:02&lt;00:00, 4163287.85it/s]"
     }
    },
    "92e33fd0bf164367b89ae88772bd81bb": {
     "model_module": "@jupyter-widgets/controls",
     "model_name": "ProgressStyleModel",
     "state": {
      "_model_module": "@jupyter-widgets/controls",
      "_model_module_version": "1.5.0",
      "_model_name": "ProgressStyleModel",
      "_view_count": null,
      "_view_module": "@jupyter-widgets/base",
      "_view_module_version": "1.2.0",
      "_view_name": "StyleView",
      "bar_color": null,
      "description_width": "initial"
     }
    },
    "9926c28bda0544b9b775e17f94764d88": {
     "model_module": "@jupyter-widgets/controls",
     "model_name": "FloatProgressModel",
     "state": {
      "_dom_classes": [],
      "_model_module": "@jupyter-widgets/controls",
      "_model_module_version": "1.5.0",
      "_model_name": "FloatProgressModel",
      "_view_count": null,
      "_view_module": "@jupyter-widgets/controls",
      "_view_module_version": "1.5.0",
      "_view_name": "ProgressView",
      "bar_style": "success",
      "description": "",
      "description_tooltip": null,
      "layout": "IPY_MODEL_ba105c2cf3c248b8910838155624d586",
      "max": 1,
      "min": 0,
      "orientation": "horizontal",
      "style": "IPY_MODEL_5517ce3a3e84498f88f4fea1fa37df56",
      "value": 1
     }
    },
    "a621b198c3a243ee8966f38438e26007": {
     "model_module": "@jupyter-widgets/base",
     "model_name": "LayoutModel",
     "state": {
      "_model_module": "@jupyter-widgets/base",
      "_model_module_version": "1.2.0",
      "_model_name": "LayoutModel",
      "_view_count": null,
      "_view_module": "@jupyter-widgets/base",
      "_view_module_version": "1.2.0",
      "_view_name": "LayoutView",
      "align_content": null,
      "align_items": null,
      "align_self": null,
      "border": null,
      "bottom": null,
      "display": null,
      "flex": null,
      "flex_flow": null,
      "grid_area": null,
      "grid_auto_columns": null,
      "grid_auto_flow": null,
      "grid_auto_rows": null,
      "grid_column": null,
      "grid_gap": null,
      "grid_row": null,
      "grid_template_areas": null,
      "grid_template_columns": null,
      "grid_template_rows": null,
      "height": null,
      "justify_content": null,
      "justify_items": null,
      "left": null,
      "margin": null,
      "max_height": null,
      "max_width": null,
      "min_height": null,
      "min_width": null,
      "object_fit": null,
      "object_position": null,
      "order": null,
      "overflow": null,
      "overflow_x": null,
      "overflow_y": null,
      "padding": null,
      "right": null,
      "top": null,
      "visibility": null,
      "width": null
     }
    },
    "aa8998c2fef14077871d211ee1173f56": {
     "model_module": "@jupyter-widgets/controls",
     "model_name": "HBoxModel",
     "state": {
      "_dom_classes": [],
      "_model_module": "@jupyter-widgets/controls",
      "_model_module_version": "1.5.0",
      "_model_name": "HBoxModel",
      "_view_count": null,
      "_view_module": "@jupyter-widgets/controls",
      "_view_module_version": "1.5.0",
      "_view_name": "HBoxView",
      "box_style": "",
      "children": [
       "IPY_MODEL_52d574f49b8248f6ae316222559790bd",
       "IPY_MODEL_8a1c9810adbc4640bfa5ebcfaff9da1b"
      ],
      "layout": "IPY_MODEL_4771419654244035972f210b278ff6a3"
     }
    },
    "afc03f251132407fbe9630508770222f": {
     "model_module": "@jupyter-widgets/controls",
     "model_name": "HTMLModel",
     "state": {
      "_dom_classes": [],
      "_model_module": "@jupyter-widgets/controls",
      "_model_module_version": "1.5.0",
      "_model_name": "HTMLModel",
      "_view_count": null,
      "_view_module": "@jupyter-widgets/controls",
      "_view_module_version": "1.5.0",
      "_view_name": "HTMLView",
      "description": "",
      "description_tooltip": null,
      "layout": "IPY_MODEL_b2a32a87ecea46c1af75c871920f9c3e",
      "placeholder": "​",
      "style": "IPY_MODEL_32d476d4d85d4d4e94e95cbb91094ed4",
      "value": " 0/4542 [00:00&lt;?, ?it/s]"
     }
    },
    "b2a32a87ecea46c1af75c871920f9c3e": {
     "model_module": "@jupyter-widgets/base",
     "model_name": "LayoutModel",
     "state": {
      "_model_module": "@jupyter-widgets/base",
      "_model_module_version": "1.2.0",
      "_model_name": "LayoutModel",
      "_view_count": null,
      "_view_module": "@jupyter-widgets/base",
      "_view_module_version": "1.2.0",
      "_view_name": "LayoutView",
      "align_content": null,
      "align_items": null,
      "align_self": null,
      "border": null,
      "bottom": null,
      "display": null,
      "flex": null,
      "flex_flow": null,
      "grid_area": null,
      "grid_auto_columns": null,
      "grid_auto_flow": null,
      "grid_auto_rows": null,
      "grid_column": null,
      "grid_gap": null,
      "grid_row": null,
      "grid_template_areas": null,
      "grid_template_columns": null,
      "grid_template_rows": null,
      "height": null,
      "justify_content": null,
      "justify_items": null,
      "left": null,
      "margin": null,
      "max_height": null,
      "max_width": null,
      "min_height": null,
      "min_width": null,
      "object_fit": null,
      "object_position": null,
      "order": null,
      "overflow": null,
      "overflow_x": null,
      "overflow_y": null,
      "padding": null,
      "right": null,
      "top": null,
      "visibility": null,
      "width": null
     }
    },
    "b76a6575d7214c9b9449b0154d6fee1c": {
     "model_module": "@jupyter-widgets/base",
     "model_name": "LayoutModel",
     "state": {
      "_model_module": "@jupyter-widgets/base",
      "_model_module_version": "1.2.0",
      "_model_name": "LayoutModel",
      "_view_count": null,
      "_view_module": "@jupyter-widgets/base",
      "_view_module_version": "1.2.0",
      "_view_name": "LayoutView",
      "align_content": null,
      "align_items": null,
      "align_self": null,
      "border": null,
      "bottom": null,
      "display": null,
      "flex": null,
      "flex_flow": null,
      "grid_area": null,
      "grid_auto_columns": null,
      "grid_auto_flow": null,
      "grid_auto_rows": null,
      "grid_column": null,
      "grid_gap": null,
      "grid_row": null,
      "grid_template_areas": null,
      "grid_template_columns": null,
      "grid_template_rows": null,
      "height": null,
      "justify_content": null,
      "justify_items": null,
      "left": null,
      "margin": null,
      "max_height": null,
      "max_width": null,
      "min_height": null,
      "min_width": null,
      "object_fit": null,
      "object_position": null,
      "order": null,
      "overflow": null,
      "overflow_x": null,
      "overflow_y": null,
      "padding": null,
      "right": null,
      "top": null,
      "visibility": null,
      "width": null
     }
    },
    "ba105c2cf3c248b8910838155624d586": {
     "model_module": "@jupyter-widgets/base",
     "model_name": "LayoutModel",
     "state": {
      "_model_module": "@jupyter-widgets/base",
      "_model_module_version": "1.2.0",
      "_model_name": "LayoutModel",
      "_view_count": null,
      "_view_module": "@jupyter-widgets/base",
      "_view_module_version": "1.2.0",
      "_view_name": "LayoutView",
      "align_content": null,
      "align_items": null,
      "align_self": null,
      "border": null,
      "bottom": null,
      "display": null,
      "flex": null,
      "flex_flow": null,
      "grid_area": null,
      "grid_auto_columns": null,
      "grid_auto_flow": null,
      "grid_auto_rows": null,
      "grid_column": null,
      "grid_gap": null,
      "grid_row": null,
      "grid_template_areas": null,
      "grid_template_columns": null,
      "grid_template_rows": null,
      "height": null,
      "justify_content": null,
      "justify_items": null,
      "left": null,
      "margin": null,
      "max_height": null,
      "max_width": null,
      "min_height": null,
      "min_width": null,
      "object_fit": null,
      "object_position": null,
      "order": null,
      "overflow": null,
      "overflow_x": null,
      "overflow_y": null,
      "padding": null,
      "right": null,
      "top": null,
      "visibility": null,
      "width": null
     }
    },
    "ba4397c1af1646d88cbf7bfb3d4efc30": {
     "model_module": "@jupyter-widgets/base",
     "model_name": "LayoutModel",
     "state": {
      "_model_module": "@jupyter-widgets/base",
      "_model_module_version": "1.2.0",
      "_model_name": "LayoutModel",
      "_view_count": null,
      "_view_module": "@jupyter-widgets/base",
      "_view_module_version": "1.2.0",
      "_view_name": "LayoutView",
      "align_content": null,
      "align_items": null,
      "align_self": null,
      "border": null,
      "bottom": null,
      "display": null,
      "flex": null,
      "flex_flow": null,
      "grid_area": null,
      "grid_auto_columns": null,
      "grid_auto_flow": null,
      "grid_auto_rows": null,
      "grid_column": null,
      "grid_gap": null,
      "grid_row": null,
      "grid_template_areas": null,
      "grid_template_columns": null,
      "grid_template_rows": null,
      "height": null,
      "justify_content": null,
      "justify_items": null,
      "left": null,
      "margin": null,
      "max_height": null,
      "max_width": null,
      "min_height": null,
      "min_width": null,
      "object_fit": null,
      "object_position": null,
      "order": null,
      "overflow": null,
      "overflow_x": null,
      "overflow_y": null,
      "padding": null,
      "right": null,
      "top": null,
      "visibility": null,
      "width": null
     }
    },
    "ccf31c0111574a8c9b5bc3c653a48b8d": {
     "model_module": "@jupyter-widgets/base",
     "model_name": "LayoutModel",
     "state": {
      "_model_module": "@jupyter-widgets/base",
      "_model_module_version": "1.2.0",
      "_model_name": "LayoutModel",
      "_view_count": null,
      "_view_module": "@jupyter-widgets/base",
      "_view_module_version": "1.2.0",
      "_view_name": "LayoutView",
      "align_content": null,
      "align_items": null,
      "align_self": null,
      "border": null,
      "bottom": null,
      "display": null,
      "flex": null,
      "flex_flow": null,
      "grid_area": null,
      "grid_auto_columns": null,
      "grid_auto_flow": null,
      "grid_auto_rows": null,
      "grid_column": null,
      "grid_gap": null,
      "grid_row": null,
      "grid_template_areas": null,
      "grid_template_columns": null,
      "grid_template_rows": null,
      "height": null,
      "justify_content": null,
      "justify_items": null,
      "left": null,
      "margin": null,
      "max_height": null,
      "max_width": null,
      "min_height": null,
      "min_width": null,
      "object_fit": null,
      "object_position": null,
      "order": null,
      "overflow": null,
      "overflow_x": null,
      "overflow_y": null,
      "padding": null,
      "right": null,
      "top": null,
      "visibility": null,
      "width": null
     }
    },
    "d4259053fe3b49838dbd4d146bf8277d": {
     "model_module": "@jupyter-widgets/controls",
     "model_name": "DescriptionStyleModel",
     "state": {
      "_model_module": "@jupyter-widgets/controls",
      "_model_module_version": "1.5.0",
      "_model_name": "DescriptionStyleModel",
      "_view_count": null,
      "_view_module": "@jupyter-widgets/base",
      "_view_module_version": "1.2.0",
      "_view_name": "StyleView",
      "description_width": ""
     }
    },
    "d765e8ca4e8d4b68a8788ae2b705f5f8": {
     "model_module": "@jupyter-widgets/base",
     "model_name": "LayoutModel",
     "state": {
      "_model_module": "@jupyter-widgets/base",
      "_model_module_version": "1.2.0",
      "_model_name": "LayoutModel",
      "_view_count": null,
      "_view_module": "@jupyter-widgets/base",
      "_view_module_version": "1.2.0",
      "_view_name": "LayoutView",
      "align_content": null,
      "align_items": null,
      "align_self": null,
      "border": null,
      "bottom": null,
      "display": null,
      "flex": null,
      "flex_flow": null,
      "grid_area": null,
      "grid_auto_columns": null,
      "grid_auto_flow": null,
      "grid_auto_rows": null,
      "grid_column": null,
      "grid_gap": null,
      "grid_row": null,
      "grid_template_areas": null,
      "grid_template_columns": null,
      "grid_template_rows": null,
      "height": null,
      "justify_content": null,
      "justify_items": null,
      "left": null,
      "margin": null,
      "max_height": null,
      "max_width": null,
      "min_height": null,
      "min_width": null,
      "object_fit": null,
      "object_position": null,
      "order": null,
      "overflow": null,
      "overflow_x": null,
      "overflow_y": null,
      "padding": null,
      "right": null,
      "top": null,
      "visibility": null,
      "width": null
     }
    },
    "d8601209ac724286ac1c37961478dd0e": {
     "model_module": "@jupyter-widgets/controls",
     "model_name": "HBoxModel",
     "state": {
      "_dom_classes": [],
      "_model_module": "@jupyter-widgets/controls",
      "_model_module_version": "1.5.0",
      "_model_name": "HBoxModel",
      "_view_count": null,
      "_view_module": "@jupyter-widgets/controls",
      "_view_module_version": "1.5.0",
      "_view_name": "HBoxView",
      "box_style": "",
      "children": [
       "IPY_MODEL_db74511d71b44126b00002a668f37a4d",
       "IPY_MODEL_746a0e05570c4808a6c26203c944d172"
      ],
      "layout": "IPY_MODEL_d765e8ca4e8d4b68a8788ae2b705f5f8"
     }
    },
    "db74511d71b44126b00002a668f37a4d": {
     "model_module": "@jupyter-widgets/controls",
     "model_name": "FloatProgressModel",
     "state": {
      "_dom_classes": [],
      "_model_module": "@jupyter-widgets/controls",
      "_model_module_version": "1.5.0",
      "_model_name": "FloatProgressModel",
      "_view_count": null,
      "_view_module": "@jupyter-widgets/controls",
      "_view_module_version": "1.5.0",
      "_view_name": "ProgressView",
      "bar_style": "success",
      "description": "",
      "description_tooltip": null,
      "layout": "IPY_MODEL_02e03c7886a74a46896e97482ee9de76",
      "max": 1,
      "min": 0,
      "orientation": "horizontal",
      "style": "IPY_MODEL_6186ed816418452bb2fb814b7aafe170",
      "value": 1
     }
    },
    "e8e98489053c413ab4b6e59a1e629fea": {
     "model_module": "@jupyter-widgets/controls",
     "model_name": "FloatProgressModel",
     "state": {
      "_dom_classes": [],
      "_model_module": "@jupyter-widgets/controls",
      "_model_module_version": "1.5.0",
      "_model_name": "FloatProgressModel",
      "_view_count": null,
      "_view_module": "@jupyter-widgets/controls",
      "_view_module_version": "1.5.0",
      "_view_name": "ProgressView",
      "bar_style": "info",
      "description": "  0%",
      "description_tooltip": null,
      "layout": "IPY_MODEL_f6c15593bda249b6ac13a816c8400f10",
      "max": 1,
      "min": 0,
      "orientation": "horizontal",
      "style": "IPY_MODEL_1beb52673f484045a7d3b8a2091c4e1c",
      "value": 0
     }
    },
    "edf8fed933b948b69fad24ed843b6859": {
     "model_module": "@jupyter-widgets/controls",
     "model_name": "DescriptionStyleModel",
     "state": {
      "_model_module": "@jupyter-widgets/controls",
      "_model_module_version": "1.5.0",
      "_model_name": "DescriptionStyleModel",
      "_view_count": null,
      "_view_module": "@jupyter-widgets/base",
      "_view_module_version": "1.2.0",
      "_view_name": "StyleView",
      "description_width": ""
     }
    },
    "f6c15593bda249b6ac13a816c8400f10": {
     "model_module": "@jupyter-widgets/base",
     "model_name": "LayoutModel",
     "state": {
      "_model_module": "@jupyter-widgets/base",
      "_model_module_version": "1.2.0",
      "_model_name": "LayoutModel",
      "_view_count": null,
      "_view_module": "@jupyter-widgets/base",
      "_view_module_version": "1.2.0",
      "_view_name": "LayoutView",
      "align_content": null,
      "align_items": null,
      "align_self": null,
      "border": null,
      "bottom": null,
      "display": null,
      "flex": null,
      "flex_flow": null,
      "grid_area": null,
      "grid_auto_columns": null,
      "grid_auto_flow": null,
      "grid_auto_rows": null,
      "grid_column": null,
      "grid_gap": null,
      "grid_row": null,
      "grid_template_areas": null,
      "grid_template_columns": null,
      "grid_template_rows": null,
      "height": null,
      "justify_content": null,
      "justify_items": null,
      "left": null,
      "margin": null,
      "max_height": null,
      "max_width": null,
      "min_height": null,
      "min_width": null,
      "object_fit": null,
      "object_position": null,
      "order": null,
      "overflow": null,
      "overflow_x": null,
      "overflow_y": null,
      "padding": null,
      "right": null,
      "top": null,
      "visibility": null,
      "width": null
     }
    },
    "fa6630fc75cf4c7ca9c9d006ba344623": {
     "model_module": "@jupyter-widgets/base",
     "model_name": "LayoutModel",
     "state": {
      "_model_module": "@jupyter-widgets/base",
      "_model_module_version": "1.2.0",
      "_model_name": "LayoutModel",
      "_view_count": null,
      "_view_module": "@jupyter-widgets/base",
      "_view_module_version": "1.2.0",
      "_view_name": "LayoutView",
      "align_content": null,
      "align_items": null,
      "align_self": null,
      "border": null,
      "bottom": null,
      "display": null,
      "flex": null,
      "flex_flow": null,
      "grid_area": null,
      "grid_auto_columns": null,
      "grid_auto_flow": null,
      "grid_auto_rows": null,
      "grid_column": null,
      "grid_gap": null,
      "grid_row": null,
      "grid_template_areas": null,
      "grid_template_columns": null,
      "grid_template_rows": null,
      "height": null,
      "justify_content": null,
      "justify_items": null,
      "left": null,
      "margin": null,
      "max_height": null,
      "max_width": null,
      "min_height": null,
      "min_width": null,
      "object_fit": null,
      "object_position": null,
      "order": null,
      "overflow": null,
      "overflow_x": null,
      "overflow_y": null,
      "padding": null,
      "right": null,
      "top": null,
      "visibility": null,
      "width": null
     }
    }
   }
  }
 },
 "nbformat": 4,
 "nbformat_minor": 1
}
