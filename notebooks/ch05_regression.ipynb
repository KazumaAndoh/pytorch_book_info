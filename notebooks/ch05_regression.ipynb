{
 "cells": [
  {
   "cell_type": "markdown",
   "metadata": {
    "id": "FXGXzQQSZhqU"
   },
   "source": [
    "# 5章　線形回帰"
   ]
  },
  {
   "cell_type": "code",
   "execution_count": 19,
   "metadata": {},
   "outputs": [],
   "source": [
    "# PDF印刷用\n",
    "from IPython.display import set_matplotlib_formats\n",
    "set_matplotlib_formats('png', 'pdf')\n",
    "\n",
    "try:\n",
    "    from google.colab import files\n",
    "except:\n",
    "    pass\n",
    "\n",
    "pdf_ind = 2\n",
    "pdf_base = 'pdf-05-'\n",
    "\n",
    "def create_pdf(plt):\n",
    "    global pdf_ind, pdf_base\n",
    "    fn = f'{pdf_base}{pdf_ind:02d}.pdf'\n",
    "    print(fn)\n",
    "    plt.savefig(fn)\n",
    "    try:\n",
    "        files.download(fn)\n",
    "    except:\n",
    "        pass\n",
    "    pdf_ind = pdf_ind + 1"
   ]
  },
  {
   "cell_type": "code",
   "execution_count": 2,
   "metadata": {
    "colab": {
     "base_uri": "https://localhost:8080/"
    },
    "id": "ID01O-IvXpCi",
    "outputId": "41195be0-ef38-44c6-ddc0-8c9f19df65d3"
   },
   "outputs": [
    {
     "name": "stdout",
     "output_type": "stream",
     "text": [
      "Requirement already satisfied: six in /opt/anaconda3/lib/python3.8/site-packages (from cycler>=0.10->matplotlib->japanize_matplotlib) (1.15.0)\n",
      "Requirement already satisfied: typing-extensions in /opt/anaconda3/lib/python3.8/site-packages (from torch->torchviz) (3.7.4.3)\n"
     ]
    }
   ],
   "source": [
    "# 必要ライブラリの導入\n",
    "\n",
    "!pip install japanize_matplotlib | tail -n 1\n",
    "!pip install torchviz | tail -n 1"
   ]
  },
  {
   "cell_type": "code",
   "execution_count": 3,
   "metadata": {
    "id": "9BuGuNS4XpCk"
   },
   "outputs": [],
   "source": [
    "# 必要ライブラリのインポート\n",
    "\n",
    "%matplotlib inline\n",
    "import numpy as np\n",
    "import matplotlib.pyplot as plt\n",
    "import japanize_matplotlib"
   ]
  },
  {
   "cell_type": "code",
   "execution_count": 4,
   "metadata": {
    "id": "nFqLX4N-XpCk"
   },
   "outputs": [],
   "source": [
    "import torch\n",
    "import torch.nn as nn\n",
    "import torch.optim as optim\n",
    "from torchviz import make_dot"
   ]
  },
  {
   "cell_type": "code",
   "execution_count": 5,
   "metadata": {
    "id": "EWZHxbB1XpCl"
   },
   "outputs": [],
   "source": [
    "# デフォルトフォントサイズ変更\n",
    "plt.rcParams['font.size'] = 14\n",
    "\n",
    "# デフォルトグラフサイズ変更\n",
    "plt.rcParams['figure.figsize'] = (6,6)\n",
    "\n",
    "# デフォルトで方眼表示ON\n",
    "plt.rcParams['axes.grid'] = True\n",
    "\n",
    "# numpyの浮動小数点の表示精度\n",
    "np.set_printoptions(suppress=True, precision=4)"
   ]
  },
  {
   "cell_type": "markdown",
   "metadata": {
    "id": "aL-55tM8XpCl"
   },
   "source": [
    "## 5.3 線形関数(nn.Linear)"
   ]
  },
  {
   "cell_type": "markdown",
   "metadata": {
    "id": "RyH3OPekXpCl"
   },
   "source": [
    "###  入力:1 出力:1 の線形関数"
   ]
  },
  {
   "cell_type": "code",
   "execution_count": 6,
   "metadata": {
    "colab": {
     "base_uri": "https://localhost:8080/"
    },
    "id": "lzycf0HxXpCm",
    "outputId": "caafa6be-de50-43b1-c7c2-48f6ff3bfe79"
   },
   "outputs": [
    {
     "name": "stdout",
     "output_type": "stream",
     "text": [
      "Linear(in_features=1, out_features=1, bias=True)\n"
     ]
    }
   ],
   "source": [
    "# 入力:1 出力:1 の線形関数の定義\n",
    "l1 = nn.Linear(1, 1)\n",
    "\n",
    "# 線形関数の表示\n",
    "print(l1)"
   ]
  },
  {
   "cell_type": "code",
   "execution_count": 7,
   "metadata": {
    "colab": {
     "base_uri": "https://localhost:8080/"
    },
    "id": "pSvee2CeXpCm",
    "outputId": "6f98879b-abcf-4f68-e4cc-e78ebc961073"
   },
   "outputs": [
    {
     "name": "stdout",
     "output_type": "stream",
     "text": [
      "name:  weight\n",
      "tensor:  Parameter containing:\n",
      "tensor([[0.6341]], requires_grad=True)\n",
      "shape:  torch.Size([1, 1])\n",
      "name:  bias\n",
      "tensor:  Parameter containing:\n",
      "tensor([-0.8472], requires_grad=True)\n",
      "shape:  torch.Size([1])\n"
     ]
    }
   ],
   "source": [
    "# パラメータ名、パラメータ値、shapeの表示\n",
    "\n",
    "for param in l1.named_parameters():\n",
    "    print('name: ', param[0])\n",
    "    print('tensor: ', param[1])\n",
    "    print('shape: ', param[1].shape)"
   ]
  },
  {
   "cell_type": "code",
   "execution_count": 8,
   "metadata": {
    "colab": {
     "base_uri": "https://localhost:8080/"
    },
    "id": "LKYmasnBXpCn",
    "outputId": "509b9302-c744-4a8f-d08b-d34c1a144add"
   },
   "outputs": [
    {
     "name": "stdout",
     "output_type": "stream",
     "text": [
      "Parameter containing:\n",
      "tensor([[2.]], requires_grad=True)\n",
      "Parameter containing:\n",
      "tensor([1.], requires_grad=True)\n"
     ]
    }
   ],
   "source": [
    "# 初期値設定\n",
    "nn.init.constant_(l1.weight, 2.0)\n",
    "nn.init.constant_(l1.bias, 1.0)\n",
    "\n",
    "# 結果確認\n",
    "print(l1.weight)\n",
    "print(l1.bias)"
   ]
  },
  {
   "cell_type": "code",
   "execution_count": 9,
   "metadata": {
    "colab": {
     "base_uri": "https://localhost:8080/"
    },
    "id": "UZNxp3fYXpCn",
    "outputId": "7d777ed5-271b-430b-91c4-d171dd162f6e"
   },
   "outputs": [
    {
     "name": "stdout",
     "output_type": "stream",
     "text": [
      "torch.Size([5, 1])\n",
      "tensor([[-2.],\n",
      "        [-1.],\n",
      "        [ 0.],\n",
      "        [ 1.],\n",
      "        [ 2.]])\n"
     ]
    }
   ],
   "source": [
    "# テスト用データ生成\n",
    "\n",
    "# x_npをnumpy配列で定義\n",
    "x_np = np.arange(-2, 2.1, 1)\n",
    "\n",
    "# Tensor化\n",
    "x = torch.tensor(x_np).float()\n",
    "\n",
    "# サイズを(N,1)に変更\n",
    "x = x.view(-1,1)\n",
    "\n",
    "# 結果確認\n",
    "print(x.shape)\n",
    "print(x)"
   ]
  },
  {
   "cell_type": "code",
   "execution_count": 10,
   "metadata": {
    "colab": {
     "base_uri": "https://localhost:8080/"
    },
    "id": "2De8gINFXpCo",
    "outputId": "cdc68dda-3bab-4cdb-ece6-5fe31cb5dab9"
   },
   "outputs": [
    {
     "name": "stdout",
     "output_type": "stream",
     "text": [
      "torch.Size([5, 1])\n",
      "tensor([[-3.],\n",
      "        [-1.],\n",
      "        [ 1.],\n",
      "        [ 3.],\n",
      "        [ 5.]])\n"
     ]
    }
   ],
   "source": [
    "# 1次関数のテスト\n",
    "\n",
    "y = l1(x)\n",
    "\n",
    "print(y.shape)\n",
    "print(y.data)"
   ]
  },
  {
   "cell_type": "markdown",
   "metadata": {
    "id": "d0csbLg9XpCo"
   },
   "source": [
    "### 入力:2 出力:1 の線形関数"
   ]
  },
  {
   "cell_type": "code",
   "execution_count": 11,
   "metadata": {
    "colab": {
     "base_uri": "https://localhost:8080/"
    },
    "id": "VyebhECaXpCp",
    "outputId": "e833c19d-cefe-4dd1-a22f-6f404b21814c"
   },
   "outputs": [
    {
     "name": "stdout",
     "output_type": "stream",
     "text": [
      "Parameter containing:\n",
      "tensor([[1., 1.]], requires_grad=True)\n",
      "Parameter containing:\n",
      "tensor([2.], requires_grad=True)\n"
     ]
    }
   ],
   "source": [
    "# 入力:2 出力:1 の線形関数の定義\n",
    "l2 = nn.Linear(2, 1)\n",
    "\n",
    "# 初期値設定\n",
    "nn.init.constant_(l2.weight, 1.0)\n",
    "nn.init.constant_(l2.bias, 2.0)\n",
    "\n",
    "# 結果確認\n",
    "print(l2.weight)\n",
    "print(l2.bias)"
   ]
  },
  {
   "cell_type": "code",
   "execution_count": 12,
   "metadata": {
    "colab": {
     "base_uri": "https://localhost:8080/"
    },
    "id": "S1yCAOCcXpCp",
    "outputId": "cec2c2ce-82cf-48fa-db2c-d753550b076a"
   },
   "outputs": [
    {
     "name": "stdout",
     "output_type": "stream",
     "text": [
      "torch.Size([4, 2])\n",
      "tensor([[0., 0.],\n",
      "        [0., 1.],\n",
      "        [1., 0.],\n",
      "        [1., 1.]])\n"
     ]
    }
   ],
   "source": [
    "# 2次元numpy配列\n",
    "x2_np = np.array([[0, 0], [0, 1], [1, 0], [1,1]])\n",
    "\n",
    "# Tensor化\n",
    "x2 =  torch.tensor(x2_np).float()\n",
    "\n",
    "# 結果確認\n",
    "print(x2.shape)\n",
    "print(x2)"
   ]
  },
  {
   "cell_type": "code",
   "execution_count": 13,
   "metadata": {
    "colab": {
     "base_uri": "https://localhost:8080/"
    },
    "id": "bZ3OsIWJXpCp",
    "outputId": "11fd12e5-e7ca-4223-8fe5-0cd2ba0e19b7"
   },
   "outputs": [
    {
     "name": "stdout",
     "output_type": "stream",
     "text": [
      "torch.Size([4, 1])\n",
      "tensor([[2.],\n",
      "        [3.],\n",
      "        [3.],\n",
      "        [4.]])\n"
     ]
    }
   ],
   "source": [
    "# 関数値計算\n",
    "y2 = l2(x2)\n",
    "\n",
    "# shape確認\n",
    "print(y2.shape)\n",
    "\n",
    "# 値確認\n",
    "print(y2.data)"
   ]
  },
  {
   "cell_type": "markdown",
   "metadata": {
    "id": "53Ae8ANsXpCq"
   },
   "source": [
    "### 入力:2 出力:3 の線形関数"
   ]
  },
  {
   "cell_type": "code",
   "execution_count": 14,
   "metadata": {
    "colab": {
     "base_uri": "https://localhost:8080/"
    },
    "id": "o5xGgx2kXpCq",
    "outputId": "cac8c5db-e7dd-4d7e-e679-db55a1b29369"
   },
   "outputs": [
    {
     "name": "stdout",
     "output_type": "stream",
     "text": [
      "Parameter containing:\n",
      "tensor([[1., 1.],\n",
      "        [2., 2.],\n",
      "        [3., 3.]], requires_grad=True)\n",
      "Parameter containing:\n",
      "tensor([2., 2., 2.], requires_grad=True)\n"
     ]
    }
   ],
   "source": [
    "# 入力:2 出力:3 の線形関数の定義\n",
    "\n",
    "l3 = nn.Linear(2, 3)\n",
    "\n",
    "# 初期値設定\n",
    "nn.init.constant_(l3.weight[0,:], 1.0)\n",
    "nn.init.constant_(l3.weight[1,:], 2.0)\n",
    "nn.init.constant_(l3.weight[2,:], 3.0)\n",
    "nn.init.constant_(l3.bias, 2.0)\n",
    "\n",
    "# 結果確認\n",
    "print(l3.weight)\n",
    "print(l3.bias)"
   ]
  },
  {
   "cell_type": "code",
   "execution_count": 15,
   "metadata": {
    "colab": {
     "base_uri": "https://localhost:8080/"
    },
    "id": "rL6qApqTXpCq",
    "outputId": "878aeb96-dce5-4edd-9157-277eb7b04dca"
   },
   "outputs": [
    {
     "name": "stdout",
     "output_type": "stream",
     "text": [
      "torch.Size([4, 3])\n",
      "tensor([[2., 2., 2.],\n",
      "        [3., 4., 5.],\n",
      "        [3., 4., 5.],\n",
      "        [4., 6., 8.]])\n"
     ]
    }
   ],
   "source": [
    "# 関数値計算\n",
    "y3 = l3(x2)\n",
    "\n",
    "# shape確認\n",
    "print(y3.shape)\n",
    "\n",
    "# 値確認\n",
    "print(y3.data)"
   ]
  },
  {
   "cell_type": "markdown",
   "metadata": {
    "id": "KFmZjNAlXpCr"
   },
   "source": [
    "## 5.6 データ準備\n",
    "UCI公開データセットのうち、回帰でよく使われる「ボストン・データセット」を用いる。  \n",
    "\n",
    "https://www.cs.toronto.edu/~delve/data/boston/bostonDetail.html\n",
    "\n",
    "オリジナルのデーセットは、17項目の入力値から、不動産価格を予測する目的のものだが、\n",
    "一番単純な「単回帰モデル」(1入力)のモデルを作るため、このうち``RM``の1項目だけを抽出する。\n"
   ]
  },
  {
   "cell_type": "code",
   "execution_count": 16,
   "metadata": {
    "colab": {
     "base_uri": "https://localhost:8080/"
    },
    "id": "nArbZhfCaWLF",
    "outputId": "74dc91e0-085a-4b6b-ee62-aab99594a8da"
   },
   "outputs": [
    {
     "name": "stdout",
     "output_type": "stream",
     "text": [
      "元データ (506, 13) (506,)\n",
      "項目名:  ['CRIM' 'ZN' 'INDUS' 'CHAS' 'NOX' 'RM' 'AGE' 'DIS' 'RAD' 'TAX' 'PTRATIO'\n",
      " 'B' 'LSTAT']\n"
     ]
    }
   ],
   "source": [
    "# 学習用データ準備\n",
    "\n",
    "# ライブラリのインポート\n",
    "from sklearn.datasets import load_boston\n",
    "\n",
    "# データ読み込み\n",
    "boston = load_boston()\n",
    "\n",
    "# 入力データと正解データ取得\n",
    "x_org, yt = boston.data, boston.target\n",
    "\n",
    "# 項目名リスト取得\n",
    "feature_names = boston.feature_names\n",
    "\n",
    "# 結果確認\n",
    "print('元データ', x_org.shape, yt.shape)\n",
    "print('項目名: ', feature_names)"
   ]
  },
  {
   "cell_type": "code",
   "execution_count": 17,
   "metadata": {
    "colab": {
     "base_uri": "https://localhost:8080/"
    },
    "id": "ro0A3LlSXpCs",
    "outputId": "446f36be-cbfa-4dd9-bf02-66699b7272b6"
   },
   "outputs": [
    {
     "name": "stdout",
     "output_type": "stream",
     "text": [
      "絞り込み後 (506, 1)\n",
      "[[6.575]\n",
      " [6.421]\n",
      " [7.185]\n",
      " [6.998]\n",
      " [7.147]]\n",
      "正解データ\n",
      "[24.  21.6 34.7 33.4 36.2]\n"
     ]
    }
   ],
   "source": [
    "# データ絞り込み (項目 RMのみ)\n",
    "x = x_org[:,feature_names == 'RM']\n",
    "print('絞り込み後', x.shape)\n",
    "print(x[:5,:])\n",
    "\n",
    "# 正解データ yの表示\n",
    "print('正解データ')\n",
    "print(yt[:5])"
   ]
  },
  {
   "cell_type": "code",
   "execution_count": 18,
   "metadata": {
    "colab": {
     "base_uri": "https://localhost:8080/",
     "height": 413
    },
    "id": "DvwFf3Taa-1O",
    "outputId": "fd9c9951-c668-4288-9c53-d76717a003a3"
   },
   "outputs": [
    {
     "name": "stdout",
     "output_type": "stream",
     "text": [
      "pdf-04-01.pdf\n"
     ]
    },
    {
     "data": {
      "image/png": "[encoded data removed]",
      "text/plain": [
       "<Figure size 432x432 with 1 Axes>"
      ]
     },
     "metadata": {
      "needs_background": "light"
     },
     "output_type": "display_data"
    }
   ],
   "source": [
    "# 散布図の表示\n",
    "\n",
    "plt.scatter(x, yt, s=10, c='b')\n",
    "plt.xlabel('部屋数')\n",
    "plt.ylabel('価格')\n",
    "plt.title('部屋数と価格の散布図')\n",
    "plt.show()"
   ]
  },
  {
   "cell_type": "markdown",
   "metadata": {
    "id": "Pv-YMbfwXpCs"
   },
   "source": [
    "## 5.7 モデル定義"
   ]
  },
  {
   "cell_type": "code",
   "execution_count": 21,
   "metadata": {
    "colab": {
     "base_uri": "https://localhost:8080/"
    },
    "id": "UG4aJY0YbHO7",
    "outputId": "b546109d-e850-4cbe-ec48-92c8088961a1"
   },
   "outputs": [
    {
     "name": "stdout",
     "output_type": "stream",
     "text": [
      "入力次元数: 1  出力次元数: 1\n"
     ]
    }
   ],
   "source": [
    "# 変数定義\n",
    "\n",
    "# 入力次元数\n",
    "n_input= x.shape[1]\n",
    "\n",
    "# 出力次元数\n",
    "n_output = 1\n",
    "\n",
    "print(f'入力次元数: {n_input}  出力次元数: {n_output}')"
   ]
  },
  {
   "cell_type": "markdown",
   "metadata": {
    "id": "HsS81V50XpCt"
   },
   "source": [
    "#### 備考　以下の2つのセルは4.2解説用"
   ]
  },
  {
   "cell_type": "code",
   "execution_count": 22,
   "metadata": {
    "id": "3bcQHUdyXpCt"
   },
   "outputs": [],
   "source": [
    "# モデルの定義\n",
    "\n",
    "class Net(nn.Module):\n",
    "    def __init__(self, n_input, n_output):\n",
    "        #  親クラスnn.Modulesの初期化呼び出し\n",
    "        super().__init__()\n",
    "\n",
    "        # 出力層の定義\n",
    "        self.l1 = nn.Linear(n_input, n_output)   \n",
    "        \n",
    "    # 予測関数の定義\n",
    "    def forward(self, x):\n",
    "        x1 = self.l1(x) # 線形回帰\n",
    "        return x1"
   ]
  },
  {
   "cell_type": "code",
   "execution_count": 23,
   "metadata": {
    "id": "5FLHS8bvXpCt"
   },
   "outputs": [],
   "source": [
    "# インスタンスの生成\n",
    "# １入力1出力の線形モデル\n",
    "\n",
    "n_input = 1\n",
    "n_output = 1\n",
    "\n",
    "net = Net(n_input, n_output)"
   ]
  },
  {
   "cell_type": "code",
   "execution_count": 24,
   "metadata": {
    "id": "Qa_cV8urbs9s"
   },
   "outputs": [],
   "source": [
    "# モデルの定義\n",
    "\n",
    "class Net(nn.Module):\n",
    "    def __init__(self, n_input, n_output):\n",
    "        #  親クラスnn.Modulesの初期化呼び出し\n",
    "        super().__init__()\n",
    "\n",
    "        # 出力層の定義\n",
    "        self.l1 = nn.Linear(n_input, n_output)   \n",
    "        \n",
    "        # 初期値を全部1にする\n",
    "        # 「ディープラーニングの数学」と条件を合わせる目的\n",
    "        nn.init.constant_(self.l1.weight, 1.0)\n",
    "        nn.init.constant_(self.l1.bias, 1.0)\n",
    "\n",
    "    # 予測関数の定義\n",
    "    def forward(self, x):\n",
    "        x1 = self.l1(x) # 線形回帰\n",
    "        return x1"
   ]
  },
  {
   "cell_type": "code",
   "execution_count": 25,
   "metadata": {
    "id": "wQ4TtPGQkWql"
   },
   "outputs": [],
   "source": [
    "# インスタンスの生成\n",
    "# １入力1出力の線形モデル\n",
    "\n",
    "net = Net(n_input, n_output)"
   ]
  },
  {
   "cell_type": "code",
   "execution_count": 26,
   "metadata": {
    "colab": {
     "base_uri": "https://localhost:8080/"
    },
    "id": "bFf1N0HsXpCu",
    "outputId": "40a184a8-b75d-4b02-df95-4d9837e4b729"
   },
   "outputs": [
    {
     "name": "stdout",
     "output_type": "stream",
     "text": [
      "変数名: l1.weight\n",
      "変数値: tensor([[1.]])\n",
      "変数名: l1.bias\n",
      "変数値: tensor([1.])\n"
     ]
    }
   ],
   "source": [
    "# モデル内のパラメータの確認\n",
    "# モデル内の変数取得にはnamed_parameters関数を利用する\n",
    "# 結果の第1要素が名前、第2要素が値\n",
    "# \n",
    "# predict.weightとpredict.biasがあることがわかる\n",
    "# 初期値はどちらも1.0になっている\n",
    "\n",
    "for parameter in net.named_parameters():\n",
    "    print(f'変数名: {parameter[0]}')\n",
    "    print(f'変数値: {parameter[1].data}')"
   ]
  },
  {
   "cell_type": "code",
   "execution_count": 27,
   "metadata": {
    "colab": {
     "base_uri": "https://localhost:8080/"
    },
    "id": "RjHjfAf7XpCu",
    "outputId": "f8d68383-f691-4ec4-b791-5f2bdc4e6011"
   },
   "outputs": [
    {
     "name": "stdout",
     "output_type": "stream",
     "text": [
      "Parameter containing:\n",
      "tensor([[1.]], requires_grad=True)\n",
      "Parameter containing:\n",
      "tensor([1.], requires_grad=True)\n"
     ]
    }
   ],
   "source": [
    "# パラメータのリスト取得にはparameters関数を利用する\n",
    "\n",
    "for parameter in net.parameters():\n",
    "    print(parameter)"
   ]
  },
  {
   "cell_type": "markdown",
   "metadata": {
    "id": "LTqxnIJaXpCv"
   },
   "source": [
    "### モデル確認"
   ]
  },
  {
   "cell_type": "code",
   "execution_count": 28,
   "metadata": {
    "colab": {
     "base_uri": "https://localhost:8080/"
    },
    "id": "_zaPgb2td6vV",
    "outputId": "b53479d1-b823-4734-f01b-5725b9ee85ae"
   },
   "outputs": [
    {
     "name": "stdout",
     "output_type": "stream",
     "text": [
      "Net(\n",
      "  (l1): Linear(in_features=1, out_features=1, bias=True)\n",
      ")\n"
     ]
    }
   ],
   "source": [
    "# モデルの概要表示\n",
    "\n",
    "print(net)"
   ]
  },
  {
   "cell_type": "code",
   "execution_count": 29,
   "metadata": {
    "colab": {
     "base_uri": "https://localhost:8080/"
    },
    "id": "uWXVbu0leJgB",
    "outputId": "c0c5eda5-c1df-4162-ce5d-c4ef9bf79cde"
   },
   "outputs": [
    {
     "name": "stdout",
     "output_type": "stream",
     "text": [
      "----------------------------------------------------------------\n",
      "        Layer (type)               Output Shape         Param #\n",
      "================================================================\n",
      "            Linear-1                    [-1, 1]               2\n",
      "================================================================\n",
      "Total params: 2\n",
      "Trainable params: 2\n",
      "Non-trainable params: 0\n",
      "----------------------------------------------------------------\n",
      "Input size (MB): 0.00\n",
      "Forward/backward pass size (MB): 0.00\n",
      "Params size (MB): 0.00\n",
      "Estimated Total Size (MB): 0.00\n",
      "----------------------------------------------------------------\n"
     ]
    }
   ],
   "source": [
    "# モデルのサマリー表示\n",
    "\n",
    "from torchsummary import summary\n",
    "summary(net, (1,))"
   ]
  },
  {
   "cell_type": "markdown",
   "metadata": {
    "id": "aSx3Ha0cXpCv"
   },
   "source": [
    "### 最適化アルゴリズムと損失関数"
   ]
  },
  {
   "cell_type": "code",
   "execution_count": 30,
   "metadata": {
    "id": "_-8Dq5hWfeoB"
   },
   "outputs": [],
   "source": [
    "# 学習率\n",
    "lr = 0.01\n",
    "\n",
    "# 最適化アルゴリズム: 勾配降下法\n",
    "optimizer = optim.SGD(net.parameters(), lr=lr)\n",
    "\n",
    "# 損失関数： 最小二乗誤差\n",
    "criterion = nn.MSELoss()"
   ]
  },
  {
   "cell_type": "markdown",
   "metadata": {
    "id": "7FXFabMEXpCw"
   },
   "source": [
    "## 5.8 勾配降下法"
   ]
  },
  {
   "cell_type": "code",
   "execution_count": 31,
   "metadata": {
    "colab": {
     "base_uri": "https://localhost:8080/"
    },
    "id": "-hiUPe-uXpCw",
    "outputId": "eaf22b24-b523-490d-c240-62262e50575e"
   },
   "outputs": [
    {
     "name": "stdout",
     "output_type": "stream",
     "text": [
      "torch.Size([506, 1])\n",
      "torch.Size([506])\n"
     ]
    }
   ],
   "source": [
    "# 入力変数x と正解値 ytのテンソル変数化\n",
    "\n",
    "inputs = torch.tensor(x).float()\n",
    "labels = torch.tensor(yt).float()\n",
    "\n",
    "# 次元数確認\n",
    "\n",
    "print(inputs.shape)\n",
    "print(labels.shape)"
   ]
  },
  {
   "cell_type": "code",
   "execution_count": 32,
   "metadata": {
    "colab": {
     "base_uri": "https://localhost:8080/"
    },
    "id": "0iRTGvM4XpCw",
    "outputId": "f46aed57-0b1f-4487-914d-88683f9e526b"
   },
   "outputs": [
    {
     "name": "stdout",
     "output_type": "stream",
     "text": [
      "torch.Size([506, 1])\n"
     ]
    }
   ],
   "source": [
    "# 損失値計算用にlabels変数を(N,1)次元の行列に変換する\n",
    "\n",
    "labels1 = labels.view((-1, 1))\n",
    "\n",
    "# 次元数確認\n",
    "print(labels1.shape)"
   ]
  },
  {
   "cell_type": "code",
   "execution_count": 33,
   "metadata": {
    "id": "foVlKfQ5XpCw"
   },
   "outputs": [],
   "source": [
    "# 予測値の計算\n",
    "\n",
    "outputs = net(inputs)"
   ]
  },
  {
   "cell_type": "code",
   "execution_count": 34,
   "metadata": {
    "colab": {
     "base_uri": "https://localhost:8080/"
    },
    "id": "frF6g1MhXpCx",
    "outputId": "12628276-032b-4a32-fc07-6e67b62ad980"
   },
   "outputs": [
    {
     "name": "stdout",
     "output_type": "stream",
     "text": [
      "308.44986\n"
     ]
    }
   ],
   "source": [
    "#  損失値の計算\n",
    "loss = criterion(outputs, labels1)\n",
    "\n",
    "# 損失値の取得\n",
    "print(f'{loss.item():.5f}')"
   ]
  },
  {
   "cell_type": "code",
   "execution_count": 35,
   "metadata": {
    "colab": {
     "base_uri": "https://localhost:8080/",
     "height": 322
    },
    "id": "bHjWn0NfXpCx",
    "outputId": "c4dd704c-c616-41ae-d0d0-8bc87f80b301"
   },
   "outputs": [
    {
     "data": {
      "image/svg+xml": [
       "<?xml version=\"1.0\" encoding=\"UTF-8\" standalone=\"no\"?>\n",
       "<!DOCTYPE svg PUBLIC \"-//W3C//DTD SVG 1.1//EN\"\n",
       " \"http://www.w3.org/Graphics/SVG/1.1/DTD/svg11.dtd\">\n",
       "<!-- Generated by graphviz version 2.36.0 (20140111.2315)\n",
       " -->\n",
       "<!-- Title: %3 Pages: 1 -->\n",
       "<svg width=\"151pt\" height=\"220pt\"\n",
       " viewBox=\"0.00 0.00 151.00 220.00\" xmlns=\"http://www.w3.org/2000/svg\" xmlns:xlink=\"http://www.w3.org/1999/xlink\">\n",
       "<g id=\"graph0\" class=\"graph\" transform=\"scale(1 1) rotate(0) translate(4 216)\">\n",
       "<title>%3</title>\n",
       "<polygon fill=\"white\" stroke=\"none\" points=\"-4,4 -4,-216 147,-216 147,4 -4,4\"/>\n",
       "<!-- 140449250688208 -->\n",
       "<g id=\"node1\" class=\"node\"><title>140449250688208</title>\n",
       "<polygon fill=\"#caff70\" stroke=\"black\" points=\"120.485,-20 13.5146,-20 13.5146,-0 120.485,-0 120.485,-20\"/>\n",
       "<text text-anchor=\"middle\" x=\"67\" y=\"-6.4\" font-family=\"Times,serif\" font-size=\"12.00\">MseLossBackward</text>\n",
       "</g>\n",
       "<!-- 140449250688256 -->\n",
       "<g id=\"node2\" class=\"node\"><title>140449250688256</title>\n",
       "<polygon fill=\"lightgrey\" stroke=\"black\" points=\"118.484,-76 15.516,-76 15.516,-56 118.484,-56 118.484,-76\"/>\n",
       "<text text-anchor=\"middle\" x=\"67\" y=\"-62.4\" font-family=\"Times,serif\" font-size=\"12.00\">AddmmBackward</text>\n",
       "</g>\n",
       "<!-- 140449250688256&#45;&gt;140449250688208 -->\n",
       "<g id=\"edge1\" class=\"edge\"><title>140449250688256&#45;&gt;140449250688208</title>\n",
       "<path fill=\"none\" stroke=\"black\" d=\"M67,-55.5939C67,-48.7024 67,-39.1024 67,-30.5741\"/>\n",
       "<polygon fill=\"black\" stroke=\"black\" points=\"70.5001,-30.2983 67,-20.2983 63.5001,-30.2983 70.5001,-30.2983\"/>\n",
       "</g>\n",
       "<!-- 140449250686528 -->\n",
       "<g id=\"node3\" class=\"node\"><title>140449250686528</title>\n",
       "<polygon fill=\"lightblue\" stroke=\"black\" points=\"54,-144 0,-144 0,-112 54,-112 54,-144\"/>\n",
       "<text text-anchor=\"middle\" x=\"27\" y=\"-130.4\" font-family=\"Times,serif\" font-size=\"12.00\">l1.bias</text>\n",
       "<text text-anchor=\"middle\" x=\"27\" y=\"-118.4\" font-family=\"Times,serif\" font-size=\"12.00\"> (1)</text>\n",
       "</g>\n",
       "<!-- 140449250686528&#45;&gt;140449250688256 -->\n",
       "<g id=\"edge2\" class=\"edge\"><title>140449250686528&#45;&gt;140449250688256</title>\n",
       "<path fill=\"none\" stroke=\"black\" d=\"M37.0937,-111.859C42.6005,-103.599 49.4478,-93.3283 55.2004,-84.6994\"/>\n",
       "<polygon fill=\"black\" stroke=\"black\" points=\"58.2628,-86.4155 60.8977,-76.1535 52.4384,-82.5326 58.2628,-86.4155\"/>\n",
       "</g>\n",
       "<!-- 140449250687584 -->\n",
       "<g id=\"node4\" class=\"node\"><title>140449250687584</title>\n",
       "<polygon fill=\"lightgrey\" stroke=\"black\" points=\"143.481,-138 72.5189,-138 72.5189,-118 143.481,-118 143.481,-138\"/>\n",
       "<text text-anchor=\"middle\" x=\"108\" y=\"-124.4\" font-family=\"Times,serif\" font-size=\"12.00\">TBackward</text>\n",
       "</g>\n",
       "<!-- 140449250687584&#45;&gt;140449250688256 -->\n",
       "<g id=\"edge3\" class=\"edge\"><title>140449250687584&#45;&gt;140449250688256</title>\n",
       "<path fill=\"none\" stroke=\"black\" d=\"M101.773,-117.887C95.7526,-109.077 86.4717,-95.4951 79.0119,-84.5784\"/>\n",
       "<polygon fill=\"black\" stroke=\"black\" points=\"81.8173,-82.4802 73.2856,-76.1985 76.0378,-86.4296 81.8173,-82.4802\"/>\n",
       "</g>\n",
       "<!-- 140449250687344 -->\n",
       "<g id=\"node5\" class=\"node\"><title>140449250687344</title>\n",
       "<polygon fill=\"lightblue\" stroke=\"black\" points=\"138.246,-212 77.7544,-212 77.7544,-180 138.246,-180 138.246,-212\"/>\n",
       "<text text-anchor=\"middle\" x=\"108\" y=\"-198.4\" font-family=\"Times,serif\" font-size=\"12.00\">l1.weight</text>\n",
       "<text text-anchor=\"middle\" x=\"108\" y=\"-186.4\" font-family=\"Times,serif\" font-size=\"12.00\"> (1, 1)</text>\n",
       "</g>\n",
       "<!-- 140449250687344&#45;&gt;140449250687584 -->\n",
       "<g id=\"edge4\" class=\"edge\"><title>140449250687344&#45;&gt;140449250687584</title>\n",
       "<path fill=\"none\" stroke=\"black\" d=\"M108,-179.692C108,-170.396 108,-158.44 108,-148.474\"/>\n",
       "<polygon fill=\"black\" stroke=\"black\" points=\"111.5,-148.316 108,-138.316 104.5,-148.316 111.5,-148.316\"/>\n",
       "</g>\n",
       "</g>\n",
       "</svg>\n"
      ],
      "text/plain": [
       "<graphviz.dot.Digraph at 0x7fbce3b23550>"
      ]
     },
     "execution_count": 35,
     "metadata": {},
     "output_type": "execute_result"
    }
   ],
   "source": [
    "# 損失関数のグラフ化\n",
    "\n",
    "g = make_dot(loss, params=dict(net.named_parameters()))\n",
    "g.render('pdf-05-xx', view=False)\n",
    "display(g)"
   ]
  },
  {
   "cell_type": "code",
   "execution_count": 36,
   "metadata": {
    "colab": {
     "base_uri": "https://localhost:8080/"
    },
    "id": "j6IUY2obXpCx",
    "outputId": "30179aa8-9f84-4f36-c7d1-5733c3f59cd6"
   },
   "outputs": [
    {
     "name": "stdout",
     "output_type": "stream",
     "text": [
      "tensor([[-199.6421]])\n",
      "tensor([-30.4963])\n"
     ]
    }
   ],
   "source": [
    "# 予測値の計算\n",
    "outputs = net(inputs)\n",
    "\n",
    "#  損失値の計算\n",
    "loss = criterion(outputs, labels1)\n",
    "\n",
    "# 勾配計算\n",
    "loss.backward()\n",
    "\n",
    "# 勾配の結果が取得可能に\n",
    "print(net.l1.weight.grad)\n",
    "print(net.l1.bias.grad)"
   ]
  },
  {
   "cell_type": "code",
   "execution_count": 37,
   "metadata": {
    "colab": {
     "base_uri": "https://localhost:8080/"
    },
    "id": "SMwYMMXAXpCy",
    "outputId": "1b9e631f-2f8c-4689-92e7-445fd90003f3"
   },
   "outputs": [
    {
     "name": "stdout",
     "output_type": "stream",
     "text": [
      "Parameter containing:\n",
      "tensor([[2.9964]], requires_grad=True)\n",
      "Parameter containing:\n",
      "tensor([1.3050], requires_grad=True)\n"
     ]
    }
   ],
   "source": [
    "# 重みの修正\n",
    "optimizer.step()\n",
    "\n",
    "# 重みとバイアス値が変わる\n",
    "print(net.l1.weight)\n",
    "print(net.l1.bias)"
   ]
  },
  {
   "cell_type": "code",
   "execution_count": 38,
   "metadata": {
    "colab": {
     "base_uri": "https://localhost:8080/"
    },
    "id": "4SMBbG19XpCy",
    "outputId": "9314bea4-043f-43d7-ed7f-b01cc28c5488"
   },
   "outputs": [
    {
     "name": "stdout",
     "output_type": "stream",
     "text": [
      "tensor([[0.]])\n",
      "tensor([0.])\n"
     ]
    }
   ],
   "source": [
    "# 勾配値の初期化\n",
    "optimizer.zero_grad()\n",
    "\n",
    "# 勾配値がすべてゼロになっている\n",
    "print(net.l1.weight.grad)\n",
    "print(net.l1.bias.grad)"
   ]
  },
  {
   "cell_type": "markdown",
   "metadata": {
    "id": "qGe0W7syXpCy"
   },
   "source": [
    "### 繰り返し計算"
   ]
  },
  {
   "cell_type": "code",
   "execution_count": 39,
   "metadata": {
    "id": "s6sIrMqiXpCy"
   },
   "outputs": [],
   "source": [
    "# 学習率\n",
    "lr = 0.01\n",
    "\n",
    "# インスタンス生成　(パラメータ値初期化)\n",
    "net = Net(n_input, n_output)\n",
    "\n",
    "# 最適化アルゴリズム: 勾配降下法\n",
    "optimizer = optim.SGD(net.parameters(), lr=lr)\n",
    "\n",
    "# 損失関数： 最小二乗誤差\n",
    "criterion = nn.MSELoss()\n",
    "\n",
    "# 繰り返し回数\n",
    "num_epochs = 50000\n",
    "\n",
    "# 評価結果記録用 (損失関数値のみ記録)\n",
    "history = np.zeros((0,2))"
   ]
  },
  {
   "cell_type": "code",
   "execution_count": 40,
   "metadata": {
    "colab": {
     "base_uri": "https://localhost:8080/"
    },
    "id": "7Db7l67DeT9-",
    "outputId": "ebb47a49-696d-439f-c9a2-6499d1e4d010",
    "scrolled": false
   },
   "outputs": [
    {
     "name": "stdout",
     "output_type": "stream",
     "text": [
      "Epoch 0 loss: 154.22493\n",
      "Epoch 100 loss: 29.61752\n",
      "Epoch 200 loss: 29.43177\n",
      "Epoch 300 loss: 29.25043\n",
      "Epoch 400 loss: 29.07340\n",
      "Epoch 500 loss: 28.90057\n",
      "Epoch 600 loss: 28.73186\n",
      "Epoch 700 loss: 28.56715\n",
      "Epoch 800 loss: 28.40636\n",
      "Epoch 900 loss: 28.24939\n",
      "Epoch 1000 loss: 28.09615\n",
      "Epoch 1100 loss: 27.94654\n",
      "Epoch 1200 loss: 27.80050\n",
      "Epoch 1300 loss: 27.65792\n",
      "Epoch 1400 loss: 27.51874\n",
      "Epoch 1500 loss: 27.38286\n",
      "Epoch 1600 loss: 27.25020\n",
      "Epoch 1700 loss: 27.12070\n",
      "Epoch 1800 loss: 26.99428\n",
      "Epoch 1900 loss: 26.87086\n",
      "Epoch 2000 loss: 26.75037\n",
      "Epoch 2100 loss: 26.63275\n",
      "Epoch 2200 loss: 26.51792\n",
      "Epoch 2300 loss: 26.40582\n",
      "Epoch 2400 loss: 26.29638\n",
      "Epoch 2500 loss: 26.18955\n",
      "Epoch 2600 loss: 26.08525\n",
      "Epoch 2700 loss: 25.98343\n",
      "Epoch 2800 loss: 25.88404\n",
      "Epoch 2900 loss: 25.78700\n",
      "Epoch 3000 loss: 25.69227\n",
      "Epoch 3100 loss: 25.59978\n",
      "Epoch 3200 loss: 25.50950\n",
      "Epoch 3300 loss: 25.42136\n",
      "Epoch 3400 loss: 25.33532\n",
      "Epoch 3500 loss: 25.25132\n",
      "Epoch 3600 loss: 25.16932\n",
      "Epoch 3700 loss: 25.08927\n",
      "Epoch 3800 loss: 25.01111\n",
      "Epoch 3900 loss: 24.93482\n",
      "Epoch 4000 loss: 24.86034\n",
      "Epoch 4100 loss: 24.78762\n",
      "Epoch 4200 loss: 24.71664\n",
      "Epoch 4300 loss: 24.64734\n",
      "Epoch 4400 loss: 24.57969\n",
      "Epoch 4500 loss: 24.51365\n",
      "Epoch 4600 loss: 24.44917\n",
      "Epoch 4700 loss: 24.38623\n",
      "Epoch 4800 loss: 24.32478\n",
      "Epoch 4900 loss: 24.26480\n",
      "Epoch 5000 loss: 24.20624\n",
      "Epoch 5100 loss: 24.14907\n",
      "Epoch 5200 loss: 24.09325\n",
      "Epoch 5300 loss: 24.03877\n",
      "Epoch 5400 loss: 23.98558\n",
      "Epoch 5500 loss: 23.93365\n",
      "Epoch 5600 loss: 23.88296\n",
      "Epoch 5700 loss: 23.83347\n",
      "Epoch 5800 loss: 23.78516\n",
      "Epoch 5900 loss: 23.73799\n",
      "Epoch 6000 loss: 23.69195\n",
      "Epoch 6100 loss: 23.64700\n",
      "Epoch 6200 loss: 23.60312\n",
      "Epoch 6300 loss: 23.56028\n",
      "Epoch 6400 loss: 23.51846\n",
      "Epoch 6500 loss: 23.47763\n",
      "Epoch 6600 loss: 23.43778\n",
      "Epoch 6700 loss: 23.39887\n",
      "Epoch 6800 loss: 23.36088\n",
      "Epoch 6900 loss: 23.32380\n",
      "Epoch 7000 loss: 23.28760\n",
      "Epoch 7100 loss: 23.25226\n",
      "Epoch 7200 loss: 23.21776\n",
      "Epoch 7300 loss: 23.18407\n",
      "Epoch 7400 loss: 23.15119\n",
      "Epoch 7500 loss: 23.11910\n",
      "Epoch 7600 loss: 23.08776\n",
      "Epoch 7700 loss: 23.05717\n",
      "Epoch 7800 loss: 23.02730\n",
      "Epoch 7900 loss: 22.99814\n",
      "Epoch 8000 loss: 22.96968\n",
      "Epoch 8100 loss: 22.94189\n",
      "Epoch 8200 loss: 22.91477\n",
      "Epoch 8300 loss: 22.88828\n",
      "Epoch 8400 loss: 22.86243\n",
      "Epoch 8500 loss: 22.83719\n",
      "Epoch 8600 loss: 22.81256\n",
      "Epoch 8700 loss: 22.78850\n",
      "Epoch 8800 loss: 22.76502\n",
      "Epoch 8900 loss: 22.74209\n",
      "Epoch 9000 loss: 22.71972\n",
      "Epoch 9100 loss: 22.69787\n",
      "Epoch 9200 loss: 22.67654\n",
      "Epoch 9300 loss: 22.65572\n",
      "Epoch 9400 loss: 22.63539\n",
      "Epoch 9500 loss: 22.61555\n",
      "Epoch 9600 loss: 22.59618\n",
      "Epoch 9700 loss: 22.57726\n",
      "Epoch 9800 loss: 22.55880\n",
      "Epoch 9900 loss: 22.54078\n",
      "Epoch 10000 loss: 22.52318\n",
      "Epoch 10100 loss: 22.50601\n",
      "Epoch 10200 loss: 22.48924\n",
      "Epoch 10300 loss: 22.47287\n",
      "Epoch 10400 loss: 22.45688\n",
      "Epoch 10500 loss: 22.44128\n",
      "Epoch 10600 loss: 22.42605\n",
      "Epoch 10700 loss: 22.41118\n",
      "Epoch 10800 loss: 22.39667\n",
      "Epoch 10900 loss: 22.38249\n",
      "Epoch 11000 loss: 22.36866\n",
      "Epoch 11100 loss: 22.35516\n",
      "Epoch 11200 loss: 22.34197\n",
      "Epoch 11300 loss: 22.32910\n",
      "Epoch 11400 loss: 22.31653\n",
      "Epoch 11500 loss: 22.30427\n",
      "Epoch 11600 loss: 22.29229\n",
      "Epoch 11700 loss: 22.28060\n",
      "Epoch 11800 loss: 22.26919\n",
      "Epoch 11900 loss: 22.25804\n",
      "Epoch 12000 loss: 22.24717\n",
      "Epoch 12100 loss: 22.23655\n",
      "Epoch 12200 loss: 22.22618\n",
      "Epoch 12300 loss: 22.21606\n",
      "Epoch 12400 loss: 22.20618\n",
      "Epoch 12500 loss: 22.19654\n",
      "Epoch 12600 loss: 22.18712\n",
      "Epoch 12700 loss: 22.17793\n",
      "Epoch 12800 loss: 22.16896\n",
      "Epoch 12900 loss: 22.16019\n",
      "Epoch 13000 loss: 22.15165\n",
      "Epoch 13100 loss: 22.14329\n",
      "Epoch 13200 loss: 22.13514\n",
      "Epoch 13300 loss: 22.12719\n",
      "Epoch 13400 loss: 22.11942\n",
      "Epoch 13500 loss: 22.11184\n",
      "Epoch 13600 loss: 22.10443\n",
      "Epoch 13700 loss: 22.09721\n",
      "Epoch 13800 loss: 22.09015\n",
      "Epoch 13900 loss: 22.08326\n",
      "Epoch 14000 loss: 22.07654\n",
      "Epoch 14100 loss: 22.06997\n",
      "Epoch 14200 loss: 22.06357\n",
      "Epoch 14300 loss: 22.05731\n",
      "Epoch 14400 loss: 22.05120\n",
      "Epoch 14500 loss: 22.04524\n",
      "Epoch 14600 loss: 22.03942\n",
      "Epoch 14700 loss: 22.03374\n",
      "Epoch 14800 loss: 22.02819\n",
      "Epoch 14900 loss: 22.02278\n",
      "Epoch 15000 loss: 22.01749\n",
      "Epoch 15100 loss: 22.01233\n",
      "Epoch 15200 loss: 22.00729\n",
      "Epoch 15300 loss: 22.00237\n",
      "Epoch 15400 loss: 21.99757\n",
      "Epoch 15500 loss: 21.99288\n",
      "Epoch 15600 loss: 21.98830\n",
      "Epoch 15700 loss: 21.98384\n",
      "Epoch 15800 loss: 21.97948\n",
      "Epoch 15900 loss: 21.97522\n",
      "Epoch 16000 loss: 21.97106\n",
      "Epoch 16100 loss: 21.96700\n",
      "Epoch 16200 loss: 21.96304\n",
      "Epoch 16300 loss: 21.95917\n",
      "Epoch 16400 loss: 21.95539\n",
      "Epoch 16500 loss: 21.95171\n",
      "Epoch 16600 loss: 21.94811\n",
      "Epoch 16700 loss: 21.94460\n",
      "Epoch 16800 loss: 21.94117\n",
      "Epoch 16900 loss: 21.93782\n",
      "Epoch 17000 loss: 21.93456\n",
      "Epoch 17100 loss: 21.93136\n",
      "Epoch 17200 loss: 21.92825\n",
      "Epoch 17300 loss: 21.92521\n",
      "Epoch 17400 loss: 21.92224\n",
      "Epoch 17500 loss: 21.91934\n",
      "Epoch 17600 loss: 21.91651\n",
      "Epoch 17700 loss: 21.91375\n",
      "Epoch 17800 loss: 21.91106\n",
      "Epoch 17900 loss: 21.90842\n",
      "Epoch 18000 loss: 21.90586\n",
      "Epoch 18100 loss: 21.90335\n",
      "Epoch 18200 loss: 21.90090\n",
      "Epoch 18300 loss: 21.89850\n",
      "Epoch 18400 loss: 21.89617\n",
      "Epoch 18500 loss: 21.89389\n",
      "Epoch 18600 loss: 21.89167\n",
      "Epoch 18700 loss: 21.88950\n",
      "Epoch 18800 loss: 21.88737\n",
      "Epoch 18900 loss: 21.88531\n",
      "Epoch 19000 loss: 21.88329\n",
      "Epoch 19100 loss: 21.88132\n",
      "Epoch 19200 loss: 21.87939\n",
      "Epoch 19300 loss: 21.87751\n",
      "Epoch 19400 loss: 21.87567\n",
      "Epoch 19500 loss: 21.87388\n",
      "Epoch 19600 loss: 21.87213\n",
      "Epoch 19700 loss: 21.87043\n",
      "Epoch 19800 loss: 21.86876\n",
      "Epoch 19900 loss: 21.86713\n",
      "Epoch 20000 loss: 21.86554\n",
      "Epoch 20100 loss: 21.86399\n",
      "Epoch 20200 loss: 21.86248\n",
      "Epoch 20300 loss: 21.86100\n",
      "Epoch 20400 loss: 21.85956\n",
      "Epoch 20500 loss: 21.85815\n",
      "Epoch 20600 loss: 21.85677\n",
      "Epoch 20700 loss: 21.85543\n",
      "Epoch 20800 loss: 21.85412\n",
      "Epoch 20900 loss: 21.85284\n",
      "Epoch 21000 loss: 21.85159\n",
      "Epoch 21100 loss: 21.85037\n",
      "Epoch 21200 loss: 21.84918\n",
      "Epoch 21300 loss: 21.84802\n",
      "Epoch 21400 loss: 21.84689\n",
      "Epoch 21500 loss: 21.84578\n",
      "Epoch 21600 loss: 21.84470\n",
      "Epoch 21700 loss: 21.84364\n",
      "Epoch 21800 loss: 21.84261\n",
      "Epoch 21900 loss: 21.84160\n",
      "Epoch 22000 loss: 21.84062\n",
      "Epoch 22100 loss: 21.83967\n",
      "Epoch 22200 loss: 21.83873\n",
      "Epoch 22300 loss: 21.83782\n",
      "Epoch 22400 loss: 21.83693\n",
      "Epoch 22500 loss: 21.83605\n",
      "Epoch 22600 loss: 21.83521\n",
      "Epoch 22700 loss: 21.83437\n",
      "Epoch 22800 loss: 21.83356\n",
      "Epoch 22900 loss: 21.83277\n",
      "Epoch 23000 loss: 21.83200\n",
      "Epoch 23100 loss: 21.83125\n",
      "Epoch 23200 loss: 21.83051\n",
      "Epoch 23300 loss: 21.82979\n",
      "Epoch 23400 loss: 21.82909\n",
      "Epoch 23500 loss: 21.82841\n",
      "Epoch 23600 loss: 21.82774\n",
      "Epoch 23700 loss: 21.82709\n",
      "Epoch 23800 loss: 21.82645\n",
      "Epoch 23900 loss: 21.82583\n",
      "Epoch 24000 loss: 21.82522\n",
      "Epoch 24100 loss: 21.82463\n",
      "Epoch 24200 loss: 21.82405\n",
      "Epoch 24300 loss: 21.82348\n",
      "Epoch 24400 loss: 21.82293\n",
      "Epoch 24500 loss: 21.82239\n",
      "Epoch 24600 loss: 21.82187\n",
      "Epoch 24700 loss: 21.82136\n",
      "Epoch 24800 loss: 21.82085\n",
      "Epoch 24900 loss: 21.82037\n",
      "Epoch 25000 loss: 21.81989\n",
      "Epoch 25100 loss: 21.81942\n",
      "Epoch 25200 loss: 21.81897\n",
      "Epoch 25300 loss: 21.81852\n",
      "Epoch 25400 loss: 21.81809\n",
      "Epoch 25500 loss: 21.81767\n",
      "Epoch 25600 loss: 21.81726\n",
      "Epoch 25700 loss: 21.81685\n",
      "Epoch 25800 loss: 21.81646\n",
      "Epoch 25900 loss: 21.81607\n",
      "Epoch 26000 loss: 21.81570\n",
      "Epoch 26100 loss: 21.81533\n",
      "Epoch 26200 loss: 21.81497\n",
      "Epoch 26300 loss: 21.81462\n",
      "Epoch 26400 loss: 21.81428\n",
      "Epoch 26500 loss: 21.81395\n",
      "Epoch 26600 loss: 21.81363\n",
      "Epoch 26700 loss: 21.81331\n",
      "Epoch 26800 loss: 21.81300\n",
      "Epoch 26900 loss: 21.81269\n",
      "Epoch 27000 loss: 21.81240\n",
      "Epoch 27100 loss: 21.81211\n",
      "Epoch 27200 loss: 21.81183\n",
      "Epoch 27300 loss: 21.81156\n",
      "Epoch 27400 loss: 21.81129\n",
      "Epoch 27500 loss: 21.81103\n",
      "Epoch 27600 loss: 21.81077\n",
      "Epoch 27700 loss: 21.81052\n",
      "Epoch 27800 loss: 21.81028\n",
      "Epoch 27900 loss: 21.81004\n",
      "Epoch 28000 loss: 21.80981\n",
      "Epoch 28100 loss: 21.80958\n",
      "Epoch 28200 loss: 21.80936\n",
      "Epoch 28300 loss: 21.80915\n",
      "Epoch 28400 loss: 21.80894\n",
      "Epoch 28500 loss: 21.80873\n",
      "Epoch 28600 loss: 21.80853\n",
      "Epoch 28700 loss: 21.80833\n",
      "Epoch 28800 loss: 21.80814\n",
      "Epoch 28900 loss: 21.80796\n",
      "Epoch 29000 loss: 21.80777\n",
      "Epoch 29100 loss: 21.80759\n",
      "Epoch 29200 loss: 21.80742\n",
      "Epoch 29300 loss: 21.80725\n",
      "Epoch 29400 loss: 21.80709\n",
      "Epoch 29500 loss: 21.80692\n",
      "Epoch 29600 loss: 21.80677\n",
      "Epoch 29700 loss: 21.80661\n",
      "Epoch 29800 loss: 21.80646\n",
      "Epoch 29900 loss: 21.80631\n",
      "Epoch 30000 loss: 21.80617\n",
      "Epoch 30100 loss: 21.80603\n",
      "Epoch 30200 loss: 21.80589\n",
      "Epoch 30300 loss: 21.80576\n",
      "Epoch 30400 loss: 21.80563\n",
      "Epoch 30500 loss: 21.80550\n",
      "Epoch 30600 loss: 21.80538\n",
      "Epoch 30700 loss: 21.80526\n",
      "Epoch 30800 loss: 21.80514\n",
      "Epoch 30900 loss: 21.80502\n",
      "Epoch 31000 loss: 21.80491\n",
      "Epoch 31100 loss: 21.80480\n",
      "Epoch 31200 loss: 21.80469\n",
      "Epoch 31300 loss: 21.80459\n",
      "Epoch 31400 loss: 21.80449\n",
      "Epoch 31500 loss: 21.80439\n",
      "Epoch 31600 loss: 21.80429\n",
      "Epoch 31700 loss: 21.80419\n",
      "Epoch 31800 loss: 21.80410\n",
      "Epoch 31900 loss: 21.80401\n"
     ]
    },
    {
     "name": "stdout",
     "output_type": "stream",
     "text": [
      "Epoch 32000 loss: 21.80392\n",
      "Epoch 32100 loss: 21.80383\n",
      "Epoch 32200 loss: 21.80375\n",
      "Epoch 32300 loss: 21.80367\n",
      "Epoch 32400 loss: 21.80359\n",
      "Epoch 32500 loss: 21.80351\n",
      "Epoch 32600 loss: 21.80343\n",
      "Epoch 32700 loss: 21.80336\n",
      "Epoch 32800 loss: 21.80328\n",
      "Epoch 32900 loss: 21.80321\n",
      "Epoch 33000 loss: 21.80314\n",
      "Epoch 33100 loss: 21.80307\n",
      "Epoch 33200 loss: 21.80301\n",
      "Epoch 33300 loss: 21.80294\n",
      "Epoch 33400 loss: 21.80288\n",
      "Epoch 33500 loss: 21.80282\n",
      "Epoch 33600 loss: 21.80276\n",
      "Epoch 33700 loss: 21.80270\n",
      "Epoch 33800 loss: 21.80264\n",
      "Epoch 33900 loss: 21.80258\n",
      "Epoch 34000 loss: 21.80253\n",
      "Epoch 34100 loss: 21.80248\n",
      "Epoch 34200 loss: 21.80243\n",
      "Epoch 34300 loss: 21.80237\n",
      "Epoch 34400 loss: 21.80232\n",
      "Epoch 34500 loss: 21.80227\n",
      "Epoch 34600 loss: 21.80223\n",
      "Epoch 34700 loss: 21.80218\n",
      "Epoch 34800 loss: 21.80213\n",
      "Epoch 34900 loss: 21.80209\n",
      "Epoch 35000 loss: 21.80205\n",
      "Epoch 35100 loss: 21.80201\n",
      "Epoch 35200 loss: 21.80196\n",
      "Epoch 35300 loss: 21.80192\n",
      "Epoch 35400 loss: 21.80189\n",
      "Epoch 35500 loss: 21.80185\n",
      "Epoch 35600 loss: 21.80181\n",
      "Epoch 35700 loss: 21.80177\n",
      "Epoch 35800 loss: 21.80174\n",
      "Epoch 35900 loss: 21.80170\n",
      "Epoch 36000 loss: 21.80167\n",
      "Epoch 36100 loss: 21.80164\n",
      "Epoch 36200 loss: 21.80161\n",
      "Epoch 36300 loss: 21.80157\n",
      "Epoch 36400 loss: 21.80154\n",
      "Epoch 36500 loss: 21.80151\n",
      "Epoch 36600 loss: 21.80148\n",
      "Epoch 36700 loss: 21.80145\n",
      "Epoch 36800 loss: 21.80142\n",
      "Epoch 36900 loss: 21.80140\n",
      "Epoch 37000 loss: 21.80137\n",
      "Epoch 37100 loss: 21.80135\n",
      "Epoch 37200 loss: 21.80132\n",
      "Epoch 37300 loss: 21.80129\n",
      "Epoch 37400 loss: 21.80127\n",
      "Epoch 37500 loss: 21.80125\n",
      "Epoch 37600 loss: 21.80123\n",
      "Epoch 37700 loss: 21.80120\n",
      "Epoch 37800 loss: 21.80118\n",
      "Epoch 37900 loss: 21.80116\n",
      "Epoch 38000 loss: 21.80114\n",
      "Epoch 38100 loss: 21.80112\n",
      "Epoch 38200 loss: 21.80110\n",
      "Epoch 38300 loss: 21.80108\n",
      "Epoch 38400 loss: 21.80106\n",
      "Epoch 38500 loss: 21.80104\n",
      "Epoch 38600 loss: 21.80102\n",
      "Epoch 38700 loss: 21.80100\n",
      "Epoch 38800 loss: 21.80099\n",
      "Epoch 38900 loss: 21.80097\n",
      "Epoch 39000 loss: 21.80095\n",
      "Epoch 39100 loss: 21.80094\n",
      "Epoch 39200 loss: 21.80092\n",
      "Epoch 39300 loss: 21.80091\n",
      "Epoch 39400 loss: 21.80089\n",
      "Epoch 39500 loss: 21.80088\n",
      "Epoch 39600 loss: 21.80087\n",
      "Epoch 39700 loss: 21.80085\n",
      "Epoch 39800 loss: 21.80083\n",
      "Epoch 39900 loss: 21.80082\n",
      "Epoch 40000 loss: 21.80081\n",
      "Epoch 40100 loss: 21.80080\n",
      "Epoch 40200 loss: 21.80079\n",
      "Epoch 40300 loss: 21.80077\n",
      "Epoch 40400 loss: 21.80076\n",
      "Epoch 40500 loss: 21.80075\n",
      "Epoch 40600 loss: 21.80074\n",
      "Epoch 40700 loss: 21.80073\n",
      "Epoch 40800 loss: 21.80072\n",
      "Epoch 40900 loss: 21.80070\n",
      "Epoch 41000 loss: 21.80069\n",
      "Epoch 41100 loss: 21.80069\n",
      "Epoch 41200 loss: 21.80068\n",
      "Epoch 41300 loss: 21.80067\n",
      "Epoch 41400 loss: 21.80066\n",
      "Epoch 41500 loss: 21.80065\n",
      "Epoch 41600 loss: 21.80064\n",
      "Epoch 41700 loss: 21.80063\n",
      "Epoch 41800 loss: 21.80062\n",
      "Epoch 41900 loss: 21.80061\n",
      "Epoch 42000 loss: 21.80061\n",
      "Epoch 42100 loss: 21.80060\n",
      "Epoch 42200 loss: 21.80059\n",
      "Epoch 42300 loss: 21.80058\n",
      "Epoch 42400 loss: 21.80058\n",
      "Epoch 42500 loss: 21.80057\n",
      "Epoch 42600 loss: 21.80056\n",
      "Epoch 42700 loss: 21.80055\n",
      "Epoch 42800 loss: 21.80055\n",
      "Epoch 42900 loss: 21.80054\n",
      "Epoch 43000 loss: 21.80054\n",
      "Epoch 43100 loss: 21.80053\n",
      "Epoch 43200 loss: 21.80052\n",
      "Epoch 43300 loss: 21.80052\n",
      "Epoch 43400 loss: 21.80051\n",
      "Epoch 43500 loss: 21.80051\n",
      "Epoch 43600 loss: 21.80050\n",
      "Epoch 43700 loss: 21.80050\n",
      "Epoch 43800 loss: 21.80049\n",
      "Epoch 43900 loss: 21.80048\n",
      "Epoch 44000 loss: 21.80048\n",
      "Epoch 44100 loss: 21.80048\n",
      "Epoch 44200 loss: 21.80047\n",
      "Epoch 44300 loss: 21.80047\n",
      "Epoch 44400 loss: 21.80046\n",
      "Epoch 44500 loss: 21.80046\n",
      "Epoch 44600 loss: 21.80045\n",
      "Epoch 44700 loss: 21.80045\n",
      "Epoch 44800 loss: 21.80044\n",
      "Epoch 44900 loss: 21.80044\n",
      "Epoch 45000 loss: 21.80044\n",
      "Epoch 45100 loss: 21.80043\n",
      "Epoch 45200 loss: 21.80043\n",
      "Epoch 45300 loss: 21.80043\n",
      "Epoch 45400 loss: 21.80042\n",
      "Epoch 45500 loss: 21.80042\n",
      "Epoch 45600 loss: 21.80042\n",
      "Epoch 45700 loss: 21.80042\n",
      "Epoch 45800 loss: 21.80041\n",
      "Epoch 45900 loss: 21.80041\n",
      "Epoch 46000 loss: 21.80040\n",
      "Epoch 46100 loss: 21.80040\n",
      "Epoch 46200 loss: 21.80040\n",
      "Epoch 46300 loss: 21.80039\n",
      "Epoch 46400 loss: 21.80039\n",
      "Epoch 46500 loss: 21.80039\n",
      "Epoch 46600 loss: 21.80039\n",
      "Epoch 46700 loss: 21.80038\n",
      "Epoch 46800 loss: 21.80038\n",
      "Epoch 46900 loss: 21.80038\n",
      "Epoch 47000 loss: 21.80038\n",
      "Epoch 47100 loss: 21.80037\n",
      "Epoch 47200 loss: 21.80037\n",
      "Epoch 47300 loss: 21.80037\n",
      "Epoch 47400 loss: 21.80037\n",
      "Epoch 47500 loss: 21.80036\n",
      "Epoch 47600 loss: 21.80036\n",
      "Epoch 47700 loss: 21.80036\n",
      "Epoch 47800 loss: 21.80036\n",
      "Epoch 47900 loss: 21.80036\n",
      "Epoch 48000 loss: 21.80035\n",
      "Epoch 48100 loss: 21.80035\n",
      "Epoch 48200 loss: 21.80035\n",
      "Epoch 48300 loss: 21.80035\n",
      "Epoch 48400 loss: 21.80035\n",
      "Epoch 48500 loss: 21.80034\n",
      "Epoch 48600 loss: 21.80034\n",
      "Epoch 48700 loss: 21.80034\n",
      "Epoch 48800 loss: 21.80034\n",
      "Epoch 48900 loss: 21.80034\n",
      "Epoch 49000 loss: 21.80034\n",
      "Epoch 49100 loss: 21.80033\n",
      "Epoch 49200 loss: 21.80033\n",
      "Epoch 49300 loss: 21.80033\n",
      "Epoch 49400 loss: 21.80033\n",
      "Epoch 49500 loss: 21.80033\n",
      "Epoch 49600 loss: 21.80033\n",
      "Epoch 49700 loss: 21.80033\n",
      "Epoch 49800 loss: 21.80033\n",
      "Epoch 49900 loss: 21.80033\n"
     ]
    }
   ],
   "source": [
    "# 繰り返し計算メインループ\n",
    "\n",
    "for epoch in range(num_epochs):\n",
    "    \n",
    "    # 勾配値初期化\n",
    "    optimizer.zero_grad()\n",
    "\n",
    "    # 予測計算\n",
    "    outputs = net(inputs)\n",
    "  \n",
    "    # 誤差計算\n",
    "    # 「ディープラーニングの数学」に合わせて2で割った値を損失とした\n",
    "    loss = criterion(outputs, labels1) / 2.0\n",
    "\n",
    "    #勾配計算\n",
    "    loss.backward()\n",
    "\n",
    "    # 勾配降下法の適用\n",
    "    optimizer.step()\n",
    "\n",
    "    # 100回ごとに途中経過を記録する\n",
    "    if ( epoch % 100 == 0):\n",
    "        history = np.vstack((history, np.array([epoch, loss.item()])))\n",
    "        print(f'Epoch {epoch} loss: {loss.item():.5f}')"
   ]
  },
  {
   "cell_type": "markdown",
   "metadata": {
    "id": "UNDxax-lXpC2"
   },
   "source": [
    "# 5.9 結果確認"
   ]
  },
  {
   "cell_type": "code",
   "execution_count": 41,
   "metadata": {
    "colab": {
     "base_uri": "https://localhost:8080/"
    },
    "id": "kWRH7ExmjB8B",
    "outputId": "fc3d1134-3e5c-4a73-8758-d3d5bb67c487"
   },
   "outputs": [
    {
     "name": "stdout",
     "output_type": "stream",
     "text": [
      "損失関数初期値: 154.22493\n",
      "損失関数最終値: 21.80033\n"
     ]
    }
   ],
   "source": [
    "# 最終的な損失関数初期値、最終値\n",
    "\n",
    "print(f'損失関数初期値: {history[0,1]:.5f}')\n",
    "print(f'損失関数最終値: {history[-1,1]:.5f}')"
   ]
  },
  {
   "cell_type": "code",
   "execution_count": 43,
   "metadata": {
    "colab": {
     "base_uri": "https://localhost:8080/",
     "height": 415
    },
    "id": "LUh7GLCSfQNJ",
    "outputId": "ab0c555e-274d-418d-f106-5da20f842d8a"
   },
   "outputs": [
    {
     "name": "stdout",
     "output_type": "stream",
     "text": [
      "pdf-05-02.pdf\n"
     ]
    },
    {
     "data": {
      "application/pdf": "[encoded data removed]",
      "image/png": "[encoded data removed]",
      "text/plain": [
       "<Figure size 432x432 with 1 Axes>"
      ]
     },
     "metadata": {
      "needs_background": "light"
     },
     "output_type": "display_data"
    }
   ],
   "source": [
    "# 学習曲線の表示 (損失関数) \n",
    "# 最初の1つを除く\n",
    "\n",
    "plt.plot(history[1:,0], history[1:,1], 'b')\n",
    "plt.xlabel('繰り返し回数')\n",
    "plt.ylabel('損失関数値')\n",
    "plt.title('学習曲線(損失関数)')\n",
    "create_pdf(plt)\n",
    "plt.show()"
   ]
  },
  {
   "cell_type": "code",
   "execution_count": 44,
   "metadata": {
    "colab": {
     "base_uri": "https://localhost:8080/"
    },
    "id": "SboqNthnmTKf",
    "outputId": "51db70e8-a52c-49fe-bf86-5bc002c19eff"
   },
   "outputs": [
    {
     "name": "stdout",
     "output_type": "stream",
     "text": [
      "[[-2.2189]\n",
      " [45.2121]]\n"
     ]
    }
   ],
   "source": [
    "# 回帰直線の算出\n",
    "\n",
    "# xの最小値、最大値\n",
    "xse = np.array((x.min(), x.max())).reshape(-1,1)\n",
    "Xse = torch.tensor(xse).float()\n",
    "\n",
    "with torch.no_grad():\n",
    "  Yse = net(Xse)\n",
    "\n",
    "print(Yse.numpy())"
   ]
  },
  {
   "cell_type": "code",
   "execution_count": 46,
   "metadata": {
    "colab": {
     "base_uri": "https://localhost:8080/",
     "height": 413
    },
    "id": "JNynfK4pngwe",
    "outputId": "89eb98e3-0f8b-4a7a-e9fa-48488405123a"
   },
   "outputs": [
    {
     "name": "stdout",
     "output_type": "stream",
     "text": [
      "pdf-05-03.pdf\n"
     ]
    },
    {
     "data": {
      "application/pdf": "[encoded data removed]",
      "image/png": "[encoded data removed]",
      "text/plain": [
       "<Figure size 432x432 with 1 Axes>"
      ]
     },
     "metadata": {
      "needs_background": "light"
     },
     "output_type": "display_data"
    }
   ],
   "source": [
    "# 散布図と回帰直線の描画\n",
    "\n",
    "plt.scatter(x, yt, s=10, c='b')\n",
    "plt.xlabel('部屋数')\n",
    "plt.ylabel('価格')\n",
    "plt.plot(Xse.data, Yse.data, c='k')\n",
    "plt.title('散布図と回帰直線')\n",
    "plt.show()"
   ]
  },
  {
   "cell_type": "markdown",
   "metadata": {
    "id": "qwGTzOJbr8Hs"
   },
   "source": [
    "## 5.10 重回帰モデルへの拡張"
   ]
  },
  {
   "cell_type": "code",
   "execution_count": 47,
   "metadata": {
    "colab": {
     "base_uri": "https://localhost:8080/"
    },
    "id": "8gAZgC1GpjEV",
    "outputId": "e7b889ca-1aa7-448c-ca53-4cff3abdb1fb"
   },
   "outputs": [
    {
     "name": "stdout",
     "output_type": "stream",
     "text": [
      "(506, 2)\n",
      "[[6.575 4.98 ]\n",
      " [6.421 9.14 ]\n",
      " [7.185 4.03 ]\n",
      " [6.998 2.94 ]\n",
      " [7.147 5.33 ]]\n"
     ]
    }
   ],
   "source": [
    "# 列(LSTAT: 低所得者率)の追加\n",
    "\n",
    "x_add = x_org[:,feature_names == 'LSTAT']\n",
    "x2 = np.hstack((x, x_add))\n",
    "\n",
    "# shapeの表示\n",
    "print(x2.shape)\n",
    "\n",
    "# 入力データxの表示\n",
    "print(x2[:5,:])"
   ]
  },
  {
   "cell_type": "code",
   "execution_count": 48,
   "metadata": {
    "colab": {
     "base_uri": "https://localhost:8080/"
    },
    "id": "z99b-YPvsM5_",
    "outputId": "0ed960bc-139e-49ff-a12b-24c0124b8c75"
   },
   "outputs": [
    {
     "name": "stdout",
     "output_type": "stream",
     "text": [
      "2\n"
     ]
    }
   ],
   "source": [
    "# 今度は入力次元数=2\n",
    "\n",
    "n_input = x2.shape[1]\n",
    "print(n_input)\n",
    "\n",
    "# モデルインスタンスの生成\n",
    "net = Net(n_input, n_output)"
   ]
  },
  {
   "cell_type": "code",
   "execution_count": 45,
   "metadata": {
    "colab": {
     "base_uri": "https://localhost:8080/"
    },
    "id": "tvTwYb-gXpC5",
    "outputId": "152f19c7-f3c6-4ddc-b87f-8fff1b694bef"
   },
   "outputs": [
    {
     "name": "stdout",
     "output_type": "stream",
     "text": [
      "変数名: l1.weight\n",
      "変数値: tensor([[1., 1.]])\n",
      "変数名: l1.bias\n",
      "変数値: tensor([1.])\n"
     ]
    }
   ],
   "source": [
    "# モデル内のパラメータの確認\n",
    "# predict.weight が2次元に変わった\n",
    "\n",
    "for parameter in net.named_parameters():\n",
    "    print(f'変数名: {parameter[0]}')\n",
    "    print(f'変数値: {parameter[1].data}')"
   ]
  },
  {
   "cell_type": "code",
   "execution_count": 46,
   "metadata": {
    "colab": {
     "base_uri": "https://localhost:8080/"
    },
    "id": "5iBFb2A9s2K1",
    "outputId": "6b13c478-873b-450a-b54b-93a6b84d01d4"
   },
   "outputs": [
    {
     "name": "stdout",
     "output_type": "stream",
     "text": [
      "Net(\n",
      "  (l1): Linear(in_features=2, out_features=1, bias=True)\n",
      ")\n"
     ]
    }
   ],
   "source": [
    "# モデルの概要表示\n",
    "\n",
    "print(net)"
   ]
  },
  {
   "cell_type": "code",
   "execution_count": 47,
   "metadata": {
    "colab": {
     "base_uri": "https://localhost:8080/"
    },
    "id": "jwdT12mss60n",
    "outputId": "21ef37d6-72c3-48e5-f336-b725bdb3c280"
   },
   "outputs": [
    {
     "name": "stdout",
     "output_type": "stream",
     "text": [
      "----------------------------------------------------------------\n",
      "        Layer (type)               Output Shape         Param #\n",
      "================================================================\n",
      "            Linear-1                    [-1, 1]               3\n",
      "================================================================\n",
      "Total params: 3\n",
      "Trainable params: 3\n",
      "Non-trainable params: 0\n",
      "----------------------------------------------------------------\n",
      "Input size (MB): 0.00\n",
      "Forward/backward pass size (MB): 0.00\n",
      "Params size (MB): 0.00\n",
      "Estimated Total Size (MB): 0.00\n",
      "----------------------------------------------------------------\n"
     ]
    }
   ],
   "source": [
    "# モデルのサマリー表示\n",
    "\n",
    "from torchsummary import summary\n",
    "summary(net, (2,))"
   ]
  },
  {
   "cell_type": "code",
   "execution_count": 51,
   "metadata": {
    "id": "U3xw_jxTXpC5"
   },
   "outputs": [],
   "source": [
    "# 入力変数x2 のテンソル変数化 \n",
    "# labels, labels1は前のものをそのまま利用\n",
    "\n",
    "inputs = torch.tensor(x2).float()"
   ]
  },
  {
   "cell_type": "markdown",
   "metadata": {
    "id": "dGB9wkr-XpC6"
   },
   "source": [
    "### くり返し計算"
   ]
  },
  {
   "cell_type": "code",
   "execution_count": 52,
   "metadata": {
    "id": "8cyjWATHXpC6"
   },
   "outputs": [],
   "source": [
    "# 初期化処理\n",
    "\n",
    "# 学習率\n",
    "lr = 0.01\n",
    "\n",
    "# インスタンス生成　(パラメータ値初期化)\n",
    "net = Net(n_input, n_output)\n",
    "\n",
    "# 最適化アルゴリズム: 勾配降下法\n",
    "optimizer = optim.SGD(net.parameters(), lr=lr)\n",
    "\n",
    "# 損失関数： 最小二乗誤差\n",
    "criterion = nn.MSELoss()\n",
    "\n",
    "# 繰り返し回数\n",
    "num_epochs = 50000\n",
    "\n",
    "# 評価結果記録用 (損失関数値のみ記録)\n",
    "history = np.zeros((0,2))"
   ]
  },
  {
   "cell_type": "code",
   "execution_count": 53,
   "metadata": {
    "colab": {
     "base_uri": "https://localhost:8080/"
    },
    "id": "7rEh-tPpXpC6",
    "outputId": "55ed25a0-3cc3-4134-831a-7f2797d89fbc"
   },
   "outputs": [
    {
     "name": "stdout",
     "output_type": "stream",
     "text": [
      "Epoch 0 loss: 112.06398\n",
      "Epoch 100 loss: 3753882106129440213603373285376.00000\n",
      "Epoch 200 loss: inf\n",
      "Epoch 300 loss: nan\n",
      "Epoch 400 loss: nan\n",
      "Epoch 500 loss: nan\n",
      "Epoch 600 loss: nan\n",
      "Epoch 700 loss: nan\n",
      "Epoch 800 loss: nan\n",
      "Epoch 900 loss: nan\n",
      "Epoch 1000 loss: nan\n",
      "Epoch 1100 loss: nan\n",
      "Epoch 1200 loss: nan\n",
      "Epoch 1300 loss: nan\n",
      "Epoch 1400 loss: nan\n",
      "Epoch 1500 loss: nan\n",
      "Epoch 1600 loss: nan\n",
      "Epoch 1700 loss: nan\n",
      "Epoch 1800 loss: nan\n",
      "Epoch 1900 loss: nan\n",
      "Epoch 2000 loss: nan\n",
      "Epoch 2100 loss: nan\n",
      "Epoch 2200 loss: nan\n",
      "Epoch 2300 loss: nan\n",
      "Epoch 2400 loss: nan\n",
      "Epoch 2500 loss: nan\n",
      "Epoch 2600 loss: nan\n",
      "Epoch 2700 loss: nan\n",
      "Epoch 2800 loss: nan\n",
      "Epoch 2900 loss: nan\n",
      "Epoch 3000 loss: nan\n",
      "Epoch 3100 loss: nan\n",
      "Epoch 3200 loss: nan\n",
      "Epoch 3300 loss: nan\n",
      "Epoch 3400 loss: nan\n",
      "Epoch 3500 loss: nan\n",
      "Epoch 3600 loss: nan\n",
      "Epoch 3700 loss: nan\n",
      "Epoch 3800 loss: nan\n",
      "Epoch 3900 loss: nan\n",
      "Epoch 4000 loss: nan\n",
      "Epoch 4100 loss: nan\n",
      "Epoch 4200 loss: nan\n",
      "Epoch 4300 loss: nan\n",
      "Epoch 4400 loss: nan\n",
      "Epoch 4500 loss: nan\n",
      "Epoch 4600 loss: nan\n",
      "Epoch 4700 loss: nan\n",
      "Epoch 4800 loss: nan\n",
      "Epoch 4900 loss: nan\n",
      "Epoch 5000 loss: nan\n",
      "Epoch 5100 loss: nan\n",
      "Epoch 5200 loss: nan\n",
      "Epoch 5300 loss: nan\n",
      "Epoch 5400 loss: nan\n",
      "Epoch 5500 loss: nan\n",
      "Epoch 5600 loss: nan\n",
      "Epoch 5700 loss: nan\n",
      "Epoch 5800 loss: nan\n",
      "Epoch 5900 loss: nan\n",
      "Epoch 6000 loss: nan\n",
      "Epoch 6100 loss: nan\n",
      "Epoch 6200 loss: nan\n",
      "Epoch 6300 loss: nan\n",
      "Epoch 6400 loss: nan\n",
      "Epoch 6500 loss: nan\n",
      "Epoch 6600 loss: nan\n",
      "Epoch 6700 loss: nan\n",
      "Epoch 6800 loss: nan\n",
      "Epoch 6900 loss: nan\n",
      "Epoch 7000 loss: nan\n",
      "Epoch 7100 loss: nan\n",
      "Epoch 7200 loss: nan\n",
      "Epoch 7300 loss: nan\n",
      "Epoch 7400 loss: nan\n",
      "Epoch 7500 loss: nan\n",
      "Epoch 7600 loss: nan\n",
      "Epoch 7700 loss: nan\n",
      "Epoch 7800 loss: nan\n",
      "Epoch 7900 loss: nan\n",
      "Epoch 8000 loss: nan\n",
      "Epoch 8100 loss: nan\n",
      "Epoch 8200 loss: nan\n",
      "Epoch 8300 loss: nan\n",
      "Epoch 8400 loss: nan\n",
      "Epoch 8500 loss: nan\n",
      "Epoch 8600 loss: nan\n",
      "Epoch 8700 loss: nan\n",
      "Epoch 8800 loss: nan\n",
      "Epoch 8900 loss: nan\n",
      "Epoch 9000 loss: nan\n",
      "Epoch 9100 loss: nan\n",
      "Epoch 9200 loss: nan\n",
      "Epoch 9300 loss: nan\n",
      "Epoch 9400 loss: nan\n",
      "Epoch 9500 loss: nan\n",
      "Epoch 9600 loss: nan\n",
      "Epoch 9700 loss: nan\n",
      "Epoch 9800 loss: nan\n",
      "Epoch 9900 loss: nan\n",
      "Epoch 10000 loss: nan\n",
      "Epoch 10100 loss: nan\n",
      "Epoch 10200 loss: nan\n",
      "Epoch 10300 loss: nan\n",
      "Epoch 10400 loss: nan\n",
      "Epoch 10500 loss: nan\n",
      "Epoch 10600 loss: nan\n",
      "Epoch 10700 loss: nan\n",
      "Epoch 10800 loss: nan\n",
      "Epoch 10900 loss: nan\n",
      "Epoch 11000 loss: nan\n",
      "Epoch 11100 loss: nan\n",
      "Epoch 11200 loss: nan\n",
      "Epoch 11300 loss: nan\n",
      "Epoch 11400 loss: nan\n",
      "Epoch 11500 loss: nan\n",
      "Epoch 11600 loss: nan\n",
      "Epoch 11700 loss: nan\n",
      "Epoch 11800 loss: nan\n",
      "Epoch 11900 loss: nan\n",
      "Epoch 12000 loss: nan\n",
      "Epoch 12100 loss: nan\n",
      "Epoch 12200 loss: nan\n",
      "Epoch 12300 loss: nan\n",
      "Epoch 12400 loss: nan\n",
      "Epoch 12500 loss: nan\n",
      "Epoch 12600 loss: nan\n",
      "Epoch 12700 loss: nan\n",
      "Epoch 12800 loss: nan\n",
      "Epoch 12900 loss: nan\n",
      "Epoch 13000 loss: nan\n",
      "Epoch 13100 loss: nan\n",
      "Epoch 13200 loss: nan\n",
      "Epoch 13300 loss: nan\n",
      "Epoch 13400 loss: nan\n",
      "Epoch 13500 loss: nan\n",
      "Epoch 13600 loss: nan\n",
      "Epoch 13700 loss: nan\n",
      "Epoch 13800 loss: nan\n",
      "Epoch 13900 loss: nan\n",
      "Epoch 14000 loss: nan\n",
      "Epoch 14100 loss: nan\n",
      "Epoch 14200 loss: nan\n",
      "Epoch 14300 loss: nan\n",
      "Epoch 14400 loss: nan\n",
      "Epoch 14500 loss: nan\n",
      "Epoch 14600 loss: nan\n",
      "Epoch 14700 loss: nan\n",
      "Epoch 14800 loss: nan\n",
      "Epoch 14900 loss: nan\n",
      "Epoch 15000 loss: nan\n",
      "Epoch 15100 loss: nan\n",
      "Epoch 15200 loss: nan\n",
      "Epoch 15300 loss: nan\n",
      "Epoch 15400 loss: nan\n",
      "Epoch 15500 loss: nan\n",
      "Epoch 15600 loss: nan\n",
      "Epoch 15700 loss: nan\n",
      "Epoch 15800 loss: nan\n",
      "Epoch 15900 loss: nan\n",
      "Epoch 16000 loss: nan\n",
      "Epoch 16100 loss: nan\n",
      "Epoch 16200 loss: nan\n",
      "Epoch 16300 loss: nan\n",
      "Epoch 16400 loss: nan\n",
      "Epoch 16500 loss: nan\n",
      "Epoch 16600 loss: nan\n",
      "Epoch 16700 loss: nan\n",
      "Epoch 16800 loss: nan\n",
      "Epoch 16900 loss: nan\n",
      "Epoch 17000 loss: nan\n",
      "Epoch 17100 loss: nan\n",
      "Epoch 17200 loss: nan\n",
      "Epoch 17300 loss: nan\n",
      "Epoch 17400 loss: nan\n",
      "Epoch 17500 loss: nan\n",
      "Epoch 17600 loss: nan\n",
      "Epoch 17700 loss: nan\n",
      "Epoch 17800 loss: nan\n",
      "Epoch 17900 loss: nan\n",
      "Epoch 18000 loss: nan\n",
      "Epoch 18100 loss: nan\n",
      "Epoch 18200 loss: nan\n",
      "Epoch 18300 loss: nan\n",
      "Epoch 18400 loss: nan\n",
      "Epoch 18500 loss: nan\n",
      "Epoch 18600 loss: nan\n",
      "Epoch 18700 loss: nan\n",
      "Epoch 18800 loss: nan\n",
      "Epoch 18900 loss: nan\n",
      "Epoch 19000 loss: nan\n",
      "Epoch 19100 loss: nan\n",
      "Epoch 19200 loss: nan\n",
      "Epoch 19300 loss: nan\n",
      "Epoch 19400 loss: nan\n",
      "Epoch 19500 loss: nan\n",
      "Epoch 19600 loss: nan\n",
      "Epoch 19700 loss: nan\n",
      "Epoch 19800 loss: nan\n",
      "Epoch 19900 loss: nan\n",
      "Epoch 20000 loss: nan\n",
      "Epoch 20100 loss: nan\n",
      "Epoch 20200 loss: nan\n",
      "Epoch 20300 loss: nan\n",
      "Epoch 20400 loss: nan\n",
      "Epoch 20500 loss: nan\n",
      "Epoch 20600 loss: nan\n",
      "Epoch 20700 loss: nan\n",
      "Epoch 20800 loss: nan\n",
      "Epoch 20900 loss: nan\n",
      "Epoch 21000 loss: nan\n",
      "Epoch 21100 loss: nan\n",
      "Epoch 21200 loss: nan\n",
      "Epoch 21300 loss: nan\n",
      "Epoch 21400 loss: nan\n",
      "Epoch 21500 loss: nan\n",
      "Epoch 21600 loss: nan\n",
      "Epoch 21700 loss: nan\n",
      "Epoch 21800 loss: nan\n",
      "Epoch 21900 loss: nan\n",
      "Epoch 22000 loss: nan\n",
      "Epoch 22100 loss: nan\n",
      "Epoch 22200 loss: nan\n",
      "Epoch 22300 loss: nan\n",
      "Epoch 22400 loss: nan\n",
      "Epoch 22500 loss: nan\n",
      "Epoch 22600 loss: nan\n",
      "Epoch 22700 loss: nan\n",
      "Epoch 22800 loss: nan\n",
      "Epoch 22900 loss: nan\n",
      "Epoch 23000 loss: nan\n",
      "Epoch 23100 loss: nan\n",
      "Epoch 23200 loss: nan\n",
      "Epoch 23300 loss: nan\n",
      "Epoch 23400 loss: nan\n",
      "Epoch 23500 loss: nan\n",
      "Epoch 23600 loss: nan\n",
      "Epoch 23700 loss: nan\n",
      "Epoch 23800 loss: nan\n",
      "Epoch 23900 loss: nan\n",
      "Epoch 24000 loss: nan\n",
      "Epoch 24100 loss: nan\n",
      "Epoch 24200 loss: nan\n",
      "Epoch 24300 loss: nan\n",
      "Epoch 24400 loss: nan\n",
      "Epoch 24500 loss: nan\n",
      "Epoch 24600 loss: nan\n",
      "Epoch 24700 loss: nan\n",
      "Epoch 24800 loss: nan\n",
      "Epoch 24900 loss: nan\n",
      "Epoch 25000 loss: nan\n",
      "Epoch 25100 loss: nan\n",
      "Epoch 25200 loss: nan\n",
      "Epoch 25300 loss: nan\n",
      "Epoch 25400 loss: nan\n",
      "Epoch 25500 loss: nan\n",
      "Epoch 25600 loss: nan\n",
      "Epoch 25700 loss: nan\n",
      "Epoch 25800 loss: nan\n",
      "Epoch 25900 loss: nan\n",
      "Epoch 26000 loss: nan\n",
      "Epoch 26100 loss: nan\n",
      "Epoch 26200 loss: nan\n",
      "Epoch 26300 loss: nan\n",
      "Epoch 26400 loss: nan\n",
      "Epoch 26500 loss: nan\n",
      "Epoch 26600 loss: nan\n",
      "Epoch 26700 loss: nan\n",
      "Epoch 26800 loss: nan\n",
      "Epoch 26900 loss: nan\n",
      "Epoch 27000 loss: nan\n",
      "Epoch 27100 loss: nan\n",
      "Epoch 27200 loss: nan\n",
      "Epoch 27300 loss: nan\n",
      "Epoch 27400 loss: nan\n",
      "Epoch 27500 loss: nan\n",
      "Epoch 27600 loss: nan\n",
      "Epoch 27700 loss: nan\n",
      "Epoch 27800 loss: nan\n",
      "Epoch 27900 loss: nan\n",
      "Epoch 28000 loss: nan\n",
      "Epoch 28100 loss: nan\n",
      "Epoch 28200 loss: nan\n",
      "Epoch 28300 loss: nan\n",
      "Epoch 28400 loss: nan\n",
      "Epoch 28500 loss: nan\n",
      "Epoch 28600 loss: nan\n",
      "Epoch 28700 loss: nan\n",
      "Epoch 28800 loss: nan\n",
      "Epoch 28900 loss: nan\n",
      "Epoch 29000 loss: nan\n",
      "Epoch 29100 loss: nan\n",
      "Epoch 29200 loss: nan\n",
      "Epoch 29300 loss: nan\n",
      "Epoch 29400 loss: nan\n",
      "Epoch 29500 loss: nan\n",
      "Epoch 29600 loss: nan\n",
      "Epoch 29700 loss: nan\n",
      "Epoch 29800 loss: nan\n",
      "Epoch 29900 loss: nan\n",
      "Epoch 30000 loss: nan\n",
      "Epoch 30100 loss: nan\n",
      "Epoch 30200 loss: nan\n",
      "Epoch 30300 loss: nan\n",
      "Epoch 30400 loss: nan\n",
      "Epoch 30500 loss: nan\n",
      "Epoch 30600 loss: nan\n",
      "Epoch 30700 loss: nan\n",
      "Epoch 30800 loss: nan\n",
      "Epoch 30900 loss: nan\n",
      "Epoch 31000 loss: nan\n",
      "Epoch 31100 loss: nan\n",
      "Epoch 31200 loss: nan\n",
      "Epoch 31300 loss: nan\n",
      "Epoch 31400 loss: nan\n",
      "Epoch 31500 loss: nan\n",
      "Epoch 31600 loss: nan\n",
      "Epoch 31700 loss: nan\n",
      "Epoch 31800 loss: nan\n",
      "Epoch 31900 loss: nan\n",
      "Epoch 32000 loss: nan\n",
      "Epoch 32100 loss: nan\n",
      "Epoch 32200 loss: nan\n",
      "Epoch 32300 loss: nan\n",
      "Epoch 32400 loss: nan\n",
      "Epoch 32500 loss: nan\n",
      "Epoch 32600 loss: nan\n",
      "Epoch 32700 loss: nan\n",
      "Epoch 32800 loss: nan\n",
      "Epoch 32900 loss: nan\n",
      "Epoch 33000 loss: nan\n",
      "Epoch 33100 loss: nan\n",
      "Epoch 33200 loss: nan\n",
      "Epoch 33300 loss: nan\n",
      "Epoch 33400 loss: nan\n",
      "Epoch 33500 loss: nan\n",
      "Epoch 33600 loss: nan\n",
      "Epoch 33700 loss: nan\n",
      "Epoch 33800 loss: nan\n",
      "Epoch 33900 loss: nan\n",
      "Epoch 34000 loss: nan\n",
      "Epoch 34100 loss: nan\n",
      "Epoch 34200 loss: nan\n",
      "Epoch 34300 loss: nan\n",
      "Epoch 34400 loss: nan\n",
      "Epoch 34500 loss: nan\n",
      "Epoch 34600 loss: nan\n",
      "Epoch 34700 loss: nan\n",
      "Epoch 34800 loss: nan\n",
      "Epoch 34900 loss: nan\n",
      "Epoch 35000 loss: nan\n",
      "Epoch 35100 loss: nan\n",
      "Epoch 35200 loss: nan\n",
      "Epoch 35300 loss: nan\n",
      "Epoch 35400 loss: nan\n",
      "Epoch 35500 loss: nan\n",
      "Epoch 35600 loss: nan\n",
      "Epoch 35700 loss: nan\n",
      "Epoch 35800 loss: nan\n",
      "Epoch 35900 loss: nan\n",
      "Epoch 36000 loss: nan\n",
      "Epoch 36100 loss: nan\n",
      "Epoch 36200 loss: nan\n",
      "Epoch 36300 loss: nan\n",
      "Epoch 36400 loss: nan\n",
      "Epoch 36500 loss: nan\n",
      "Epoch 36600 loss: nan\n",
      "Epoch 36700 loss: nan\n",
      "Epoch 36800 loss: nan\n",
      "Epoch 36900 loss: nan\n",
      "Epoch 37000 loss: nan\n",
      "Epoch 37100 loss: nan\n",
      "Epoch 37200 loss: nan\n",
      "Epoch 37300 loss: nan\n",
      "Epoch 37400 loss: nan\n",
      "Epoch 37500 loss: nan\n"
     ]
    },
    {
     "name": "stdout",
     "output_type": "stream",
     "text": [
      "Epoch 37600 loss: nan\n",
      "Epoch 37700 loss: nan\n",
      "Epoch 37800 loss: nan\n",
      "Epoch 37900 loss: nan\n",
      "Epoch 38000 loss: nan\n",
      "Epoch 38100 loss: nan\n",
      "Epoch 38200 loss: nan\n",
      "Epoch 38300 loss: nan\n",
      "Epoch 38400 loss: nan\n",
      "Epoch 38500 loss: nan\n",
      "Epoch 38600 loss: nan\n",
      "Epoch 38700 loss: nan\n",
      "Epoch 38800 loss: nan\n",
      "Epoch 38900 loss: nan\n",
      "Epoch 39000 loss: nan\n",
      "Epoch 39100 loss: nan\n",
      "Epoch 39200 loss: nan\n",
      "Epoch 39300 loss: nan\n",
      "Epoch 39400 loss: nan\n",
      "Epoch 39500 loss: nan\n",
      "Epoch 39600 loss: nan\n",
      "Epoch 39700 loss: nan\n",
      "Epoch 39800 loss: nan\n",
      "Epoch 39900 loss: nan\n",
      "Epoch 40000 loss: nan\n",
      "Epoch 40100 loss: nan\n",
      "Epoch 40200 loss: nan\n",
      "Epoch 40300 loss: nan\n",
      "Epoch 40400 loss: nan\n",
      "Epoch 40500 loss: nan\n",
      "Epoch 40600 loss: nan\n",
      "Epoch 40700 loss: nan\n",
      "Epoch 40800 loss: nan\n",
      "Epoch 40900 loss: nan\n",
      "Epoch 41000 loss: nan\n",
      "Epoch 41100 loss: nan\n",
      "Epoch 41200 loss: nan\n",
      "Epoch 41300 loss: nan\n",
      "Epoch 41400 loss: nan\n",
      "Epoch 41500 loss: nan\n",
      "Epoch 41600 loss: nan\n",
      "Epoch 41700 loss: nan\n",
      "Epoch 41800 loss: nan\n",
      "Epoch 41900 loss: nan\n",
      "Epoch 42000 loss: nan\n",
      "Epoch 42100 loss: nan\n",
      "Epoch 42200 loss: nan\n",
      "Epoch 42300 loss: nan\n",
      "Epoch 42400 loss: nan\n",
      "Epoch 42500 loss: nan\n",
      "Epoch 42600 loss: nan\n",
      "Epoch 42700 loss: nan\n",
      "Epoch 42800 loss: nan\n",
      "Epoch 42900 loss: nan\n",
      "Epoch 43000 loss: nan\n",
      "Epoch 43100 loss: nan\n",
      "Epoch 43200 loss: nan\n",
      "Epoch 43300 loss: nan\n",
      "Epoch 43400 loss: nan\n",
      "Epoch 43500 loss: nan\n",
      "Epoch 43600 loss: nan\n",
      "Epoch 43700 loss: nan\n",
      "Epoch 43800 loss: nan\n",
      "Epoch 43900 loss: nan\n",
      "Epoch 44000 loss: nan\n",
      "Epoch 44100 loss: nan\n",
      "Epoch 44200 loss: nan\n",
      "Epoch 44300 loss: nan\n",
      "Epoch 44400 loss: nan\n",
      "Epoch 44500 loss: nan\n",
      "Epoch 44600 loss: nan\n",
      "Epoch 44700 loss: nan\n",
      "Epoch 44800 loss: nan\n",
      "Epoch 44900 loss: nan\n",
      "Epoch 45000 loss: nan\n",
      "Epoch 45100 loss: nan\n",
      "Epoch 45200 loss: nan\n",
      "Epoch 45300 loss: nan\n",
      "Epoch 45400 loss: nan\n",
      "Epoch 45500 loss: nan\n",
      "Epoch 45600 loss: nan\n",
      "Epoch 45700 loss: nan\n",
      "Epoch 45800 loss: nan\n",
      "Epoch 45900 loss: nan\n",
      "Epoch 46000 loss: nan\n",
      "Epoch 46100 loss: nan\n",
      "Epoch 46200 loss: nan\n",
      "Epoch 46300 loss: nan\n",
      "Epoch 46400 loss: nan\n",
      "Epoch 46500 loss: nan\n",
      "Epoch 46600 loss: nan\n",
      "Epoch 46700 loss: nan\n",
      "Epoch 46800 loss: nan\n",
      "Epoch 46900 loss: nan\n",
      "Epoch 47000 loss: nan\n",
      "Epoch 47100 loss: nan\n",
      "Epoch 47200 loss: nan\n",
      "Epoch 47300 loss: nan\n",
      "Epoch 47400 loss: nan\n",
      "Epoch 47500 loss: nan\n",
      "Epoch 47600 loss: nan\n",
      "Epoch 47700 loss: nan\n",
      "Epoch 47800 loss: nan\n",
      "Epoch 47900 loss: nan\n",
      "Epoch 48000 loss: nan\n",
      "Epoch 48100 loss: nan\n",
      "Epoch 48200 loss: nan\n",
      "Epoch 48300 loss: nan\n",
      "Epoch 48400 loss: nan\n",
      "Epoch 48500 loss: nan\n",
      "Epoch 48600 loss: nan\n",
      "Epoch 48700 loss: nan\n",
      "Epoch 48800 loss: nan\n",
      "Epoch 48900 loss: nan\n",
      "Epoch 49000 loss: nan\n",
      "Epoch 49100 loss: nan\n",
      "Epoch 49200 loss: nan\n",
      "Epoch 49300 loss: nan\n",
      "Epoch 49400 loss: nan\n",
      "Epoch 49500 loss: nan\n",
      "Epoch 49600 loss: nan\n",
      "Epoch 49700 loss: nan\n",
      "Epoch 49800 loss: nan\n",
      "Epoch 49900 loss: nan\n"
     ]
    }
   ],
   "source": [
    "# 繰り返し計算メインループ\n",
    "\n",
    "for epoch in range(num_epochs):\n",
    "    \n",
    "    # 勾配値初期化\n",
    "    optimizer.zero_grad()\n",
    "\n",
    "    # 予測計算\n",
    "    outputs = net(inputs)\n",
    "  \n",
    "    # 誤差計算\n",
    "    # 「ディープラーニングの数学」に合わせて2で割った値を損失とした\n",
    "    loss = criterion(outputs, labels1) / 2.0\n",
    "\n",
    "    #勾配計算\n",
    "    loss.backward()\n",
    "\n",
    "    # 勾配降下法の適用\n",
    "    optimizer.step()\n",
    "\n",
    "    # 100回ごとに途中経過を記録する\n",
    "    if ( epoch % 100 == 0):\n",
    "        history = np.vstack((history, np.array([epoch, loss.item()])))\n",
    "        print(f'Epoch {epoch} loss: {loss.item():.5f}')"
   ]
  },
  {
   "cell_type": "markdown",
   "metadata": {
    "id": "_SvyW5S2XpC6"
   },
   "source": [
    "## 5.11 学習率の変更"
   ]
  },
  {
   "cell_type": "code",
   "execution_count": 54,
   "metadata": {
    "id": "wt92VISFtaLj"
   },
   "outputs": [],
   "source": [
    "# 繰り返し回数\n",
    "#num_epochs = 50000\n",
    "num_epochs = 2000\n",
    "\n",
    "# 学習率\n",
    "#l r = 0.01\n",
    "lr = 0.001\n",
    "\n",
    "# モデルインスタンスの生成\n",
    "net = Net(n_input, n_output)\n",
    "\n",
    "# アルゴリズム: 勾配降下法\n",
    "optimizer = optim.SGD(net.parameters(), lr=lr)\n",
    "\n",
    "# 損失関数： 最小二乗誤差\n",
    "criterion = nn.MSELoss()"
   ]
  },
  {
   "cell_type": "code",
   "execution_count": 55,
   "metadata": {
    "colab": {
     "base_uri": "https://localhost:8080/"
    },
    "id": "tlAkM8K5t4XV",
    "outputId": "3c0e960f-4fef-494a-b64c-3b70bc036cb5"
   },
   "outputs": [
    {
     "name": "stdout",
     "output_type": "stream",
     "text": [
      "Epoch 0 loss: 112.06398\n",
      "Epoch 100 loss: 25.35892\n",
      "Epoch 200 loss: 16.39106\n",
      "Epoch 300 loss: 15.40302\n",
      "Epoch 400 loss: 15.29414\n",
      "Epoch 500 loss: 15.28211\n",
      "Epoch 600 loss: 15.28076\n",
      "Epoch 700 loss: 15.28059\n",
      "Epoch 800 loss: 15.28054\n",
      "Epoch 900 loss: 15.28051\n",
      "Epoch 1000 loss: 15.28048\n",
      "Epoch 1100 loss: 15.28046\n",
      "Epoch 1200 loss: 15.28043\n",
      "Epoch 1300 loss: 15.28040\n",
      "Epoch 1400 loss: 15.28037\n",
      "Epoch 1500 loss: 15.28034\n",
      "Epoch 1600 loss: 15.28031\n",
      "Epoch 1700 loss: 15.28028\n",
      "Epoch 1800 loss: 15.28026\n",
      "Epoch 1900 loss: 15.28023\n"
     ]
    }
   ],
   "source": [
    "# 繰り返し計算メインループ\n",
    "\n",
    "# 評価結果記録用 (損失関数値のみ記録)\n",
    "history = np.zeros((0,2))\n",
    "\n",
    "for epoch in range(num_epochs):\n",
    "    \n",
    "    # 勾配値初期化\n",
    "    optimizer.zero_grad()\n",
    "\n",
    "    # 予測\n",
    "    outputs = net(inputs)\n",
    "  \n",
    "    # 誤差計算\n",
    "    loss = criterion(outputs, labels1) / 2.0\n",
    "\n",
    "    #勾配計算\n",
    "    loss.backward()\n",
    "\n",
    "    # 勾配降下法の適用\n",
    "    optimizer.step()\n",
    "\n",
    "    # 100回ごとに途中経過を記録する\n",
    "    if ( epoch % 100 == 0):\n",
    "        history = np.vstack((history, np.array([epoch, loss.item()])))\n",
    "        print(f'Epoch {epoch} loss: {loss.item():.5f}')"
   ]
  },
  {
   "cell_type": "code",
   "execution_count": 56,
   "metadata": {
    "colab": {
     "base_uri": "https://localhost:8080/"
    },
    "id": "Y4UHX9Ast8Je",
    "outputId": "c9554d7b-964e-43d8-ddfc-362c6ad308d7"
   },
   "outputs": [
    {
     "name": "stdout",
     "output_type": "stream",
     "text": [
      "損失関数初期値: 112.06398\n",
      "損失関数最終値: 15.28023\n"
     ]
    }
   ],
   "source": [
    "# 最終的な損失関数初期値、最終値\n",
    "\n",
    "print(f'損失関数初期値: {history[0,1]:.5f}')\n",
    "print(f'損失関数最終値: {history[-1,1]:.5f}')"
   ]
  },
  {
   "cell_type": "code",
   "execution_count": 57,
   "metadata": {
    "colab": {
     "base_uri": "https://localhost:8080/",
     "height": 415
    },
    "id": "hYPtlO6wuCoy",
    "outputId": "ebfdbff3-e981-4b7a-d6e2-3d646da7e173",
    "scrolled": false
   },
   "outputs": [
    {
     "name": "stdout",
     "output_type": "stream",
     "text": [
      "pdf-05-04.pdf\n"
     ]
    },
    {
     "data": {
      "application/pdf": "[encoded data removed]",
      "image/png": "[encoded data removed]",
      "text/plain": [
       "<Figure size 432x432 with 1 Axes>"
      ]
     },
     "metadata": {
      "needs_background": "light"
     },
     "output_type": "display_data"
    }
   ],
   "source": [
    "# 学習曲線の表示 (損失関数)\n",
    "\n",
    "plt.plot(history[:,0], history[:,1], 'b')\n",
    "plt.xlabel('繰り返し回数')\n",
    "plt.ylabel('損失関数値')\n",
    "plt.title('学習曲線(損失関数)')\n",
    "plt.show()"
   ]
  },
  {
   "cell_type": "markdown",
   "metadata": {
    "id": "vdCZkluHXpC8"
   },
   "source": [
    "### 補足\n",
    "下記の解説をコラムにする??\n",
    "\n",
    "https://github.com/pytorch/pytorch/blob/v1.3.0/torch/nn/modules/module.py#L531"
   ]
  },
  {
   "cell_type": "code",
   "execution_count": null,
   "metadata": {
    "id": "j-CVGgMlXpC8"
   },
   "outputs": [],
   "source": []
  }
 ],
 "metadata": {
  "colab": {
   "collapsed_sections": [],
   "name": "ch04_regression.ipynb",
   "provenance": []
  },
  "kernelspec": {
   "display_name": "Python 3",
   "language": "python",
   "name": "python3"
  },
  "language_info": {
   "codemirror_mode": {
    "name": "ipython",
    "version": 3
   },
   "file_extension": ".py",
   "mimetype": "text/x-python",
   "name": "python",
   "nbconvert_exporter": "python",
   "pygments_lexer": "ipython3",
   "version": "3.8.5"
  }
 },
 "nbformat": 4,
 "nbformat_minor": 1
}
