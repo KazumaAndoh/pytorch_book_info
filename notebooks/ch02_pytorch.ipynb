{
 "cells": [
  {
   "cell_type": "markdown",
   "metadata": {},
   "source": [
    "# 2章 PyTorch入門"
   ]
  },
  {
   "cell_type": "code",
   "execution_count": 35,
   "metadata": {},
   "outputs": [],
   "source": [
    "# PDF印刷用\n",
    "from IPython.display import set_matplotlib_formats\n",
    "set_matplotlib_formats('png', 'pdf')\n",
    "\n",
    "try:\n",
    "    from google.colab import files\n",
    "except:\n",
    "    pass\n",
    "\n",
    "pdf_ind = 1\n",
    "pdf_base = 'pdf-02-'\n",
    "\n",
    "def create_pdf(plt):\n",
    "    global pdf_ind, pdf_base\n",
    "    fn = f'{pdf_base}{pdf_ind:02d}.pdf'\n",
    "    print(fn)\n",
    "    plt.savefig(fn)\n",
    "    try:\n",
    "        files.download(fn)\n",
    "    except:\n",
    "        pass\n",
    "    pdf_ind = pdf_ind + 1"
   ]
  },
  {
   "cell_type": "code",
   "execution_count": 4,
   "metadata": {},
   "outputs": [
    {
     "name": "stdout",
     "output_type": "stream",
     "text": [
      "Requirement already satisfied: six>=1.5 in /opt/anaconda3/lib/python3.8/site-packages (from python-dateutil>=2.1->matplotlib->japanize_matplotlib) (1.15.0)\n",
      "Requirement already satisfied: numpy in /opt/anaconda3/lib/python3.8/site-packages (from torch->torchviz) (1.19.2)\n"
     ]
    }
   ],
   "source": [
    "# 必要ライブラリの導入\n",
    "\n",
    "!pip install japanize_matplotlib | tail -n 1\n",
    "!pip install torchviz | tail -n 1"
   ]
  },
  {
   "cell_type": "code",
   "execution_count": 5,
   "metadata": {},
   "outputs": [],
   "source": [
    "# 必要ライブラリのインポート\n",
    "\n",
    "%matplotlib inline\n",
    "import numpy as np\n",
    "import matplotlib.pyplot as plt\n",
    "import japanize_matplotlib"
   ]
  },
  {
   "cell_type": "code",
   "execution_count": 6,
   "metadata": {},
   "outputs": [],
   "source": [
    "# デフォルトフォントサイズ変更\n",
    "plt.rcParams['font.size'] = 14\n",
    "\n",
    "# デフォルトグラフサイズ変更\n",
    "plt.rcParams['figure.figsize'] = (6,6)\n",
    "\n",
    "# デフォルトで方眼表示ON\n",
    "plt.rcParams['axes.grid'] = True"
   ]
  },
  {
   "cell_type": "markdown",
   "metadata": {},
   "source": [
    "## 2.2 テンソル"
   ]
  },
  {
   "cell_type": "markdown",
   "metadata": {},
   "source": [
    "### ライブラリインポート"
   ]
  },
  {
   "cell_type": "code",
   "execution_count": 7,
   "metadata": {
    "scrolled": true
   },
   "outputs": [],
   "source": [
    "# PyTorchライブラリ\n",
    "\n",
    "import torch"
   ]
  },
  {
   "cell_type": "markdown",
   "metadata": {},
   "source": [
    "### いろいろな階数のTensorを作る"
   ]
  },
  {
   "cell_type": "code",
   "execution_count": 8,
   "metadata": {},
   "outputs": [
    {
     "name": "stdout",
     "output_type": "stream",
     "text": [
      "<class 'torch.Tensor'>\n",
      "torch.float32\n"
     ]
    }
   ],
   "source": [
    "# 0階テンソル (スカラー)\n",
    "\n",
    "r0 = torch.tensor(1.0).float()\n",
    "\n",
    "# typeを調べる\n",
    "print(type(r0))\n",
    "\n",
    "# dtypeを調べる\n",
    "print(r0.dtype)"
   ]
  },
  {
   "cell_type": "code",
   "execution_count": 9,
   "metadata": {},
   "outputs": [
    {
     "name": "stdout",
     "output_type": "stream",
     "text": [
      "torch.Size([])\n",
      "tensor(1.)\n"
     ]
    }
   ],
   "source": [
    "# shapeを調べる\n",
    "print(r0.shape)\n",
    "\n",
    "# データを調べる\n",
    "print(r0.data)"
   ]
  },
  {
   "cell_type": "code",
   "execution_count": 10,
   "metadata": {},
   "outputs": [
    {
     "name": "stdout",
     "output_type": "stream",
     "text": [
      "(5,)\n",
      "torch.float32\n",
      "torch.Size([5])\n",
      "tensor([1., 2., 3., 4., 5.])\n"
     ]
    }
   ],
   "source": [
    "# 1階テンソル (ベクトル)\n",
    "\n",
    "# 1階のNumPy変数作成\n",
    "r1_np = np.array([1, 2, 3, 4, 5])\n",
    "print(r1_np.shape)\n",
    "\n",
    "# NumPyからテンソルに変換\n",
    "r1 = torch.tensor(r1_np).float()\n",
    "\n",
    "# dtypeを調べる\n",
    "print(r1.dtype)\n",
    "\n",
    "# shapeを調べる\n",
    "print(r1.shape)\n",
    "\n",
    "# データを調べる\n",
    "print(r1.data)"
   ]
  },
  {
   "cell_type": "code",
   "execution_count": 11,
   "metadata": {},
   "outputs": [
    {
     "name": "stdout",
     "output_type": "stream",
     "text": [
      "(2, 3)\n",
      "torch.Size([2, 3])\n",
      "tensor([[1., 5., 6.],\n",
      "        [4., 3., 2.]])\n"
     ]
    }
   ],
   "source": [
    "# 2階テンソル (行列)\n",
    "\n",
    "# 2階のNmPy変数作成\n",
    "r2_np = np.array([[1, 5, 6], [4, 3, 2]])\n",
    "print(r2_np.shape)\n",
    "\n",
    "# NumPyからテンソルに変換\n",
    "r2 = torch.tensor(r2_np).float()\n",
    "\n",
    "# shapeを調べる\n",
    "print(r2.shape)\n",
    "\n",
    "# データを調べる\n",
    "print(r2.data)"
   ]
  },
  {
   "cell_type": "code",
   "execution_count": 12,
   "metadata": {},
   "outputs": [
    {
     "name": "stdout",
     "output_type": "stream",
     "text": [
      "torch.Size([3, 2, 2])\n",
      "tensor([[[-0.1115,  0.1204],\n",
      "         [-0.3696, -0.2404]],\n",
      "\n",
      "        [[-1.1969,  0.2093],\n",
      "         [-0.9724, -0.7550]],\n",
      "\n",
      "        [[ 0.3239, -0.1085],\n",
      "         [ 0.2103, -0.3908]]])\n"
     ]
    }
   ],
   "source": [
    "# ３階テンソル\n",
    "\n",
    "# 乱数seedの初期化\n",
    "torch.manual_seed(123)\n",
    "\n",
    "# shape=[3,2,2]の正規分布変数テンソルを作る\n",
    "r3 = torch.randn((3, 2, 2))\n",
    "\n",
    "# shapeを調べる\n",
    "print(r3.shape)\n",
    "\n",
    "# データを調べる\n",
    "print(r3.data)"
   ]
  },
  {
   "cell_type": "code",
   "execution_count": 13,
   "metadata": {},
   "outputs": [
    {
     "name": "stdout",
     "output_type": "stream",
     "text": [
      "torch.Size([2, 3, 2, 2])\n",
      "tensor([[[[1., 1.],\n",
      "          [1., 1.]],\n",
      "\n",
      "         [[1., 1.],\n",
      "          [1., 1.]],\n",
      "\n",
      "         [[1., 1.],\n",
      "          [1., 1.]]],\n",
      "\n",
      "\n",
      "        [[[1., 1.],\n",
      "          [1., 1.]],\n",
      "\n",
      "         [[1., 1.],\n",
      "          [1., 1.]],\n",
      "\n",
      "         [[1., 1.],\n",
      "          [1., 1.]]]])\n"
     ]
    }
   ],
   "source": [
    "# 4階テンソル\n",
    "\n",
    "# shape=[2,3,2,2]の要素がすべて1のテンソルを作る\n",
    "r4 = torch.ones((2, 3, 2, 2))\n",
    "\n",
    "# shapeを調べる\n",
    "print(r4.shape)\n",
    "\n",
    "# データを調べる\n",
    "print(r4.data)"
   ]
  },
  {
   "cell_type": "markdown",
   "metadata": {},
   "source": [
    "### 整数型テンソルを作る"
   ]
  },
  {
   "cell_type": "code",
   "execution_count": 14,
   "metadata": {},
   "outputs": [
    {
     "name": "stdout",
     "output_type": "stream",
     "text": [
      "torch.int64\n",
      "tensor([1, 2, 3, 4, 5])\n"
     ]
    }
   ],
   "source": [
    "r5 = r1.long()\n",
    "\n",
    "# dtype　を確認\n",
    "print(r5.dtype)\n",
    "\n",
    "# 値を確認\n",
    "print(r5)"
   ]
  },
  {
   "cell_type": "markdown",
   "metadata": {},
   "source": [
    "### view関数"
   ]
  },
  {
   "cell_type": "code",
   "execution_count": 15,
   "metadata": {},
   "outputs": [
    {
     "name": "stdout",
     "output_type": "stream",
     "text": [
      "torch.Size([3, 4])\n",
      "tensor([[-0.1115,  0.1204, -0.3696, -0.2404],\n",
      "        [-1.1969,  0.2093, -0.9724, -0.7550],\n",
      "        [ 0.3239, -0.1085,  0.2103, -0.3908]])\n"
     ]
    }
   ],
   "source": [
    "# 2階化\n",
    "# 要素数に-1を指定すると、この数を自動調整する\n",
    "\n",
    "r6 = r3.view(3, -1)\n",
    "\n",
    "# shape確認\n",
    "print(r6.shape)\n",
    "\n",
    "# 値確認\n",
    "print(r6.data)"
   ]
  },
  {
   "cell_type": "code",
   "execution_count": 16,
   "metadata": {
    "scrolled": false
   },
   "outputs": [
    {
     "name": "stdout",
     "output_type": "stream",
     "text": [
      "torch.Size([12])\n",
      "tensor([-0.1115,  0.1204, -0.3696, -0.2404, -1.1969,  0.2093, -0.9724, -0.7550,\n",
      "         0.3239, -0.1085,  0.2103, -0.3908])\n"
     ]
    }
   ],
   "source": [
    "# 1階化\n",
    "# 要素数に-1を指定すると、この数を自動調整する\n",
    "\n",
    "r7 = r3.view(-1)\n",
    "\n",
    "# shape確認\n",
    "print(r7.shape)\n",
    "\n",
    "# 値確認\n",
    "print(r7.data)"
   ]
  },
  {
   "cell_type": "markdown",
   "metadata": {},
   "source": [
    "### それ以外の属性"
   ]
  },
  {
   "cell_type": "code",
   "execution_count": 17,
   "metadata": {},
   "outputs": [
    {
     "name": "stdout",
     "output_type": "stream",
     "text": [
      "requires_grad:  False\n",
      "device:  cpu\n"
     ]
    }
   ],
   "source": [
    "# requires_grad属性\n",
    "print('requires_grad: ', r1.requires_grad)\n",
    "\n",
    "# device属性\n",
    "print('device: ', r1.device)"
   ]
  },
  {
   "cell_type": "markdown",
   "metadata": {},
   "source": [
    "### item関数"
   ]
  },
  {
   "cell_type": "code",
   "execution_count": 18,
   "metadata": {
    "scrolled": false
   },
   "outputs": [
    {
     "name": "stdout",
     "output_type": "stream",
     "text": [
      "<class 'float'>\n",
      "1.0\n"
     ]
    }
   ],
   "source": [
    "# スカラーテンソル(0階テンソル)に対してはitem関数で値を取り出せる\n",
    "\n",
    "item = r0.item()\n",
    "\n",
    "print(type(item))\n",
    "print(item)"
   ]
  },
  {
   "cell_type": "code",
   "execution_count": 19,
   "metadata": {},
   "outputs": [
    {
     "ename": "ValueError",
     "evalue": "only one element tensors can be converted to Python scalars",
     "output_type": "error",
     "traceback": [
      "\u001b[0;31m---------------------------------------------------------------------------\u001b[0m",
      "\u001b[0;31mValueError\u001b[0m                                Traceback (most recent call last)",
      "\u001b[0;32m<ipython-input-19-282dd4a13d66>\u001b[0m in \u001b[0;36m<module>\u001b[0;34m\u001b[0m\n\u001b[1;32m      1\u001b[0m \u001b[0;31m# 0階以外のテンソルにitem関数は無効\u001b[0m\u001b[0;34m\u001b[0m\u001b[0;34m\u001b[0m\u001b[0;34m\u001b[0m\u001b[0m\n\u001b[1;32m      2\u001b[0m \u001b[0;34m\u001b[0m\u001b[0m\n\u001b[0;32m----> 3\u001b[0;31m \u001b[0mprint\u001b[0m\u001b[0;34m(\u001b[0m\u001b[0mr1\u001b[0m\u001b[0;34m.\u001b[0m\u001b[0mitem\u001b[0m\u001b[0;34m(\u001b[0m\u001b[0;34m)\u001b[0m\u001b[0;34m)\u001b[0m\u001b[0;34m\u001b[0m\u001b[0;34m\u001b[0m\u001b[0m\n\u001b[0m",
      "\u001b[0;31mValueError\u001b[0m: only one element tensors can be converted to Python scalars"
     ]
    }
   ],
   "source": [
    "# 0階以外のテンソルにitem関数は無効\n",
    "\n",
    "print(r1.item())"
   ]
  },
  {
   "cell_type": "code",
   "execution_count": 20,
   "metadata": {},
   "outputs": [
    {
     "name": "stdout",
     "output_type": "stream",
     "text": [
      "torch.Size([1])\n",
      "1.0\n"
     ]
    }
   ],
   "source": [
    "# 要素数が1つだけの1階テンソルはOK\n",
    "# (2階以上でも同様)\n",
    "t1 = torch.ones(1)\n",
    "\n",
    "# shape確認\n",
    "print(t1.shape)\n",
    "\n",
    "# item関数呼び出し\n",
    "print(t1.item())"
   ]
  },
  {
   "cell_type": "markdown",
   "metadata": {},
   "source": [
    "### max関数"
   ]
  },
  {
   "cell_type": "code",
   "execution_count": 21,
   "metadata": {},
   "outputs": [
    {
     "name": "stdout",
     "output_type": "stream",
     "text": [
      "tensor([[1., 5., 6.],\n",
      "        [4., 3., 2.]])\n",
      "tensor(6.)\n"
     ]
    }
   ],
   "source": [
    "# 元テンソルr2の確認\n",
    "print(r2)\n",
    "\n",
    "# max関数を引数なしで呼び出すと、全体の最大値が取得できる\n",
    "print(r2.max())"
   ]
  },
  {
   "cell_type": "code",
   "execution_count": 22,
   "metadata": {},
   "outputs": [
    {
     "name": "stdout",
     "output_type": "stream",
     "text": [
      "torch.return_types.max(\n",
      "values=tensor([6., 4.]),\n",
      "indices=tensor([2, 0]))\n"
     ]
    }
   ],
   "source": [
    "# torch.max関数\n",
    "# 2つめの引数はどの軸で集約するかを意味する\n",
    "print(torch.max(r2, 1))"
   ]
  },
  {
   "cell_type": "code",
   "execution_count": 23,
   "metadata": {},
   "outputs": [
    {
     "name": "stdout",
     "output_type": "stream",
     "text": [
      "tensor([2, 0])\n"
     ]
    }
   ],
   "source": [
    "# 何番目の要素が最大値をとるかは、indicesを調べればいい\n",
    "# 以下の計算は、多値分類で予測ラベルを求めるときによく利用されるパターン\n",
    "print(torch.max(r2, 1)[1])"
   ]
  },
  {
   "cell_type": "markdown",
   "metadata": {},
   "source": [
    "### NumPy変数への変換"
   ]
  },
  {
   "cell_type": "code",
   "execution_count": 24,
   "metadata": {},
   "outputs": [
    {
     "name": "stdout",
     "output_type": "stream",
     "text": [
      "<class 'numpy.ndarray'>\n",
      "[[1. 5. 6.]\n",
      " [4. 3. 2.]]\n"
     ]
    }
   ],
   "source": [
    "# NumPy化\n",
    "r2_np = r2.data.numpy()\n",
    "\n",
    "# type 確認\n",
    "print(type(r2_np))\n",
    "\n",
    "# 値確認\n",
    "print(r2_np)"
   ]
  },
  {
   "cell_type": "markdown",
   "metadata": {},
   "source": [
    "## 2.4 ２次関数の勾配計算"
   ]
  },
  {
   "cell_type": "markdown",
   "metadata": {},
   "source": [
    " ### データ準備"
   ]
  },
  {
   "cell_type": "code",
   "execution_count": 28,
   "metadata": {},
   "outputs": [
    {
     "name": "stdout",
     "output_type": "stream",
     "text": [
      "[-2.   -1.75 -1.5  -1.25 -1.   -0.75 -0.5  -0.25  0.    0.25  0.5   0.75\n",
      "  1.    1.25  1.5   1.75  2.  ]\n"
     ]
    }
   ],
   "source": [
    "# xをnumpy配列で定義\n",
    "x_np = np.arange(-2, 2.1, 0.25)\n",
    "\n",
    "# xの値表示\n",
    "print(x_np)"
   ]
  },
  {
   "cell_type": "code",
   "execution_count": 29,
   "metadata": {},
   "outputs": [
    {
     "name": "stdout",
     "output_type": "stream",
     "text": [
      "tensor([-2.0000, -1.7500, -1.5000, -1.2500, -1.0000, -0.7500, -0.5000, -0.2500,\n",
      "         0.0000,  0.2500,  0.5000,  0.7500,  1.0000,  1.2500,  1.5000,  1.7500,\n",
      "         2.0000], dtype=torch.float64, requires_grad=True)\n"
     ]
    }
   ],
   "source": [
    "# (1) 勾配計算用変数の定義\n",
    "\n",
    "# requires_grad = True とする\n",
    "x = torch.tensor(x_np, requires_grad=True)\n",
    "\n",
    "# 結果確認\n",
    "print(x)"
   ]
  },
  {
   "cell_type": "markdown",
   "metadata": {},
   "source": [
    "### ２次関数の計算"
   ]
  },
  {
   "cell_type": "code",
   "execution_count": 30,
   "metadata": {},
   "outputs": [],
   "source": [
    "# 2次関数の計算\n",
    "# 裏で計算グラフが自動生成される\n",
    "\n",
    "y = 2 * x**2 + 2"
   ]
  },
  {
   "cell_type": "markdown",
   "metadata": {},
   "source": [
    "$ y = 2x^2 + 2$ を意味する"
   ]
  },
  {
   "cell_type": "code",
   "execution_count": 31,
   "metadata": {},
   "outputs": [
    {
     "name": "stdout",
     "output_type": "stream",
     "text": [
      "tensor([10.0000,  8.1250,  6.5000,  5.1250,  4.0000,  3.1250,  2.5000,  2.1250,\n",
      "         2.0000,  2.1250,  2.5000,  3.1250,  4.0000,  5.1250,  6.5000,  8.1250,\n",
      "        10.0000], dtype=torch.float64, grad_fn=<AddBackward0>)\n"
     ]
    }
   ],
   "source": [
    "# yの計算結果確認\n",
    "\n",
    "print(y)"
   ]
  },
  {
   "cell_type": "code",
   "execution_count": 32,
   "metadata": {},
   "outputs": [
    {
     "name": "stdout",
     "output_type": "stream",
     "text": [
      "pdf-02-01.pdf\n"
     ]
    },
    {
     "data": {
      "application/pdf": "[encoded data removed]",
      "image/png": "[encoded data removed]",
      "text/plain": [
       "<Figure size 432x432 with 1 Axes>"
      ]
     },
     "metadata": {
      "needs_background": "light"
     },
     "output_type": "display_data"
    }
   ],
   "source": [
    "# グラフ(散布図)描画\n",
    "\n",
    "plt.plot(x.data, y.data)\n",
    "plt.xlabel('x')\n",
    "plt.ylabel('y')\n",
    "plt.title(r\"$y = 2x^2 + 2$\" + \"のグラフ\")\n",
    "plt.show()"
   ]
  },
  {
   "cell_type": "code",
   "execution_count": 33,
   "metadata": {},
   "outputs": [],
   "source": [
    "# 勾配計算のためには、最終値はスカラーの必要があるため、ダミーでsum関数をかける\n",
    "\n",
    "z = y.sum()"
   ]
  },
  {
   "cell_type": "code",
   "execution_count": 36,
   "metadata": {},
   "outputs": [
    {
     "data": {
      "image/svg+xml": [
       "<?xml version=\"1.0\" encoding=\"UTF-8\" standalone=\"no\"?>\n",
       "<!DOCTYPE svg PUBLIC \"-//W3C//DTD SVG 1.1//EN\"\n",
       " \"http://www.w3.org/Graphics/SVG/1.1/DTD/svg11.dtd\">\n",
       "<!-- Generated by graphviz version 2.36.0 (20140111.2315)\n",
       " -->\n",
       "<!-- Title: %3 Pages: 1 -->\n",
       "<svg width=\"100pt\" height=\"264pt\"\n",
       " viewBox=\"0.00 0.00 100.00 264.00\" xmlns=\"http://www.w3.org/2000/svg\" xmlns:xlink=\"http://www.w3.org/1999/xlink\">\n",
       "<g id=\"graph0\" class=\"graph\" transform=\"scale(1 1) rotate(0) translate(4 260)\">\n",
       "<title>%3</title>\n",
       "<polygon fill=\"white\" stroke=\"none\" points=\"-4,4 -4,-260 96,-260 96,4 -4,4\"/>\n",
       "<!-- 140573380658512 -->\n",
       "<g id=\"node1\" class=\"node\"><title>140573380658512</title>\n",
       "<polygon fill=\"#caff70\" stroke=\"black\" points=\"91.9905,-20 0.00948272,-20 0.00948272,-0 91.9905,-0 91.9905,-20\"/>\n",
       "<text text-anchor=\"middle\" x=\"46\" y=\"-6.4\" font-family=\"Times,serif\" font-size=\"12.00\">SumBackward0</text>\n",
       "</g>\n",
       "<!-- 140573380660864 -->\n",
       "<g id=\"node2\" class=\"node\"><title>140573380660864</title>\n",
       "<polygon fill=\"lightgrey\" stroke=\"black\" points=\"91.4823,-76 0.517678,-76 0.517678,-56 91.4823,-56 91.4823,-76\"/>\n",
       "<text text-anchor=\"middle\" x=\"46\" y=\"-62.4\" font-family=\"Times,serif\" font-size=\"12.00\">AddBackward0</text>\n",
       "</g>\n",
       "<!-- 140573380660864&#45;&gt;140573380658512 -->\n",
       "<g id=\"edge1\" class=\"edge\"><title>140573380660864&#45;&gt;140573380658512</title>\n",
       "<path fill=\"none\" stroke=\"black\" d=\"M46,-55.5939C46,-48.7024 46,-39.1024 46,-30.5741\"/>\n",
       "<polygon fill=\"black\" stroke=\"black\" points=\"49.5001,-30.2983 46,-20.2983 42.5001,-30.2983 49.5001,-30.2983\"/>\n",
       "</g>\n",
       "<!-- 140573381003200 -->\n",
       "<g id=\"node3\" class=\"node\"><title>140573381003200</title>\n",
       "<polygon fill=\"lightgrey\" stroke=\"black\" points=\"90.9876,-132 1.01237,-132 1.01237,-112 90.9876,-112 90.9876,-132\"/>\n",
       "<text text-anchor=\"middle\" x=\"46\" y=\"-118.4\" font-family=\"Times,serif\" font-size=\"12.00\">MulBackward0</text>\n",
       "</g>\n",
       "<!-- 140573381003200&#45;&gt;140573380660864 -->\n",
       "<g id=\"edge2\" class=\"edge\"><title>140573381003200&#45;&gt;140573380660864</title>\n",
       "<path fill=\"none\" stroke=\"black\" d=\"M46,-111.594C46,-104.702 46,-95.1024 46,-86.5741\"/>\n",
       "<polygon fill=\"black\" stroke=\"black\" points=\"49.5001,-86.2983 46,-76.2983 42.5001,-86.2983 49.5001,-86.2983\"/>\n",
       "</g>\n",
       "<!-- 140573381003104 -->\n",
       "<g id=\"node4\" class=\"node\"><title>140573381003104</title>\n",
       "<polygon fill=\"lightgrey\" stroke=\"black\" points=\"91.4884,-188 0.511633,-188 0.511633,-168 91.4884,-168 91.4884,-188\"/>\n",
       "<text text-anchor=\"middle\" x=\"46\" y=\"-174.4\" font-family=\"Times,serif\" font-size=\"12.00\">PowBackward0</text>\n",
       "</g>\n",
       "<!-- 140573381003104&#45;&gt;140573381003200 -->\n",
       "<g id=\"edge3\" class=\"edge\"><title>140573381003104&#45;&gt;140573381003200</title>\n",
       "<path fill=\"none\" stroke=\"black\" d=\"M46,-167.594C46,-160.702 46,-151.102 46,-142.574\"/>\n",
       "<polygon fill=\"black\" stroke=\"black\" points=\"49.5001,-142.298 46,-132.298 42.5001,-142.298 49.5001,-142.298\"/>\n",
       "</g>\n",
       "<!-- 140573381002768 -->\n",
       "<g id=\"node5\" class=\"node\"><title>140573381002768</title>\n",
       "<polygon fill=\"lightblue\" stroke=\"black\" points=\"73,-256 19,-256 19,-224 73,-224 73,-256\"/>\n",
       "<text text-anchor=\"middle\" x=\"46\" y=\"-242.4\" font-family=\"Times,serif\" font-size=\"12.00\">x</text>\n",
       "<text text-anchor=\"middle\" x=\"46\" y=\"-230.4\" font-family=\"Times,serif\" font-size=\"12.00\"> (17)</text>\n",
       "</g>\n",
       "<!-- 140573381002768&#45;&gt;140573381003104 -->\n",
       "<g id=\"edge4\" class=\"edge\"><title>140573381002768&#45;&gt;140573381003104</title>\n",
       "<path fill=\"none\" stroke=\"black\" d=\"M46,-223.859C46,-216.127 46,-206.631 46,-198.371\"/>\n",
       "<polygon fill=\"black\" stroke=\"black\" points=\"49.5001,-198.153 46,-188.154 42.5001,-198.154 49.5001,-198.153\"/>\n",
       "</g>\n",
       "</g>\n",
       "</svg>\n"
      ],
      "text/plain": [
       "<graphviz.dot.Digraph at 0x7fd9ca6bedc0>"
      ]
     },
     "execution_count": 36,
     "metadata": {},
     "output_type": "execute_result"
    }
   ],
   "source": [
    "# (3) 計算グラフの可視化\n",
    "\n",
    "# 必要ライブラリのインポート\n",
    "from torchviz import make_dot\n",
    "\n",
    "# 可視化関数の呼び出し\n",
    "g= make_dot(z, params={'x': x})\n",
    "g"
   ]
  },
  {
   "cell_type": "code",
   "execution_count": null,
   "metadata": {},
   "outputs": [],
   "source": [
    "g.render('pdf-02-xx', view=False)"
   ]
  },
  {
   "cell_type": "code",
   "execution_count": 37,
   "metadata": {},
   "outputs": [],
   "source": [
    "# (4) 勾配計算\n",
    "\n",
    "z.backward()"
   ]
  },
  {
   "cell_type": "code",
   "execution_count": 38,
   "metadata": {},
   "outputs": [
    {
     "name": "stdout",
     "output_type": "stream",
     "text": [
      "tensor([-8., -7., -6., -5., -4., -3., -2., -1.,  0.,  1.,  2.,  3.,  4.,  5.,\n",
      "         6.,  7.,  8.], dtype=torch.float64)\n"
     ]
    }
   ],
   "source": [
    "# (5) 勾配値の取得\n",
    "\n",
    "print(x.grad)"
   ]
  },
  {
   "cell_type": "code",
   "execution_count": 39,
   "metadata": {},
   "outputs": [
    {
     "name": "stdout",
     "output_type": "stream",
     "text": [
      "pdf-02-01.pdf\n"
     ]
    },
    {
     "data": {
      "application/pdf": "[encoded data removed]",
      "image/png": "[encoded data removed]",
      "text/plain": [
       "<Figure size 432x432 with 1 Axes>"
      ]
     },
     "metadata": {
      "needs_background": "light"
     },
     "output_type": "display_data"
    }
   ],
   "source": [
    "# 元の関数と勾配のグラフ化\n",
    "\n",
    "plt.plot(x.data, y.data, c='b', label='y')\n",
    "plt.plot(x.data, x.grad.data, c='k', label='y.grad')\n",
    "plt.legend()\n",
    "plt.show()"
   ]
  },
  {
   "cell_type": "markdown",
   "metadata": {},
   "source": [
    "元の関数が2次関数なので、勾配計算の結果が直線になるのは、妥当な結果"
   ]
  },
  {
   "cell_type": "markdown",
   "metadata": {},
   "source": [
    "ここでもう一度勾配計算をしてみる。"
   ]
  },
  {
   "cell_type": "code",
   "execution_count": 40,
   "metadata": {},
   "outputs": [
    {
     "name": "stdout",
     "output_type": "stream",
     "text": [
      "tensor([-16., -14., -12., -10.,  -8.,  -6.,  -4.,  -2.,   0.,   2.,   4.,   6.,\n",
      "          8.,  10.,  12.,  14.,  16.], dtype=torch.float64)\n"
     ]
    }
   ],
   "source": [
    "# 勾配の初期化せずに２度目の勾配計算\n",
    "\n",
    "y = 2 * x**2 + 2\n",
    "z = y.sum()\n",
    "z.backward()\n",
    "\n",
    "# xの勾配確認\n",
    "print(x.grad)"
   ]
  },
  {
   "cell_type": "markdown",
   "metadata": {},
   "source": [
    "勾配値は、勾配計算の結果がどんどん加算されてしまう。そのため新しい値を計算したい場合、勾配値のリセットが必要。"
   ]
  },
  {
   "cell_type": "code",
   "execution_count": 41,
   "metadata": {},
   "outputs": [
    {
     "name": "stdout",
     "output_type": "stream",
     "text": [
      "tensor([0., 0., 0., 0., 0., 0., 0., 0., 0., 0., 0., 0., 0., 0., 0., 0., 0.],\n",
      "       dtype=torch.float64)\n"
     ]
    }
   ],
   "source": [
    "# (6) 勾配の初期化は関数 zero_()を使う\n",
    "\n",
    "x.grad.zero_()\n",
    "print(x.grad)"
   ]
  },
  {
   "cell_type": "markdown",
   "metadata": {},
   "source": [
    "## 2.5 シグモイド関数の勾配計算"
   ]
  },
  {
   "cell_type": "markdown",
   "metadata": {},
   "source": [
    "シグモイド関数は数式で表すと次の形になるが今回はPyTorchで提供されている関数を利用する  \n",
    "$ y = \\dfrac{1}{1 + \\exp{(-x)}} $"
   ]
  },
  {
   "cell_type": "code",
   "execution_count": 49,
   "metadata": {},
   "outputs": [],
   "source": [
    "# シグモイド関数の定義\n",
    "sigmoid = torch.nn.Sigmoid()"
   ]
  },
  {
   "cell_type": "code",
   "execution_count": 50,
   "metadata": {},
   "outputs": [],
   "source": [
    "# (2) yの値の計算\n",
    "\n",
    "y = sigmoid(x)"
   ]
  },
  {
   "cell_type": "code",
   "execution_count": 51,
   "metadata": {},
   "outputs": [
    {
     "data": {
      "application/pdf": "[encoded data removed]",
      "image/png": "[encoded data removed]",
      "text/plain": [
       "<Figure size 432x432 with 1 Axes>"
      ]
     },
     "metadata": {
      "needs_background": "light"
     },
     "output_type": "display_data"
    }
   ],
   "source": [
    "# グラフ(散布図)描画\n",
    "\n",
    "plt.plot(x.data, y.data)\n",
    "plt.xlabel('x')\n",
    "plt.ylabel('y')\n",
    "plt.title('シグモイド関数のグラフ')\n",
    "plt.show()"
   ]
  },
  {
   "cell_type": "code",
   "execution_count": 52,
   "metadata": {},
   "outputs": [],
   "source": [
    "# 勾配計算のためには、最終値はスカラーの必要があるため、ダミーでsum関数をかける\n",
    "\n",
    "z = y.sum()"
   ]
  },
  {
   "cell_type": "code",
   "execution_count": 53,
   "metadata": {},
   "outputs": [
    {
     "data": {
      "image/svg+xml": [
       "<?xml version=\"1.0\" encoding=\"UTF-8\" standalone=\"no\"?>\n",
       "<!DOCTYPE svg PUBLIC \"-//W3C//DTD SVG 1.1//EN\"\n",
       " \"http://www.w3.org/Graphics/SVG/1.1/DTD/svg11.dtd\">\n",
       "<!-- Generated by graphviz version 2.36.0 (20140111.2315)\n",
       " -->\n",
       "<!-- Title: %3 Pages: 1 -->\n",
       "<svg width=\"112pt\" height=\"152pt\"\n",
       " viewBox=\"0.00 0.00 112.00 152.00\" xmlns=\"http://www.w3.org/2000/svg\" xmlns:xlink=\"http://www.w3.org/1999/xlink\">\n",
       "<g id=\"graph0\" class=\"graph\" transform=\"scale(1 1) rotate(0) translate(4 148)\">\n",
       "<title>%3</title>\n",
       "<polygon fill=\"white\" stroke=\"none\" points=\"-4,4 -4,-148 108,-148 108,4 -4,4\"/>\n",
       "<!-- 140573380580496 -->\n",
       "<g id=\"node1\" class=\"node\"><title>140573380580496</title>\n",
       "<polygon fill=\"#caff70\" stroke=\"black\" points=\"97.9905,-20 6.00948,-20 6.00948,-0 97.9905,-0 97.9905,-20\"/>\n",
       "<text text-anchor=\"middle\" x=\"52\" y=\"-6.4\" font-family=\"Times,serif\" font-size=\"12.00\">SumBackward0</text>\n",
       "</g>\n",
       "<!-- 140572272773536 -->\n",
       "<g id=\"node2\" class=\"node\"><title>140572272773536</title>\n",
       "<polygon fill=\"lightgrey\" stroke=\"black\" points=\"104.49,-76 -0.489716,-76 -0.489716,-56 104.49,-56 104.49,-76\"/>\n",
       "<text text-anchor=\"middle\" x=\"52\" y=\"-62.4\" font-family=\"Times,serif\" font-size=\"12.00\">SigmoidBackward</text>\n",
       "</g>\n",
       "<!-- 140572272773536&#45;&gt;140573380580496 -->\n",
       "<g id=\"edge1\" class=\"edge\"><title>140572272773536&#45;&gt;140573380580496</title>\n",
       "<path fill=\"none\" stroke=\"black\" d=\"M52,-55.5939C52,-48.7024 52,-39.1024 52,-30.5741\"/>\n",
       "<polygon fill=\"black\" stroke=\"black\" points=\"55.5001,-30.2983 52,-20.2983 48.5001,-30.2983 55.5001,-30.2983\"/>\n",
       "</g>\n",
       "<!-- 140573382205936 -->\n",
       "<g id=\"node3\" class=\"node\"><title>140573382205936</title>\n",
       "<polygon fill=\"lightblue\" stroke=\"black\" points=\"79,-144 25,-144 25,-112 79,-112 79,-144\"/>\n",
       "<text text-anchor=\"middle\" x=\"52\" y=\"-130.4\" font-family=\"Times,serif\" font-size=\"12.00\">x</text>\n",
       "<text text-anchor=\"middle\" x=\"52\" y=\"-118.4\" font-family=\"Times,serif\" font-size=\"12.00\"> (17)</text>\n",
       "</g>\n",
       "<!-- 140573382205936&#45;&gt;140572272773536 -->\n",
       "<g id=\"edge2\" class=\"edge\"><title>140573382205936&#45;&gt;140572272773536</title>\n",
       "<path fill=\"none\" stroke=\"black\" d=\"M52,-111.859C52,-104.127 52,-94.6313 52,-86.3709\"/>\n",
       "<polygon fill=\"black\" stroke=\"black\" points=\"55.5001,-86.1535 52,-76.1535 48.5001,-86.1535 55.5001,-86.1535\"/>\n",
       "</g>\n",
       "</g>\n",
       "</svg>\n"
      ],
      "text/plain": [
       "<graphviz.dot.Digraph at 0x7fd9ca6a1430>"
      ]
     },
     "execution_count": 53,
     "metadata": {},
     "output_type": "execute_result"
    }
   ],
   "source": [
    "# (3) 計算グラフの可視化\n",
    "\n",
    "g = make_dot(z, params={'x': x})\n",
    "g.render('pdf-02-xx', view=False)\n",
    "g"
   ]
  },
  {
   "cell_type": "code",
   "execution_count": 54,
   "metadata": {},
   "outputs": [
    {
     "name": "stdout",
     "output_type": "stream",
     "text": [
      "tensor([0.1050, 0.1261, 0.1491, 0.1731, 0.1966, 0.2179, 0.2350, 0.2461, 0.2500,\n",
      "        0.2461, 0.2350, 0.2179, 0.1966, 0.1731, 0.1491, 0.1261, 0.1050],\n",
      "       dtype=torch.float64)\n"
     ]
    }
   ],
   "source": [
    "# (4) 勾配計算\n",
    "z.backward()\n",
    "\n",
    "# (5) 勾配値の確認\n",
    "print(x.grad)"
   ]
  },
  {
   "cell_type": "code",
   "execution_count": 55,
   "metadata": {},
   "outputs": [
    {
     "name": "stdout",
     "output_type": "stream",
     "text": [
      "pdf-02-04.pdf\n"
     ]
    },
    {
     "data": {
      "application/pdf": "[encoded data removed]",
      "image/png": "[encoded data removed]",
      "text/plain": [
       "<Figure size 432x432 with 1 Axes>"
      ]
     },
     "metadata": {
      "needs_background": "light"
     },
     "output_type": "display_data"
    }
   ],
   "source": [
    "# 元の関数と勾配のグラフ化\n",
    "\n",
    "plt.plot(x.data, y.data, c='b', label='y')\n",
    "plt.plot(x.data, x.grad.data, c='k', label='y.grad')\n",
    "plt.legend()\n",
    "plt.show()"
   ]
  },
  {
   "cell_type": "markdown",
   "metadata": {},
   "source": [
    "シグモイド関数の勾配は、$y(1-y)$になる。  \n",
    "2次関数なので、$y=\\dfrac{1}{2}$の時(x=0の時)最大値$\\dfrac{1}{4}$を取る。  \n",
    "上のグラフは、この計算結果と一致している。  "
   ]
  },
  {
   "cell_type": "code",
   "execution_count": 56,
   "metadata": {},
   "outputs": [
    {
     "name": "stdout",
     "output_type": "stream",
     "text": [
      "tensor([0., 0., 0., 0., 0., 0., 0., 0., 0., 0., 0., 0., 0., 0., 0., 0., 0.],\n",
      "       dtype=torch.float64)\n"
     ]
    }
   ],
   "source": [
    "# (6) 勾配の初期化は関数 zero_()を使う\n",
    "\n",
    "x.grad.zero_()\n",
    "print(x.grad)"
   ]
  },
  {
   "cell_type": "markdown",
   "metadata": {},
   "source": [
    "## コラム\n",
    "シグモイド関数を独自に実装した場合"
   ]
  },
  {
   "cell_type": "code",
   "execution_count": 46,
   "metadata": {},
   "outputs": [],
   "source": [
    "# シグモイド関数の定義\n",
    "\n",
    "def sigmoid(x):\n",
    "    return(1/(1 + torch.exp(-x)))"
   ]
  },
  {
   "cell_type": "code",
   "execution_count": 47,
   "metadata": {},
   "outputs": [],
   "source": [
    "# (2) yの値の計算\n",
    "\n",
    "y = sigmoid(x)"
   ]
  },
  {
   "cell_type": "code",
   "execution_count": 48,
   "metadata": {},
   "outputs": [
    {
     "data": {
      "image/png": "[encoded data removed]",
      "text/plain": [
       "<Figure size 432x432 with 1 Axes>"
      ]
     },
     "metadata": {
      "needs_background": "light"
     },
     "output_type": "display_data"
    }
   ],
   "source": [
    "# グラフ(散布図)描画\n",
    "\n",
    "plt.plot(x.data, y.data)\n",
    "plt.xlabel('x')\n",
    "plt.ylabel('y')\n",
    "plt.title('シグモイド関数のグラフ')\n",
    "plt.show()"
   ]
  },
  {
   "cell_type": "code",
   "execution_count": 49,
   "metadata": {},
   "outputs": [],
   "source": [
    "# 勾配計算のためには、最終値はスカラーの必要があるため、ダミーでsum関数をかける\n",
    "\n",
    "z = y.sum()"
   ]
  },
  {
   "cell_type": "code",
   "execution_count": 50,
   "metadata": {},
   "outputs": [
    {
     "data": {
      "image/svg+xml": [
       "<?xml version=\"1.0\" encoding=\"UTF-8\" standalone=\"no\"?>\n",
       "<!DOCTYPE svg PUBLIC \"-//W3C//DTD SVG 1.1//EN\"\n",
       " \"http://www.w3.org/Graphics/SVG/1.1/DTD/svg11.dtd\">\n",
       "<!-- Generated by graphviz version 2.44.1 (20200629.0846)\n",
       " -->\n",
       "<!-- Pages: 1 -->\n",
       "<svg width=\"124pt\" height=\"384pt\"\n",
       " viewBox=\"0.00 0.00 124.00 384.00\" xmlns=\"http://www.w3.org/2000/svg\" xmlns:xlink=\"http://www.w3.org/1999/xlink\">\n",
       "<g id=\"graph0\" class=\"graph\" transform=\"scale(1 1) rotate(0) translate(4 380)\">\n",
       "<polygon fill=\"white\" stroke=\"transparent\" points=\"-4,4 -4,-380 120,-380 120,4 -4,4\"/>\n",
       "<!-- 140621258708880 -->\n",
       "<g id=\"node1\" class=\"node\">\n",
       "<title>140621258708880</title>\n",
       "<polygon fill=\"#caff70\" stroke=\"black\" points=\"104.5,-21 11.5,-21 11.5,0 104.5,0 104.5,-21\"/>\n",
       "<text text-anchor=\"middle\" x=\"58\" y=\"-7.4\" font-family=\"Times,serif\" font-size=\"12.00\">SumBackward0</text>\n",
       "</g>\n",
       "<!-- 140621256614288 -->\n",
       "<g id=\"node2\" class=\"node\">\n",
       "<title>140621256614288</title>\n",
       "<polygon fill=\"lightgrey\" stroke=\"black\" points=\"103.5,-78 12.5,-78 12.5,-57 103.5,-57 103.5,-78\"/>\n",
       "<text text-anchor=\"middle\" x=\"58\" y=\"-64.4\" font-family=\"Times,serif\" font-size=\"12.00\">MulBackward0</text>\n",
       "</g>\n",
       "<!-- 140621256614288&#45;&gt;140621258708880 -->\n",
       "<g id=\"edge1\" class=\"edge\">\n",
       "<title>140621256614288&#45;&gt;140621258708880</title>\n",
       "<path fill=\"none\" stroke=\"black\" d=\"M58,-56.92C58,-49.91 58,-40.14 58,-31.47\"/>\n",
       "<polygon fill=\"black\" stroke=\"black\" points=\"61.5,-31.34 58,-21.34 54.5,-31.34 61.5,-31.34\"/>\n",
       "</g>\n",
       "<!-- 140621256616464 -->\n",
       "<g id=\"node3\" class=\"node\">\n",
       "<title>140621256616464</title>\n",
       "<polygon fill=\"lightgrey\" stroke=\"black\" points=\"116,-135 0,-135 0,-114 116,-114 116,-135\"/>\n",
       "<text text-anchor=\"middle\" x=\"58\" y=\"-121.4\" font-family=\"Times,serif\" font-size=\"12.00\">ReciprocalBackward</text>\n",
       "</g>\n",
       "<!-- 140621256616464&#45;&gt;140621256614288 -->\n",
       "<g id=\"edge2\" class=\"edge\">\n",
       "<title>140621256616464&#45;&gt;140621256614288</title>\n",
       "<path fill=\"none\" stroke=\"black\" d=\"M58,-113.92C58,-106.91 58,-97.14 58,-88.47\"/>\n",
       "<polygon fill=\"black\" stroke=\"black\" points=\"61.5,-88.34 58,-78.34 54.5,-88.34 61.5,-88.34\"/>\n",
       "</g>\n",
       "<!-- 140621260049360 -->\n",
       "<g id=\"node4\" class=\"node\">\n",
       "<title>140621260049360</title>\n",
       "<polygon fill=\"lightgrey\" stroke=\"black\" points=\"104,-192 12,-192 12,-171 104,-171 104,-192\"/>\n",
       "<text text-anchor=\"middle\" x=\"58\" y=\"-178.4\" font-family=\"Times,serif\" font-size=\"12.00\">AddBackward0</text>\n",
       "</g>\n",
       "<!-- 140621260049360&#45;&gt;140621256616464 -->\n",
       "<g id=\"edge3\" class=\"edge\">\n",
       "<title>140621260049360&#45;&gt;140621256616464</title>\n",
       "<path fill=\"none\" stroke=\"black\" d=\"M58,-170.92C58,-163.91 58,-154.14 58,-145.47\"/>\n",
       "<polygon fill=\"black\" stroke=\"black\" points=\"61.5,-145.34 58,-135.34 54.5,-145.34 61.5,-145.34\"/>\n",
       "</g>\n",
       "<!-- 140621258510288 -->\n",
       "<g id=\"node5\" class=\"node\">\n",
       "<title>140621258510288</title>\n",
       "<polygon fill=\"lightgrey\" stroke=\"black\" points=\"100.5,-249 15.5,-249 15.5,-228 100.5,-228 100.5,-249\"/>\n",
       "<text text-anchor=\"middle\" x=\"58\" y=\"-235.4\" font-family=\"Times,serif\" font-size=\"12.00\">ExpBackward</text>\n",
       "</g>\n",
       "<!-- 140621258510288&#45;&gt;140621260049360 -->\n",
       "<g id=\"edge4\" class=\"edge\">\n",
       "<title>140621258510288&#45;&gt;140621260049360</title>\n",
       "<path fill=\"none\" stroke=\"black\" d=\"M58,-227.92C58,-220.91 58,-211.14 58,-202.47\"/>\n",
       "<polygon fill=\"black\" stroke=\"black\" points=\"61.5,-202.34 58,-192.34 54.5,-202.34 61.5,-202.34\"/>\n",
       "</g>\n",
       "<!-- 140621260049040 -->\n",
       "<g id=\"node6\" class=\"node\">\n",
       "<title>140621260049040</title>\n",
       "<polygon fill=\"lightgrey\" stroke=\"black\" points=\"101,-306 15,-306 15,-285 101,-285 101,-306\"/>\n",
       "<text text-anchor=\"middle\" x=\"58\" y=\"-292.4\" font-family=\"Times,serif\" font-size=\"12.00\">NegBackward</text>\n",
       "</g>\n",
       "<!-- 140621260049040&#45;&gt;140621258510288 -->\n",
       "<g id=\"edge5\" class=\"edge\">\n",
       "<title>140621260049040&#45;&gt;140621258510288</title>\n",
       "<path fill=\"none\" stroke=\"black\" d=\"M58,-284.92C58,-277.91 58,-268.14 58,-259.47\"/>\n",
       "<polygon fill=\"black\" stroke=\"black\" points=\"61.5,-259.34 58,-249.34 54.5,-259.34 61.5,-259.34\"/>\n",
       "</g>\n",
       "<!-- 140621258509520 -->\n",
       "<g id=\"node7\" class=\"node\">\n",
       "<title>140621258509520</title>\n",
       "<polygon fill=\"lightblue\" stroke=\"black\" points=\"85,-376 31,-376 31,-342 85,-342 85,-376\"/>\n",
       "<text text-anchor=\"middle\" x=\"58\" y=\"-362.4\" font-family=\"Times,serif\" font-size=\"12.00\">x</text>\n",
       "<text text-anchor=\"middle\" x=\"58\" y=\"-349.4\" font-family=\"Times,serif\" font-size=\"12.00\"> (17)</text>\n",
       "</g>\n",
       "<!-- 140621258509520&#45;&gt;140621260049040 -->\n",
       "<g id=\"edge6\" class=\"edge\">\n",
       "<title>140621258509520&#45;&gt;140621260049040</title>\n",
       "<path fill=\"none\" stroke=\"black\" d=\"M58,-341.84C58,-334.01 58,-324.54 58,-316.28\"/>\n",
       "<polygon fill=\"black\" stroke=\"black\" points=\"61.5,-316.04 58,-306.04 54.5,-316.04 61.5,-316.04\"/>\n",
       "</g>\n",
       "</g>\n",
       "</svg>\n"
      ],
      "text/plain": [
       "<graphviz.dot.Digraph at 0x7fe4f0291710>"
      ]
     },
     "execution_count": 50,
     "metadata": {},
     "output_type": "execute_result"
    }
   ],
   "source": [
    "# (3) 計算グラフの可視化\n",
    "\n",
    "params = {'x': x}\n",
    "make_dot(z, params=params)"
   ]
  },
  {
   "cell_type": "code",
   "execution_count": 51,
   "metadata": {},
   "outputs": [
    {
     "name": "stdout",
     "output_type": "stream",
     "text": [
      "tensor([0.1050, 0.1261, 0.1491, 0.1731, 0.1966, 0.2179, 0.2350, 0.2461, 0.2500,\n",
      "        0.2461, 0.2350, 0.2179, 0.1966, 0.1731, 0.1491, 0.1261, 0.1050],\n",
      "       dtype=torch.float64)\n"
     ]
    }
   ],
   "source": [
    "# (4) 勾配計算\n",
    "z.backward()\n",
    "\n",
    "# (5) 勾配値の確認\n",
    "print(x.grad)"
   ]
  },
  {
   "cell_type": "code",
   "execution_count": 52,
   "metadata": {},
   "outputs": [
    {
     "data": {
      "image/png": "[encoded data removed]",
      "text/plain": [
       "<Figure size 432x432 with 1 Axes>"
      ]
     },
     "metadata": {
      "needs_background": "light"
     },
     "output_type": "display_data"
    }
   ],
   "source": [
    "# 元の関数と勾配のグラフ化\n",
    "\n",
    "plt.plot(x.data, y.data, c='b', label='y')\n",
    "plt.plot(x.data, x.grad.data, c='k', label='y.grad')\n",
    "plt.legend()\n",
    "plt.show()"
   ]
  },
  {
   "cell_type": "code",
   "execution_count": null,
   "metadata": {},
   "outputs": [],
   "source": []
  }
 ],
 "metadata": {
  "kernelspec": {
   "display_name": "Python 3",
   "language": "python",
   "name": "python3"
  },
  "language_info": {
   "codemirror_mode": {
    "name": "ipython",
    "version": 3
   },
   "file_extension": ".py",
   "mimetype": "text/x-python",
   "name": "python",
   "nbconvert_exporter": "python",
   "pygments_lexer": "ipython3",
   "version": "3.8.5"
  }
 },
 "nbformat": 4,
 "nbformat_minor": 4
}
