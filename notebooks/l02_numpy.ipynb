{
 "cells": [
  {
   "cell_type": "markdown",
   "metadata": {},
   "source": [
    "## 講座2 NumPy入門"
   ]
  },
  {
   "cell_type": "markdown",
   "metadata": {},
   "source": [
    "### ライブラリインポート"
   ]
  },
  {
   "cell_type": "code",
   "execution_count": null,
   "metadata": {},
   "outputs": [],
   "source": [
    "# ライブラリのインポート\n",
    "import numpy as np\n",
    "\n",
    "# numpyの浮動小数点の表示精度\n",
    "np.set_printoptions(suppress=True, precision=5)"
   ]
  },
  {
   "cell_type": "markdown",
   "metadata": {},
   "source": [
    "### 定義"
   ]
  },
  {
   "cell_type": "markdown",
   "metadata": {},
   "source": [
    "#### array関数による定義"
   ]
  },
  {
   "cell_type": "code",
   "execution_count": null,
   "metadata": {},
   "outputs": [],
   "source": [
    "# array関数によるベクトル(1階配列)変数の定義\n",
    "n1 = np.array([1, 2, 3, 4, 5, 6, 7])\n",
    "\n",
    "# 結果確認\n",
    "print(n1)\n",
    "\n",
    "# 要素数確認\n",
    "print(n1.shape)\n",
    "\n",
    "# もう1つの方法\n",
    "print(len(n1))"
   ]
  },
  {
   "cell_type": "code",
   "execution_count": null,
   "metadata": {},
   "outputs": [],
   "source": [
    "# array関数による行列(2階配列)変数の定義\n",
    "n2 = np.array([\n",
    "    [1, 2, 3], \n",
    "    [4, 5, 6], \n",
    "    [7, 8, 9],\n",
    "    [10,11,12]\n",
    "])\n",
    "\n",
    "# 結果確認\n",
    "print(n2)\n",
    "\n",
    "# 要素数確認\n",
    "print(n2.shape)\n",
    "\n",
    "# もう1つの方法\n",
    "print(len(n2))"
   ]
  },
  {
   "cell_type": "markdown",
   "metadata": {},
   "source": [
    "#### zeros関数、ones関数などの利用"
   ]
  },
  {
   "cell_type": "code",
   "execution_count": null,
   "metadata": {},
   "outputs": [],
   "source": [
    "# zeros関数ですべての要素=0のベクトルを定義\n",
    "n3 = np.zeros(5)\n",
    "\n",
    "# 結果確認\n",
    "print(n3)\n",
    "\n",
    "# 要素数確認\n",
    "print(n3.shape)"
   ]
  },
  {
   "cell_type": "code",
   "execution_count": null,
   "metadata": {},
   "outputs": [],
   "source": [
    "# ones関数ですべての要素=1の行列を定義\n",
    "n4 = np.ones((2,3))\n",
    "\n",
    "# 結果確認\n",
    "print(n4)\n",
    "\n",
    "# 要素数確認\n",
    "print(n4.shape)"
   ]
  },
  {
   "cell_type": "code",
   "execution_count": null,
   "metadata": {},
   "outputs": [],
   "source": [
    "# すべての要素が正規分布変数の3階配列\n",
    "n5 = np.random.randn(2,3,4)\n",
    "\n",
    "# 結果確認\n",
    "print(n5)\n",
    "\n",
    "# 要素数確認\n",
    "print(n5.shape)"
   ]
  },
  {
   "cell_type": "markdown",
   "metadata": {},
   "source": [
    "#### グラフ描画用数値配列の生成"
   ]
  },
  {
   "cell_type": "code",
   "execution_count": null,
   "metadata": {},
   "outputs": [],
   "source": [
    "# linspace関数によるグラフ描画用数値配列\n",
    "\n",
    "# 等間隔に点を取る\n",
    "# 点の数が第3の引数\n",
    "# (植木算になる点に注意)\n",
    "n6 = np.linspace(-1, 1, 11)\n",
    "\n",
    "# 結果確認\n",
    "print(n6)"
   ]
  },
  {
   "cell_type": "code",
   "execution_count": null,
   "metadata": {},
   "outputs": [],
   "source": [
    "# arange関数によるグラフ描画用数値配列\n",
    "\n",
    "# 等間隔に点を取る\n",
    "# 間隔値が第3の引数\n",
    "# (第2引数はmaxでなく「未満」であることに注意)\n",
    "n7 = np.arange(-1, 1.2, 0.2)\n",
    "\n",
    "# 結果確認\n",
    "print(n7)"
   ]
  },
  {
   "cell_type": "markdown",
   "metadata": {},
   "source": [
    "### 操作"
   ]
  },
  {
   "cell_type": "markdown",
   "metadata": {},
   "source": [
    "#### 特定行・列の抽出"
   ]
  },
  {
   "cell_type": "code",
   "execution_count": null,
   "metadata": {},
   "outputs": [],
   "source": [
    "# 基の変数\n",
    "print(n2)\n",
    "\n",
    "# すべての行、0列を抽出\n",
    "n8 = n2[:,0]\n",
    "print(n8)"
   ]
  },
  {
   "cell_type": "code",
   "execution_count": null,
   "metadata": {},
   "outputs": [],
   "source": [
    "# 1行目と3行目を抽出\n",
    "# True / False の要素の配列で指定する\n",
    "n2_index = np.array([False, True, False, True])\n",
    "n9 = n2[n2_index]\n",
    "print(n9)"
   ]
  },
  {
   "cell_type": "markdown",
   "metadata": {},
   "source": [
    "#### reshape関数"
   ]
  },
  {
   "cell_type": "code",
   "execution_count": null,
   "metadata": {},
   "outputs": [],
   "source": [
    "# 初期変数 1階配列\n",
    "n10 = np.array(range(24))\n",
    "\n",
    "# 結果確認\n",
    "print(n10)"
   ]
  },
  {
   "cell_type": "code",
   "execution_count": null,
   "metadata": {},
   "outputs": [],
   "source": [
    "# 3x8の2階配列に変形\n",
    "n11 = n10.reshape(3,8)\n",
    "\n",
    "# 結果確認\n",
    "print(n11)"
   ]
  },
  {
   "cell_type": "code",
   "execution_count": null,
   "metadata": {},
   "outputs": [],
   "source": [
    "# -1を指定すると自動計算\n",
    "n12 = n10.reshape(2, -1, 4)\n",
    "\n",
    "# 結果確認\n",
    "print(n12.shape)"
   ]
  },
  {
   "cell_type": "code",
   "execution_count": null,
   "metadata": {},
   "outputs": [],
   "source": [
    "# ベクトルを1行n列の行列に変形\n",
    "\n",
    "# 基の変数(1階配列)\n",
    "print(n10.shape)\n",
    "\n",
    "# 変形\n",
    "n13 = n10.reshape(1, -1)\n",
    "\n",
    "# 結果確認\n",
    "print(n13.shape)"
   ]
  },
  {
   "cell_type": "markdown",
   "metadata": {},
   "source": [
    "#### 軸の入れ替え"
   ]
  },
  {
   "cell_type": "code",
   "execution_count": null,
   "metadata": {},
   "outputs": [],
   "source": [
    "# 転置行列\n",
    "print(n2)\n",
    "\n",
    "n14 = n2.T\n",
    "print(n14)"
   ]
  },
  {
   "cell_type": "code",
   "execution_count": null,
   "metadata": {},
   "outputs": [],
   "source": [
    "# 軸の順番を入れ替える\n",
    "\n",
    "# 基の変数\n",
    "print(n12.shape)\n",
    "print(n12)\n",
    "\n",
    "# 軸を(1,2,0)の順に入れ替える\n",
    "n15 = np.transpose(n12, (1, 2, 0))\n",
    "\n",
    "# 結果確認\n",
    "print(n15.shape)\n",
    "print(n15)"
   ]
  },
  {
   "cell_type": "markdown",
   "metadata": {},
   "source": [
    "#### 行列の連結"
   ]
  },
  {
   "cell_type": "code",
   "execution_count": null,
   "metadata": {},
   "outputs": [],
   "source": [
    "# 操作元の配列\n",
    "\n",
    "# 2行3列の行列\n",
    "n16 = np.array(range(1,7)).reshape(2,3)\n",
    "n17 = np.array(range(7,13)).reshape(2,3)\n",
    "\n",
    "# 3要素のベクトル\n",
    "n18 = np.array(range(14,17))\n",
    "\n",
    "# 2要素のベクトル\n",
    "n19 = np.array(range(17,19))\n",
    "\n",
    "print(n16)\n",
    "print(n17)\n",
    "print(n18)\n",
    "print(n19)"
   ]
  },
  {
   "cell_type": "code",
   "execution_count": null,
   "metadata": {},
   "outputs": [],
   "source": [
    "# 行列同士の縦連結\n",
    "n20 = np.vstack([n16, n17])\n",
    "print(n20)\n",
    "\n",
    "# 行列とベクトル間の縦連結\n",
    "n21 = np.vstack([n16, n18])\n",
    "print(n21)"
   ]
  },
  {
   "cell_type": "code",
   "execution_count": null,
   "metadata": {},
   "outputs": [],
   "source": [
    "# 行列同士の横連結\n",
    "n22 = np.hstack([n16, n17])\n",
    "print(n22)\n",
    "\n",
    "# 行列とベクトル間の横連結\n",
    "# ベクトルのshopeを(N, 1)形式にする\n",
    "n23 = n19.reshape(-1, 1)\n",
    "n24 = np.hstack([n16, n23])\n",
    "print(n24)"
   ]
  },
  {
   "cell_type": "markdown",
   "metadata": {},
   "source": [
    "### 演算"
   ]
  },
  {
   "cell_type": "markdown",
   "metadata": {},
   "source": [
    "#### NumPy変数間の演算"
   ]
  },
  {
   "cell_type": "code",
   "execution_count": null,
   "metadata": {},
   "outputs": [],
   "source": [
    "# 演算元変数\n",
    "print(n16)\n",
    "print(n17)\n",
    "\n",
    "# 行列間の演算\n",
    "n25 = n16 + n17\n",
    "\n",
    "# 結果の確認\n",
    "print(n25)"
   ]
  },
  {
   "cell_type": "markdown",
   "metadata": {},
   "source": [
    "#### ブロードキャスト機能"
   ]
  },
  {
   "cell_type": "code",
   "execution_count": null,
   "metadata": {},
   "outputs": [],
   "source": [
    "# ブロードキャスト機能\n",
    "\n",
    "# 演算元変数\n",
    "print(n1)\n",
    "\n",
    "# すべての要素から同じ値を引く\n",
    "n22 = n1 - 4\n",
    "\n",
    "# 結果確認\n",
    "print(n22)"
   ]
  },
  {
   "cell_type": "markdown",
   "metadata": {},
   "source": [
    "#### ユニバーサル関数"
   ]
  },
  {
   "cell_type": "code",
   "execution_count": null,
   "metadata": {},
   "outputs": [],
   "source": [
    "# xの配列の準備\n",
    "x = np.linspace(0, 2*np.pi, 25)\n",
    "print(x)\n",
    "\n",
    "# y=sin(x)の計算\n",
    "y = np.sin(x)\n",
    "print(y)"
   ]
  },
  {
   "cell_type": "markdown",
   "metadata": {},
   "source": [
    "#### 集約関数"
   ]
  },
  {
   "cell_type": "code",
   "execution_count": null,
   "metadata": {},
   "outputs": [],
   "source": [
    "# 集約関数\n",
    "\n",
    "print(f'元の変数: {n1}')\n",
    "\n",
    "# 和の計算 sum関数\n",
    "n23 = np.sum(n1)\n",
    "print(f'和: {n23}')\n",
    "\n",
    "# 平均の計算 mean関数\n",
    "n24 = np.mean(n1)\n",
    "print(f'平均: {n24}')\n",
    "\n",
    "# 最大の計算 max関数\n",
    "n25 = np.max(n1)\n",
    "print(f'最大値: {n25}')\n",
    "\n",
    "# 最小の計算 min関数\n",
    "# こういう書き方もできる\n",
    "n26 = n1.min()\n",
    "print(f'最小値: {n26}')"
   ]
  },
  {
   "cell_type": "markdown",
   "metadata": {},
   "source": [
    "### 応用例"
   ]
  },
  {
   "cell_type": "markdown",
   "metadata": {},
   "source": [
    "#### 2つの変数の一致数から精度計算"
   ]
  },
  {
   "cell_type": "code",
   "execution_count": null,
   "metadata": {},
   "outputs": [],
   "source": [
    "# 二つのNumPy配列の準備\n",
    "# 正解値\n",
    "yt = np.array([1, 1, 0, 1, 0, 1, 1, 0, 1, 1])\n",
    "# 予測値\n",
    "yp = np.array([1, 1, 0, 1, 0, 1, 1, 1, 1, 1])\n",
    "\n",
    "# 内容表示\n",
    "print(yt)\n",
    "print(yp)"
   ]
  },
  {
   "cell_type": "code",
   "execution_count": null,
   "metadata": {},
   "outputs": [],
   "source": [
    "# 配列の各要素を同時に比較する\n",
    "matched = (yt == yp)\n",
    "print(matched)"
   ]
  },
  {
   "cell_type": "code",
   "execution_count": null,
   "metadata": {},
   "outputs": [],
   "source": [
    "# 更にこの結果にsum関数をかける\n",
    "#.対象変数がブーリアン型の場合 True→1 False→0に変換される\n",
    "# 正解数のカウント方法\n",
    "correct = matched.sum()\n",
    "\n",
    "# 全体数はlen(n21)で計算可能\n",
    "total = len(n21)\n",
    "\n",
    "# 精度の計算\n",
    "accuracy = correct/total\n",
    "\n",
    "print(f'正解数:{correct} 全体数:{total} 精度:{accuracy:.3f}')"
   ]
  },
  {
   "cell_type": "markdown",
   "metadata": {},
   "source": [
    "#### ベクトルの数値を一次関数で変換して[0, 1]の範囲に収まるようにする"
   ]
  },
  {
   "cell_type": "code",
   "execution_count": null,
   "metadata": {},
   "outputs": [],
   "source": [
    "# すべての値を[0, 1]の範囲に入るように変換する\n",
    "\n",
    "# 元変数\n",
    "print(n1)\n",
    "\n",
    "# 最大値と最小値を集約関数で取得\n",
    "n1_max = n1.max()\n",
    "n1_min = n1.min()\n",
    "print(n1_max, n1_min)"
   ]
  },
  {
   "cell_type": "code",
   "execution_count": null,
   "metadata": {},
   "outputs": [],
   "source": [
    "# 変換(ブロードキャスト機能の利用)\n",
    "n27 = (n1 - n1_min) / (n1_max - n1_min)\n",
    "print(n27)"
   ]
  },
  {
   "cell_type": "markdown",
   "metadata": {},
   "source": [
    "#### ある条件を満たす行の抽出"
   ]
  },
  {
   "cell_type": "code",
   "execution_count": null,
   "metadata": {},
   "outputs": [],
   "source": [
    "# 「n2の0列が偶数」を判断\n",
    "\n",
    "# 元変数\n",
    "print(n2)\n",
    "\n",
    "n28 = n2[:,0] % 2 == 0\n",
    "\n",
    "# 結果確認\n",
    "print(n28)"
   ]
  },
  {
   "cell_type": "code",
   "execution_count": null,
   "metadata": {},
   "outputs": [],
   "source": [
    "# n28がTrueの行のみを抽出\n",
    "\n",
    "n29 = n2[n28]\n",
    "\n",
    "# 結果確認\n",
    "print(n29)"
   ]
  },
  {
   "cell_type": "code",
   "execution_count": null,
   "metadata": {},
   "outputs": [],
   "source": []
  }
 ],
 "metadata": {
  "kernelspec": {
   "display_name": "Python 3",
   "language": "python",
   "name": "python3"
  },
  "language_info": {
   "codemirror_mode": {
    "name": "ipython",
    "version": 3
   },
   "file_extension": ".py",
   "mimetype": "text/x-python",
   "name": "python",
   "nbconvert_exporter": "python",
   "pygments_lexer": "ipython3",
   "version": "3.8.5"
  }
 },
 "nbformat": 4,
 "nbformat_minor": 4
}
